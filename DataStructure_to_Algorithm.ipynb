{
  "nbformat": 4,
  "nbformat_minor": 0,
  "metadata": {
    "colab": {
      "provenance": [],
      "authorship_tag": "ABX9TyObSzGol9P/29O+mUxc9jH7"
    },
    "kernelspec": {
      "name": "python3",
      "display_name": "Python 3"
    },
    "language_info": {
      "name": "python"
    }
  },
  "cells": [
    {
      "cell_type": "code",
      "source": [
        "# 데이터 처리 모듈\n",
        "import pandas as pd\n",
        "# 행렬 등 통계 연산 모듈\n",
        "import numpy as np\n",
        "# 지수형 표기법 e를 연속형 변환\n",
        "# pd.options.display.float_format = '{:.4f}'.format\n",
        "# 타입 어노테이션(Any, Sequence 등의 메서드 활용)\n",
        "from typing import *\n",
        "\n",
        "# 구글 드라이브 마운트\n",
        "# from google.colab import drive\n",
        "# drive.mount(\"/content/drive\")\n",
        "import os\n",
        "import time"
      ],
      "metadata": {
        "id": "De7Kpxf6M1-W"
      },
      "execution_count": 3,
      "outputs": []
    },
    {
      "cell_type": "markdown",
      "source": [
        "### 클래스 연산자 오버로딩 메서드\n",
        "\n",
        "> Point Class\n",
        "> * `__add__`, `__sub__`, `__mul__`, `__mod__`(%), `__truediv__`(/), `__floordiv__`(//)\n",
        "> * `__iadd__`, `__isub__`, `__imul__`, `__imod__`, `__itruediv__`, `__ifloordiv__`\n",
        "> * `__lt__`(<), `__le__`(<=), `__gt__`(>), `__ge__`(>=), `__eq__`(==), `__ne__`(!=)\n",
        "> * dot(p, q) = 두 벡터 p, q의 내적 = p*x * q*x + p*y * q*y\n",
        "> * dist(p, q) = 두 점 p, q의 길이\n",
        "> * length(p) = 벡터 p의 길이\n",
        "> * move(p, dx, dy) = 점 p를 x축으로 dx만큼, y축으로 dy만큼 더해 이동\n",
        "\n",
        "> Vector Class\n",
        "> self._x와 같이 nonpublic 멤버변수는 import되지 않고 감춰지므로 좌표값을 참조하기 위해 magic method `__getitem__`, `__setitem__`을 사용\n",
        "> * `__getitem__`\n",
        "  self의 k번째 값을 리턴하는 매직 메서드\n",
        "> * `__setitem__`\n",
        "  self의 k번째 값에 value값을 대입하는 매직 메서드"
      ],
      "metadata": {
        "id": "jWHp4DPR0fVa"
      }
    },
    {
      "cell_type": "markdown",
      "source": [
        "### 알고리즘의 시간복잡도\n",
        "* 모든 입력에 대해 기본연산 횟수를 더한 후 평균 측정 : 현실적으로 불가능함\n",
        "* 가장 안 좋은(worst case input)에 대한 기본연산 횟수를 측정 : worst case time complexity\n",
        "\n",
        "```\n",
        "# Pseudo Code\n",
        "# 중첩 루프\n",
        "\n",
        "algorithm Sum(A, n):\n",
        "  sum = 0\n",
        "  for i = 0 to n-1 do:\n",
        "    for j = i to n-1 do:\n",
        "      sum += A[i] * A[j]\n",
        "  return sum\n",
        "```\n",
        "\n",
        "* 최악의 경우의 입력에 대하여 알고리즘의 기본연산, **복사, 산술, 비교, 논리, 비트논리**의 횟수를 센다\n",
        "\n",
        "| i | j | sum += A[i]*A[j] |\n",
        "| --- | --- | --- |\n",
        "| 0 | n | 1 + 2 + … + n |\n",
        "| 1 | n - 1 | = n(n+1)/2 * 3 |\n",
        "| 2 | n - 2 |  |\n",
        "| … | … |  |\n",
        "| n - 1 | 1 |  |\n",
        "\n",
        "* BigO Asymptotic Notation(근사적 표기법)\n",
        "  * n이 증가할 때 가장 빨리 증가하는 최고차항만 남기고 다른 항은 모두 생략\n",
        "  * 가장 빨리 증가하는 항에 곱해진 상수 역시 생략\n",
        "  * 남은 항을 O()안에 넣어 표기\n"
      ],
      "metadata": {
        "id": "XtsPMvS239u7"
      }
    },
    {
      "cell_type": "code",
      "execution_count": null,
      "metadata": {
        "id": "YK8pJ-Yw0Zfi"
      },
      "outputs": [],
      "source": [
        "# O(1) 시간 알고리즘\n",
        "# constant time algorithm\n",
        "# 값을 1 증가시킨 후 리턴\n",
        "def increment_one(n):\n",
        "  return n+1\n",
        "\n",
        "# O(log2n) 시간 알고리즘\n",
        "# logarithmic time algorithm\n",
        "# n을 이진수로 표현했을 때의 비트 수 계산 알고리즘\n",
        "# 몇번이 반복되는지 아는 것이 중요하다! n / 2^count = 1(count = log2n)\n",
        "def number_of_bits(n):\n",
        "  count = 0\n",
        "  while n > 0:\n",
        "    n = n // 2\n",
        "    count += 1\n",
        "  return count"
      ]
    },
    {
      "cell_type": "code",
      "source": [
        "increment_one(n = 100)"
      ],
      "metadata": {
        "colab": {
          "base_uri": "https://localhost:8080/"
        },
        "id": "wsvX8CZuKyQ-",
        "outputId": "db7f5f54-6ad0-41c7-c899-6d6a3e9cc6c7"
      },
      "execution_count": null,
      "outputs": [
        {
          "output_type": "execute_result",
          "data": {
            "text/plain": [
              "101"
            ]
          },
          "metadata": {},
          "execution_count": 6
        }
      ]
    },
    {
      "cell_type": "code",
      "source": [
        "number_of_bits(n = 100)"
      ],
      "metadata": {
        "colab": {
          "base_uri": "https://localhost:8080/"
        },
        "id": "CoasRSP-K0pV",
        "outputId": "44f7fcd7-5fc7-427a-c76b-406aa34cdb65"
      },
      "execution_count": null,
      "outputs": [
        {
          "output_type": "execute_result",
          "data": {
            "text/plain": [
              "7"
            ]
          },
          "metadata": {},
          "execution_count": 5
        }
      ]
    },
    {
      "cell_type": "code",
      "source": [
        "# O(n)\n",
        "# linear time algorithm\n",
        "# n개의 수 중 최댓값을 찾는 알고리즘\n",
        "\n",
        "# O(n^2) 시간 알고리즘\n",
        "# quadratic time algorithm\n",
        "# 두 배열 A, B의 모든 정수쌍의 곱의 합을 계산하는 알고리즘\n",
        "\n",
        "# Pseduo code\n",
        "def algorithm_array_sum(A, B, n):\n",
        "  sum = 0\n",
        "  for i in range(0, n, 1):\n",
        "    for j in range(0, n, 1):\n",
        "      sum += A[i] * B[j]\n",
        "  return sum\n",
        "\n",
        "# O(n^3) 시간 알고리즘\n",
        "# cubic time algorithm\n",
        "# n by n 2차원 행렬 A, B의 곱(행렬곱)을 계산한 결과 행렬 C를 리턴하는 알고리즘\n",
        "\n",
        "# Pseduo code\n",
        "def algorithm_mult_matrixs(A, B, n):\n",
        "  # A = np.array(n, n)\n",
        "  # B = np.array(m, m)\n",
        "    # input: n x n 2d matrixs A, B\n",
        "\n",
        "  C = np.array()\n",
        "  for i in range(1, n+1, 1):\n",
        "\t  for j in range(1, n+1, 1):\n",
        "\t    C[i][j] = 0\n",
        "  for i in range(1, n+1, 1):\n",
        "\t  for j in range(1, n+1, 1):\n",
        "\t    for k in range(1, n+1, 1):\n",
        "\t\t    C[i][j] += A[i][k] * B[k][j]\n",
        "\n",
        "  return C\n",
        "    # output: C = A x B"
      ],
      "metadata": {
        "id": "ywfiVzMkK2sA"
      },
      "execution_count": null,
      "outputs": []
    },
    {
      "cell_type": "code",
      "source": [
        "# O(n^2) 시간 알고리즘\n",
        "# exponential time algorithm\n",
        "# k번째 피보나치 수 계산하는 알고리즘\n",
        "def fibonacci(k):\n",
        "    if k <= 1:\n",
        "      return k\n",
        "    return fibonacci(k-1) + fibonacci(k-2)"
      ],
      "metadata": {
        "id": "RlWZ-RziMQRa"
      },
      "execution_count": null,
      "outputs": []
    },
    {
      "cell_type": "markdown",
      "source": [
        "```\n",
        "# 실행시간 측정 코드\n",
        "\n",
        "before = time.process_time()\n",
        "f()\n",
        "after = time.process_time()\n",
        "print(after - before)\n",
        "```"
      ],
      "metadata": {
        "id": "fcqi-mlzQ-d-"
      }
    },
    {
      "cell_type": "markdown",
      "source": [
        "### 파이썬 제공 기본 자료구조\n",
        "\n",
        "| 연번 | 자료구조 | 특성 |\n",
        "| --- | --- | --- |\n",
        "| 0 | 단순 배열 | 컴파일 단계에서 **크기가 지정되어 변경되지 않는** 크기의 배열 |\n",
        "| 1 | 동적 배열 | 프로그램 실행 단계에서 지정되며, **프로그램 실행 중에 크기를 변경할 수 있는** 배열 |\n",
        "| 2 | 구조체 배열 | 구조체로 배열 원소가 지정되는 배열 |\n",
        "| 3 | 연결형 리스트(linked list) | 확장성이 있으며, 단일연결형 또는 이중연결형으로 구성 가능함. 다양한 컨테이너 자료구조의 내부적인 자료구조로도 활용가능함. |\n",
        "| 4 | Stack | Last In First Out, 직전에 하려고한 행동을 기록해둠으로서 다음의 행동을 무엇을 해야할지 알려주는 자료구조. 명령간의 의존하는 순서(선행관계)가 있으면 사용함. 배열 또는 연결형 리스트로 구현가능함 |\n",
        "| 5 | Queue | First In First Out, 명령(상태)의 의존관계가 없어 병렬화에 사용함. 배열 또는 연결형 리스트로 구현가능함. |\n",
        "| 6 | 우선순위 큐(Priority Queue) | 컨테이너 내부에 가장 우선순위가 높은 데이터 항목을 추출할 수 있도록 관리함. 배열 또는 자기참조 구조체로 구현할 수 있음.(self-reference struct) |\n",
        "| 7 | 이진 탐색 트리 | 컨테이너 내부에 포함된 데이터 항목들을 정렬된 상태로 관리할 때 매우 효율적임. 단순 이진 탐색 트리의 경우 편중될 수 있으며, 편중된 경우 검색 기능이 저하되기 때문에 밸런싱이 필요함. |\n",
        "| 8 | 해시테이블(hash table) | 컨테이너 자료구조에 포함된 항목들을 문자열 또는 긴 숫자를 키로 사용하여 관리하여야 하며,** key로부터 해시값((hash value)을 구함. 이 해시값을 배열의 인덱스로** 사용함. |\n",
        "| 9 | Map | key와 항목 간에 **1:1관계가 유지**되어야 하는 경우에 사용되며, 해시테이블을 기반으로 구현가능함. |\n",
        "| 10 | Dictionary | key와 항목 간에 **1:N관계가 유지**되어야 하는 경우에 사용되며, 해시테이블을 기반으로 구현가능함. |\n",
        "| 11 | trie | 텍스트 검색을 신속하게 처리하며, 예측 구문 제시, longest prefix matching 등에 활용함. |\n",
        "| 12 | Graph | 정점(vertex) 노드로 개체(object)가 표현되고, 간선(edge) 링크들을 사용하여 개체 간의 관계를 표현하는 경우 적합함. 그래프를 기반으로 경로 탐색, 최단거리 경로 탐색 신장트리(spanning tree) 탐색 등에 활용함. |\n",
        "\n",
        "* 자료구조 : 컴퓨터에서 다루는 데이터 형\n",
        "\n",
        "  1. 단순구조\n",
        "\n",
        "    2진수, 정수 및 실수, 문자 및 문자열\n",
        "\n",
        "    실제 사용에는 기본 자료형을 모아서 배열, 구조체, 클래스를 선언하여 사용\n",
        "  \n",
        "  2. 선형구조\n",
        "\n",
        "    리스트, 연결리스트(단순연결리스트, 이중연결리스트, 원형연결리스트), 데크, 스택, 큐\n",
        "  \n",
        "  3. 비선형구조\n",
        "\n",
        "    트리(일반트리, 이진트리), 그래프(방향그래프, 무방향그래프)\n",
        "  \n",
        "  4. 파일구조 : 자료를 저장하는 형태\n",
        "\n",
        "    순차 파일, 색인파일, 직접파일"
      ],
      "metadata": {
        "id": "p-hiQ_80gsV3"
      }
    },
    {
      "cell_type": "markdown",
      "source": [
        "### 연결리스트 자료구조 구현\n",
        "\n",
        "  컴퓨터 내부에서 활용할 수 있는 자료구조는 리스트와 연결리스트 방식 외에는 없음\n",
        "\n",
        "  연결리스트를 이용한 스택 구현 : 3개의 데이터를 가진 스택에 1개의 데이터를 추가하는 개념"
      ],
      "metadata": {
        "id": "2MT3_ByL0Gon"
      }
    },
    {
      "cell_type": "code",
      "source": [
        "class Node:\n",
        "  # 연결리스트를 구성하는 단위 데이터의 모습은 데이터 + 다음 데이터\n",
        "  def __init__(self, data = None, next = None):\n",
        "    self.data = data\n",
        "    self.next = next\n",
        "\n",
        "  def init():\n",
        "    # 연결리스트를 만든다. Node1 ~ Node4 그리고 연결 포인터 구성\n",
        "    global node1\n",
        "    node1 = Node(1)\n",
        "    node2 = Node(2)\n",
        "    node3 = Node(3)\n",
        "    node4 = Node(4)\n",
        "    node1.next = node2\n",
        "    node2.next = node3\n",
        "    node3.next = node4\n",
        "\n",
        "  def delete(del_data):\n",
        "    # 구성된 리스트에서 데이터를 지우고, 나머지를 연결한다.\n",
        "    global node1\n",
        "    pre_node = node1\n",
        "    next_node = pre_node.next\n",
        "\n",
        "    if pre_node.data == del_data:\n",
        "      node1 = next_node\n",
        "      del pre_node\n",
        "      return\n",
        "\n",
        "    while next_node:\n",
        "      if next_node.data == del_data:\n",
        "        pre_node.next = next_node.next\n",
        "        del next_node\n",
        "        break\n",
        "\n",
        "      pre_node = next_node\n",
        "      next_node = next_node.next\n",
        "\n",
        "  def insert(ins_data):\n",
        "    # 연결리스트에 데이터를 추가한다.\n",
        "    global node1\n",
        "    new_node = Node(ins_data)\n",
        "    new_node.next = node1\n",
        "    node1 = new_node\n",
        "\n",
        "  def print_list():\n",
        "    # 연결리스트 데이터를 반환한다.\n",
        "    global node1\n",
        "    node = node1\n",
        "    while node:\n",
        "      print(node.data)\n",
        "      node = node.next\n",
        "    print()"
      ],
      "metadata": {
        "id": "zmi2ViGfz-8T"
      },
      "execution_count": null,
      "outputs": []
    },
    {
      "cell_type": "code",
      "source": [
        "# LinkedList.py 실행\n",
        "\"\"\"\n",
        "def LinkedList():\n",
        "  init();\n",
        "  delete(2)\n",
        "  insert(\"9\")\n",
        "  print_list()\n",
        "\n",
        "LinkedList()\n",
        "\"\"\""
      ],
      "metadata": {
        "id": "f91nF47Oz-4v"
      },
      "execution_count": null,
      "outputs": []
    },
    {
      "cell_type": "markdown",
      "source": [
        "### 파이썬으로 구현한 스택 자료구조\n",
        "\n",
        "  사람이 사용하는 수식[중위 표기법]을 컴퓨터가 사용하는 수식(후위 표기법)으로 바꾸고, 이것을 연산하는 과정\n",
        "\n",
        "* 중위 표기법을 후위 표기법으로 변환하는 과정\n",
        "```\n",
        "K = ( (A * B) - (C / D) )\n",
        "K = [\"(\", \"(\", \"A\", \"*\", \"B\", \"-\", \"(\", \"C\", \"/\", \"D\", \")\", \")\"]\n",
        "\n",
        "  1. 처음 괄호 2개 \"((\"를 무시하고 \"A\"를 출력한다.\n",
        "  2. \"*\" 연산자를 PUSH하고 \"B\"를 출력한다.\n",
        "  3. \")\"를 만나게 되면(우선순위가 가장 높은 닫힌 괄호), \"*\"를 출력으로 이동한다.\n",
        "  4. \"-\" 연산자를 만나면 스택으로 이동한다. \"(\"를 만나면 무시하고, \"C\"를 만나면 출력한다.\n",
        "  5. \"/\" 연산자를 만나면 스택으로 이동한다. \"D\"를 만나면 출력한다.\n",
        "  6. \")\"를 만나면 스택의 값(\"/\")을 출력으로 이동한다. 또한, \")\"을 만나면 스택의 값(\"*\")을 출력으로 이동한다.\n",
        "```\n",
        "\n",
        "* 후위 표기법 표기 수식의 연산 과정 : 대부분의 프로그램들이 컴파일 과정을 통해 컴퓨터가 처리할 수 있는 형태로 바꾸게 된다.\n",
        "```\n",
        "K = AB*CD/-\n",
        "\n",
        "  1. \"A\"를 스택에 PUSH하고, \"B\"를 스택에 PUSH한다.\n",
        "  2. \"*\"를 스택에서 POP하고, \"A\"를 스택에서 POP한 다음에 \"*\" 연산한 결과(X)를 다시 스택에 넣는다.\n",
        "  3. \"C\", \"D\"를 만나면 이 값을 스택에 PUSH한다.\n",
        "  4. \"/\"을 만나면 \"C\", \"D\"를 POP한 후에 \"C/D\"연산을 수행한다.\n",
        "  5. \"-\"을 만나면 \"X\", \"Y\"를 POP한 후에 \"X-Y\"연산을 수행한다. 그리고 결과(Z)를 스택에 넣는다.\n",
        "```\n"
      ],
      "metadata": {
        "id": "L45Ixkb70M0D"
      }
    },
    {
      "cell_type": "code",
      "source": [
        "class Stack:\n",
        "\tdef __init__(self):\n",
        "\t\tself.items: List = []\n",
        "\n",
        "\tdef push(self, values):\n",
        "\t\tself.items.append(values)\n",
        "\n",
        "\tdef pop(self):\n",
        "\t\ttry:\n",
        "\t\t\treturn self.items.pop()\n",
        "\t\texcept IndexError:\n",
        "\t\t\tprint(\"Stack is empty.\")\n",
        "\n",
        "\tdef top(self):\n",
        "\t\t\"\"\"stack의 가장 위에 있는 정수를 return\"\"\"\n",
        "\t\ttry:\n",
        "\t\t\treturn self.items[-1]\n",
        "\t\texcept IndexError:\n",
        "\t\t\tprint(\"Stack is empty.\")\n",
        "\t\t\"\"\"\n",
        "\t\tif self.empty() == 1:\n",
        "\t\t\treturn\n",
        "\t\telse:\n",
        "\t\t\treturn self.items[-1]\n",
        "\t\t\"\"\"\n",
        "\n",
        "\tdef __len__(self):\n",
        "\t\treturn len(self.items)\n",
        "\n",
        "\t\"\"\"\n",
        "\tdef empty(self):\n",
        "\t\t\tif len(self.items) == 0:\n",
        "\t\t\t\treturn 1\n",
        "\t\t\telse:\n",
        "\t\t\t\treturn 0\n",
        "\t\"\"\""
      ],
      "metadata": {
        "id": "Fhm3nX1oz-zB"
      },
      "execution_count": null,
      "outputs": []
    },
    {
      "cell_type": "code",
      "source": [
        "S = Stack()\n",
        "parenthesesSequence: List = input()\n",
        "\n",
        "for p in parenthesesSequence:\n",
        "\tif p == \"(\":\n",
        "\t\tS.push(p)\n",
        "\telif p == \")\":\n",
        "\t\tS.pop()\n",
        "\t\t# 오른쪽 괄호가 더 많음\n",
        "\telse:\n",
        "\t\tprint(\"Not Allowed Symbol\")\n",
        "\n",
        "if len(S) > 0:\n",
        "\t# 왼쪽 괄호(열린 괄호)가 더 많은 것\n",
        "\t# 스택에 남은 원소가 있는 것\n",
        "\tprint(False)\n",
        "\t# return False\n",
        "else:\n",
        "\tprint(True)\n",
        "\t# return True"
      ],
      "metadata": {
        "id": "4UgRflg7z-xM"
      },
      "execution_count": null,
      "outputs": []
    },
    {
      "cell_type": "markdown",
      "source": [
        "### 파이썬으로 구현한 큐 자료구조(입력, 인덱싱(양방향 위치반환), 출력)\n",
        "\n",
        "* 큐의 용도\n",
        "\n",
        "  컴퓨터 안에 여러 개의 프로세스(프로그램의 실행흐름)가 수행 중인데, 새로운 프로세스가 수행되어야 하는 경우 **기존에 수행되던 프로세슷 중에 가장 먼저 메모리에 올라온 프로세스가 아웃되고, 새로운 프로세스를 메모리에 올리게 된다. 이 경우에 운영체제는 현재 수행 중인 프로세스를 큐의 형태로 관리**한다.\n",
        "\n",
        "  윈도우 운영체제를 사용하는 컴퓨터에서 수행 중인 프로그램에 이벤트(버튼 누르기, 윈도우 크기 조정, 메뉴 선택하기 등)가 발생하면, **발생한 이벤트가 큐에 저장되고, 수행중인 프로그램이 큐에 저장된 것을 앞에서부터 읽어와서 처리**한다. (선입선출)"
      ],
      "metadata": {
        "id": "xycMb_ALzDGG"
      }
    },
    {
      "cell_type": "code",
      "source": [
        "# from queue import Queue\n",
        "# from collections import deque\n",
        "\n",
        "class Queue:\n",
        "\tdef __init__(self):\n",
        "\t\tself.items: List = []\n",
        "\t\tself.front_index = 0\n",
        "\n",
        "\tdef enqueue(self, values):\n",
        "\t\tself.items.append(values)\n",
        "\n",
        "\tdef dequeue(self):\n",
        "\t\tif self.front_index == len(self.items):\n",
        "\t\t\tprint(\"Queue is empty.\")\n",
        "\t\telse:\n",
        "\t\t\tx = self.items[front_index]\n",
        "\t\t\tself.front_index += 1\n",
        "\t\t\t\t# 그 다음에 있는 원소\n",
        "\t\t\treturn x\n",
        "\t\t\t\t# 큐의 가장 앞에 있는 자료를 반환\n",
        "\n",
        "\tdef front(self):\n",
        "\t\t\"\"\"Queue의 가장 앞에 있는 정수를 return\"\"\"\n",
        "\t\ttry:\n",
        "\t\t\treturn self.items[0]\n",
        "\t\texcept IndexError:\n",
        "\t\t\tprint(\"Queue is empty.\")\n",
        "\n",
        "\tdef back(self):\n",
        "\t\t\"\"\"Queue의 가장 뒤에 있는 정수를 return\"\"\"\n",
        "\t\ttry:\n",
        "\t\t\treturn self.items[-1]\n",
        "\t\texcept IndexError:\n",
        "\t\t\tprint(\"Queue is empty.\")\n",
        "\n",
        "\tdef __len__(self):\n",
        "\t\treturn len(self.items)\n",
        "\n",
        "\t\"\"\"\n",
        "\tdef empty(self):\n",
        "\t\t\tif len(self.items) == 0:\n",
        "\t\t\t\treturn 1\n",
        "\t\t\telse:\n",
        "\t\t\t\treturn 0\n",
        "\t\"\"\""
      ],
      "metadata": {
        "id": "ZMheFQfg3DzB"
      },
      "execution_count": null,
      "outputs": []
    },
    {
      "cell_type": "markdown",
      "source": [
        "### 파이썬으로 구현한 이진트리 자료구조(입력, 검색, 삭제)\n",
        "\n",
        "* 트리란 임의의 노드에서 다른 노드로의 경로가 단 하나밖에 없는 자료구조\n",
        "\n",
        "  노드 중 단 하나의 루트 노드가 있고, 루트 노드에서 하위 노드들이 연결된 비선형 계층 구조, 운영체제의 파일 시스템에서 활용한다.\n",
        "\n",
        "* 이진 검색 트리 : 최대 2개의 자식 노드를 가질 수 있는 자료구조\n",
        "\n",
        "  왼쪽 서브 트리의 값은 루트의 값보다 작고, 오른쪽 서브 트리의 값은 루트보다 큰 값을 가지도록 구성하며, 주로 검색이 필요한 곳에 사용한다."
      ],
      "metadata": {
        "id": "H9TPhRKC0tkr"
      }
    },
    {
      "cell_type": "markdown",
      "source": [
        "### 파이썬으로 구현한 힙 : 트리 자료구조의 응용\n",
        "\n",
        "* 이진트리의 일종으로, 여러 개의 값 중에서 가장 큰 값이나 가장 작은 값을 빠르게 찾을 수 있도록 컴퓨터에서 프로세스가 만들어졌을 때 메모리를 할당하는 방법\n",
        "\n",
        "  최소 힙 : 부모 노드의 값이 항상 하위 노드의 값보다 작은 경우\n",
        "\n",
        "  최대 힙 : 부모 노드의 값이 항상 하위 노드의 값보다 큰 경우"
      ],
      "metadata": {
        "id": "v_ij5DGX3hXt"
      }
    },
    {
      "cell_type": "markdown",
      "source": [
        "### 파이썬 제공 기본 알고리즘 선택 기준\n",
        "\n",
        "문제를 해결하기에 가장 적절한 자료구조와 알고리즘을 구상\n",
        "\n",
        "| 연번 | 알고리즘 | 상황 |\n",
        "| --- | --- | --- |\n",
        "| 0 | 삽입 정렬 알고리즘 | 항목이 몇개 되지 않는다 |\n",
        "| 1 | 삽입 정렬 알고리즘 | 항목이 대부분 정렬되어 있다 |\n",
        "| 2 | 힙 정렬 알고리즘 | 최저 상황을 고려하여야 한다 |\n",
        "| 3 | 퀵 정렬 알고리즘 | 평균 정렬 결과가 필요하다 |\n",
        "| 4 | 버킷 정렬 알고리즘 | 항목을 조밀한 모집단에서 가져왔다 |\n",
        "| 5 | 삽입 정렬 알고리즘 | 가능한 짧은 코드를 선호한다 |"
      ],
      "metadata": {
        "id": "9WfsgwdZmQBe"
      }
    },
    {
      "cell_type": "markdown",
      "source": [
        "### 파이썬으로 구현한 그래프 자료구조\n",
        "\n",
        "  1. 그래프에 있는 데이터를 찾는 방법으로 \"깊이 우선 탐색\"과 \"너비 우선 탐색:이 사용된다.\n",
        "\n",
        "    * Depth First Search[깊이우선탐색] 시작 정점에서 한 방향으로 갈 수 있는 가장 먼 경로까지 탐색하다가 갈 곳이 없으면, 가장 마지막 만났던 부모 노드로 돌아와서 다른 방향으로 탐색하는 방법\n",
        "    * Breadth First Search(너비우선탐색] 시작 정점에서 인접한 모든 정점들을 우선 방문한 후 더 이상 방문하지 않은 정점이 없을 때까지 다시 시작점으로 해서 모든 정점들을 차례로 방문하는 방법\n",
        "  \n",
        "  2. 신장 트리\n",
        "\n",
        "    그래프 안의 모든 정점을 포함하는 트리이며, 모든 정점들이 연결되어 있어야 하고 사이클을 포함하지 않는다.\n",
        "\n",
        "  3. 최소 비용 신장 트리\n",
        "\n",
        "    가중치가 부여된 무방향 그래프에서 신장 트리 비용의 최소화를 구하는 방법\n",
        "\n",
        "    예를 들어, 최단 경로의 문제에서 그래프를 사용한다. 그래프에서 정점 a,b를 연결하는 경로 중 가중치의 합이 최소가 되는 경로를 찾는 방법을 말한다. 데이크스트라[Dijkstra] 알고리즘이 대표적이다.\n",
        "\n",
        "    * PRIM방법\n",
        "      - 시작하는 노드에 연결된 것 중 **가중치가 최소인 노드 선정**\n",
        "      - 선정된 노드에 연결된 것 중에 **가중치가 최소인 것을 선정**\n",
        "      - 이어진 노드에서 **최솟값을 계속 선정하는 방법**\n",
        "\n",
        "    * Kruskal방법\n",
        "      - **전체 그래프에서 최소 가중치를 선정**\n",
        "      - 그 다음 **최소 가중치를 가지는 것을 선정**\n",
        "      - 선정할 때 사이클을 구성하는 것이 있으면 제외하고 작업을 진행. 동일한 것이 여러 개 있으면 임의로 하나를 선정하여 진행"
      ],
      "metadata": {
        "id": "8xiX6Yja7_py"
      }
    },
    {
      "cell_type": "code",
      "source": [
        "# 노드의 형식을 정의하는 부분\n",
        "class Node(object):\n",
        "  # object *arg, *kwarg\n",
        "  def __init__(self, data = None):\n",
        "    self.data = data\n",
        "    self.left = self.right = None\n",
        "\n",
        "class BinarySearchTree(object):\n",
        "  def __init__(self):\n",
        "    self.root = None\n",
        "\n",
        "# 이진트리에 데이터를 넣는 부분\n",
        "  def insert(self, data: Any):\n",
        "    self.root = self._insert_value(self.root, data)\n",
        "    return self.root is not None\n",
        "\n",
        "  def _insert_value(self, node: Any, data: Any):\n",
        "    if node is None:\n",
        "      node = Node(data)\n",
        "\n",
        "    else:\n",
        "      if data <= node.data:\n",
        "        node.left = self._insert_value(node.left, data)\n",
        "      else: # data > node.data\n",
        "        node.right = self._insert_value(node.right, data)\n",
        "\n",
        "    return node\n",
        "\n",
        "# 이진트리에서 데이터를 찾는 부분\n",
        "  def find(self, key):\n",
        "    return self._find_value(self.root, key)\n",
        "\n",
        "  def _find_value(self, root: Any, key: Any):\n",
        "    if root is None or root.data == key:\n",
        "      return root is not None\n",
        "    elif key < root.data:\n",
        "      return self._find_value(root.left, key)\n",
        "    else:\n",
        "      return self._find_value(root.right, key)\n",
        "\n",
        "# 이진트리에서 데이터를 지우는 부분\n",
        "  def delete(self, key):\n",
        "    self.root, deleted = self._delete_value(self.root, key)\n",
        "\n",
        "  def _delete_value(self, node, key):\n",
        "    if node is None:\n",
        "      return node, False\n",
        "\n",
        "    deleted = False\n",
        "\n",
        "    if key == node.data:\n",
        "      deleted = True\n",
        "      if node.left and node.right :\n",
        "        parent, child = node, node.right\n",
        "        while child.left is not None :\n",
        "          parent, child = child, child.left\n",
        "\t\t\t\tchild.left = node.left\n",
        "\t\t\t\tif parent != node:\n",
        "\t\t\t\t\tparent.left=child.right\n",
        "\t\t\t\t\tchild.right = node.right\n",
        "\t\t\t\tnode = child\n",
        "\t\t\telif node.left or node.right :\n",
        "\t\t\t\tnode = node.left or node.right\n",
        "\t\t\telse:\n",
        "\t\t\t\tnode = None\n",
        "\t\telif key < node.data:\n",
        "\t\t\tnode.left, deleted = self._delete_value(node.left, key)\n",
        "\t\telse :\n",
        "\t\t\tnode.right, deleted = self._delete_value(node.right, key)\n",
        "\t\treturn node, deleted\n",
        "\n",
        "# 데이터를 출력하는 부분\n",
        "  def DFTravel(self):\n",
        "    def _DFTravel(root):\n",
        "\t\t\tif root is None:\n",
        "\t\t\t\tpass\n",
        "\t\t\telse :\n",
        "\t\t\t\tprint(root.data, end=' ')\n",
        "\t\t\t\t_DFTravel(root.left)\n",
        "\t\t\t\t_DFTravel(root.right)\n",
        "\t\t\t_DFTravel(self.root)\n",
        "\n",
        "# 데이터를 출력하는 부분\n",
        "\tdef LFTravel(self):\n",
        "   def _LFTravel(root) :\n",
        "\t\t\tif root is None :\n",
        "\t\t\t\tpass\n",
        "\t\t\telse:\n",
        "\t\t\t\t_LFTravel(root.left)\n",
        "\t\t\t\tprint(root.data, end=' ')\n",
        "\t\t\t\t_LFTravel(root.right)\n",
        "\n",
        "\t\t_LFTravel(self.root)\n",
        "\n",
        "# 데이터를 출력하는 부분\n",
        "  def LRTravel(self):\n",
        "    def _LRTravel(root) :\n",
        "\t\t\tif root is None:\n",
        "\t\t\t\tpass\n",
        "\t\t\telse :\n",
        "\t\t\t\t_LRTravel(root.left)\n",
        "\t\t\t\t_LRTravel(root.right)\n",
        "\t\t\t\tprint(root.data, end=' ')\n",
        "\n",
        "\t\t_LRTravel(self.root)\n",
        "\n",
        "# 데이터를 출력하는 부분\n",
        "  def layerTravel(self):\n",
        "    def _layerTravel(root) :\n",
        "\t\t\tqueue = [root]\n",
        "\t\t\twhile queue :\n",
        "\t\t\t\troot = queue.pop(0)\n",
        "\t\t\t\tif root is not None :\n",
        "\t\t\t\t\tprint(root.data, end=' ')\n",
        "\t\t\t\t\tif root.left :\n",
        "\t\t\t\t\t\tqueue.append(root.left)\n",
        "\t\t\t\t\tif root.right:\n",
        "\t\t\t\t\t\tqueue.append(root.right)\n",
        "\n",
        "\t\t_layerTravel(self.root)"
      ],
      "metadata": {
        "id": "UrVqKeQtz-nt"
      },
      "execution_count": null,
      "outputs": []
    },
    {
      "cell_type": "code",
      "source": [
        "# 데이터의 선언\n",
        "data = [20,6,8,12,78,32,65,32,7,9]\n",
        "tree = BinarySearchTree()\n",
        "\n",
        "# 트리 구조의 완성\n",
        "for x in data:\n",
        "\ttree.insert(x)\n",
        "\n",
        "# 트리 안의 데이터 존재에 대한 확인 및 조작\n",
        "print(tree.find(9))\n",
        "print(tree.find(3))\n",
        "\n",
        "print(tree.delete(78))\n",
        "print(tree.delete(6))\n",
        "print(tree.delete(11))\n",
        "\n",
        "# 트리 구조의 데이터 출력\n",
        "print(\"\\n@@@@@@@\")\n",
        "tree.DFTravel() # 깊이 우선 탐색 중 전위 순회 : 뿌리 > 왼쪽 트리 > 오른쪽 트리\n",
        "print(\"\\n=====\")\n",
        "tree.LFTravel() # 깊이 우선 탐색 중 중위 순회 : 왼쪽 트리 > 뿌리 > 오른쪽 트리\n",
        "print(\"\\n*****\")\n",
        "tree.LRTravel() # 깊이 우선 탐색 중 후위 순회 : 왼쪽 트리 > 오른쪽 트리 > 뿌리 노드\n",
        "print(\"\\n&&&&&\")\n",
        "tree.layerTravel() # 너비 우선 탐색 : 뿌리 노드부터 깊이순으로 방문"
      ],
      "metadata": {
        "id": "gZlMGAVUz-lc"
      },
      "execution_count": null,
      "outputs": []
    },
    {
      "cell_type": "code",
      "source": [],
      "metadata": {
        "id": "Z9AnESLGz-h1"
      },
      "execution_count": null,
      "outputs": []
    },
    {
      "cell_type": "code",
      "source": [],
      "metadata": {
        "id": "whbp3_c0z-ej"
      },
      "execution_count": null,
      "outputs": []
    },
    {
      "cell_type": "code",
      "source": [],
      "metadata": {
        "id": "ANw1F9sOz-cp"
      },
      "execution_count": null,
      "outputs": []
    },
    {
      "cell_type": "code",
      "source": [],
      "metadata": {
        "id": "dlPZ5ZS6z-au"
      },
      "execution_count": null,
      "outputs": []
    },
    {
      "cell_type": "code",
      "source": [],
      "metadata": {
        "id": "UAdwGH0Gz-Yi"
      },
      "execution_count": null,
      "outputs": []
    },
    {
      "cell_type": "code",
      "source": [],
      "metadata": {
        "id": "t9HO8nlpz-Wp"
      },
      "execution_count": null,
      "outputs": []
    },
    {
      "cell_type": "code",
      "source": [],
      "metadata": {
        "id": "Z2mU_nzqz-VA"
      },
      "execution_count": null,
      "outputs": []
    },
    {
      "cell_type": "code",
      "source": [],
      "metadata": {
        "id": "Fafl38ciQ-Hk"
      },
      "execution_count": null,
      "outputs": []
    },
    {
      "cell_type": "code",
      "source": [],
      "metadata": {
        "id": "TY5ayNJxQ8mW"
      },
      "execution_count": null,
      "outputs": []
    }
  ]
}