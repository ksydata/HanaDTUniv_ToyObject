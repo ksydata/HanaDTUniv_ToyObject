{
  "nbformat": 4,
  "nbformat_minor": 0,
  "metadata": {
    "colab": {
      "provenance": [],
      "authorship_tag": "ABX9TyNXGRl+D23PUDcWGqXBmtAP"
    },
    "kernelspec": {
      "name": "python3",
      "display_name": "Python 3"
    },
    "language_info": {
      "name": "python"
    }
  },
  "cells": [
    {
      "cell_type": "code",
      "execution_count": 1,
      "metadata": {
        "id": "v2Em3I6zUa_-"
      },
      "outputs": [],
      "source": [
        "import pandas as pd\n",
        "import numpy as np\n",
        "import datetime\n",
        "import time"
      ]
    },
    {
      "cell_type": "code",
      "source": [
        "class MultiFactorPortfolio():\n",
        "\n",
        "  def __init__(self, main_path,\n",
        "               value_factor = None, quality_factor = None, size_factor = None, divend_factor = None,\n",
        "               momentum_factor = None, growth_factor = None, volatility_factor = None, flow_factor = None):\n",
        "\n",
        "    self.MAIN_DATA = pd.read_csv(main_path, index_col = False, encoding = \"utf-8\")\n",
        "    self.value_factor = value_factor\n",
        "      # FN Guide 모멘텀 & 밸류 지수(kBSTAR 모멘텀 밸류 ETF의 BM)\n",
        "    self.quality_factor = quality_factor\n",
        "      # 종목의 이익의 질\n",
        "      # 제임스 오쇼너시의 데이터 기반 접근법 전략\n",
        "      # ROC > 0.13 & P/E < 20, P/B < 2, 부채 대 자본비율 > 1.5 or 배당 수익률 > 0.02, EPS 연성장률 > 0.2, 배당 수익률 > 0.04 or 부채-자본비율 < 1, 2개월 가격 모멘텀 > 0 그리고 EPS 연성장률 > 0.20\n",
        "    self.divend_factor = divend_factor\n",
        "      # 배당\n",
        "    self.size_factor = size_factor\n",
        "      # 시가총액과 자산규모\n",
        "    self.momentum_factor = momentum_factor\n",
        "      # 시장민감도\n",
        "      # Momentum Factor\n",
        "      # PER < 15, ROIC > 0.15, 부채 대비 자본비율 < 0.5, 총마진성장률 > 0.03, FCF > 시가총액의 0.05\n",
        "    self.growth_factor = growth_factor\n",
        "      # KP + KDQ 보통주(시가총액 7,000억 원, 60일 평균 거래대금 상우 20% 이내) 종목 중\n",
        "      # 1) 현재 영업이익이 적자이거나 역성장하며 부진했으나,\n",
        "      # 2) 향후 흑자전환 등으로 분기 영업이익이 개선될 것으로 크게 기대되는 기업\n",
        "      # 3) 2024년 이익성장률 상위 & 이익전망 하향이 크지 않은 종목 -> 단, 이경우 어닝서프라이즈 데이터가 필요함(컨센서)\n",
        "    self.volatility_factor = volatility_factor\n",
        "      # 종목의 변동성\n",
        "    self.flow_factor = flow_factor\n",
        "      # 종목의 수급, 거래량, 거래대금\n",
        "\n",
        "\n",
        "  def FactorDescriptor(self):\n",
        "    # 종목 수익에 영향을 미치는 요인 선정\n",
        "    # 1.1) Descriptor Selection(특성치 선정) : 주식은 스타일 팩터와 업종 팩터로 구부\n",
        "    # 1.2) Wubsorization(극단치 또는 이상치 처리)\n",
        "    # 1.3) Feature Engineering\n",
        "    # 1.4) Weighting(특성치별 가중치, PCA)\n",
        "    # 1.5) Rescaling Zscore(특성치 조합에 따른 Factor의 표준편차 증감을 재조정)\n",
        "\n",
        "\n",
        "    # 1.1).(1) 가치투자 팩터 인덱스는 액티브 투자전략이라 매년 상당한 교체가 발생하고, 성장에 대한 시대의 기대가 낮은 종목으로 교체된다(EPS상승률이 높은 이유)\n",
        "    # sales | EBITDA / sales | Earnings / EBITDA\n",
        "\n",
        "    # EV/EBITDA | F-score(ROA > 0, CFO > 0, dROA > 0, CFO > ROA, dLEVERAGE < 0, dLIQUID > 0, EQ_OFFER(발행주식 수), dMARGIN(매출총이익) > 0, dTURNOVER(회전율) > 0)\n",
        "    # Value와 Glamour전략\n",
        "\n",
        "    # [수익성]\n",
        "    self.MAIN_DATA[\"ROA\"] = self.MAIN_DATA[\"지배주주순이익\"] / self.MAIN_DATA[\"자산\"]\n",
        "    self.MAIN_DATA[\"CFO\"] = self.MAIN_DATA[\"영업활동으로인한현금흐름\"] / self.MAIN_DATA[\"자산\"]\n",
        "    self.MAIN_DATA[\"ACCURUAL\"] = self.MAIN_DATA[\"CFO\"] - self.MAIN_DATA[\"ROA\"]\n",
        "    # [재무적 성과]\n",
        "    self.MAIN_DATA[\"LEVER\"] = self.MAIN_DATA[\"장기차입금\"] / self.MAIN_DATA[\"자산\"]\n",
        "    self.MAIN_DATA[\"LIQ\"] = self.MAIN_DATA[\"유동자산\"] / self.MAIN_DATA[\"유동부채\"]\n",
        "    self.MAIN_DATA[\"OFFER\"] = self.MAIN_DATA[\"유상증자\"]\n",
        "    # [운영 효율성]\n",
        "    self.MAIN_DATA[\"MARGIN\"] = self.MAIN_DATA[\"매출총이익\"] / self.MAIN_DATA[\"매출액\"]\n",
        "    self.MAIN_DATA[\"TURNOVER\"] = self.MAIN_DATA[\"매출액\"] / self.MAIN_DATA[\"자산\"]\n",
        "    # [F-Score] 고평가주\n",
        "    for subject in [\"ROA\", \"CFO\", \"ACCURUAL\", \"LEVER\", \"LIQ\", \"OFFER\", \"MARGIN\", \"TURNOVER\"]:\n",
        "      self.MAIN_DATA[\"F-SCORE\"] = self.MAIN_DATA[\"F-SCORE\"] + self.MAIN_DATA[subject].apply(lambda data: np.where(data > 0, 1, 0))\n",
        "\n",
        "    # [value] EV / EBITDA = 기업의 시장가치 / 세전영업이익(순이익, 이자비용, 법인세, 감가상각비 차감 전) = (시가총액 + 총차입금 - 현금성 자산) / (영업이익 + 감가상각비 + 제세금)\n",
        "\n",
        "\n",
        "\n",
        "\n",
        "    # 1.1).(2) 모멘텀[시장민감도] 팩터\n",
        "\n",
        "\n",
        "\n",
        "\n",
        "\n",
        "\n",
        "\n",
        "\n",
        "\n",
        "\n",
        "\n",
        "\n",
        "\n",
        "\n",
        "\n",
        "\n",
        "  def FactorExposure(self):\n",
        "    # 유사한 특성치를 요인이로 그룹핑\n",
        "    # 전략이 보유하고 있는 포트폴리오의 팩터 스타일 점수를 기준일자 바탕으로 제공하여 해당 전략의 특성을 한눈에 확인가능\n",
        "\n",
        "\n",
        "\n",
        "  # def FactorEvaluation(self):\n",
        "    # return 등 요인의 수익 기여도\n",
        "\n",
        "  # def Risk&ReturnManagement(self):\n",
        "    # 포트폴리오 및 벤치마크 대비 변동성 예측 / 수익률의 원천인 요인별로 수익률 분해\n"
      ],
      "metadata": {
        "colab": {
          "base_uri": "https://localhost:8080/",
          "height": 132
        },
        "id": "SEgcKQ24UyjG",
        "outputId": "3722a86b-b35c-4776-db81-3037ee4258da"
      },
      "execution_count": 3,
      "outputs": [
        {
          "output_type": "error",
          "ename": "IndentationError",
          "evalue": "ignored",
          "traceback": [
            "\u001b[0;36m  File \u001b[0;32m\"<ipython-input-3-0355064b16e7>\"\u001b[0;36m, line \u001b[0;32m58\u001b[0m\n\u001b[0;31m    def FactorExposure(self):\u001b[0m\n\u001b[0m    ^\u001b[0m\n\u001b[0;31mIndentationError\u001b[0m\u001b[0;31m:\u001b[0m expected an indented block after function definition on line 33\n"
          ]
        }
      ]
    },
    {
      "cell_type": "code",
      "source": [],
      "metadata": {
        "id": "jTAuxJ_jdWeL"
      },
      "execution_count": null,
      "outputs": []
    }
  ]
}