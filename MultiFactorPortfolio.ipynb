{
  "nbformat": 4,
  "nbformat_minor": 0,
  "metadata": {
    "colab": {
      "provenance": [],
      "authorship_tag": "ABX9TyMQXYF1Su5HUhbIDdLvN2Hk"
    },
    "kernelspec": {
      "name": "python3",
      "display_name": "Python 3"
    },
    "language_info": {
      "name": "python"
    }
  },
  "cells": [
    {
      "cell_type": "code",
      "execution_count": 1,
      "metadata": {
        "id": "v2Em3I6zUa_-"
      },
      "outputs": [],
      "source": [
        "import pandas as pd\n",
        "import numpy as np\n",
        "import datetime\n",
        "import time"
      ]
    },
    {
      "cell_type": "code",
      "source": [
        "class MultiFactorPortfolio():\n",
        "\n",
        "  def __init__(self,\n",
        "               value_factor = None, quality_factor = None, size_factor = None, divend_factor = None,\n",
        "               momentum_factor = None, growth_factor = None, volatility_factor = None, flow_factor = None):\n",
        "\n",
        "    self.value_factor = value_factor\n",
        "      # FN Guide 모멘텀 & 밸류 지수(kBSTAR 모멘텀 밸류 ETF의 BM)\n",
        "    self.quality_factor = quality_factor\n",
        "      # 종목의 이익의 질\n",
        "    self.divend_factor = divend_factor\n",
        "      # 배당\n",
        "    self.size_factor = size_factor\n",
        "      # 시가총액과 자산규모\n",
        "    self.momentum_factor = momentum_factor\n",
        "      # 시장민감도\n",
        "    self.growth_factor = growth_factor\n",
        "      # KP + KDQ 보통주(시가총액 7,000억 원, 60일 평균 거래대금 상우 20% 이내) 종목 중\n",
        "      # 1) 현재 영업이익이 적자이거나 역성장하며 부진했으나,\n",
        "      # 2) 향후 흑자전환 등으로 분기 영업이익이 개선될 것으로 크게 기대되는 기업\n",
        "      # 3) 2024년 이익성장률 상위 & 이익전망 하향이 크지 않은 종목 -> 단, 이경우 어닝서프라이즈 데이터가 필요함(컨센서)\n",
        "    self.volatility_factor = volatility_factor\n",
        "      # 종목의 변동성\n",
        "    self.flow_faoctor = flow_factor\n",
        "      # 종목의 수급, 거래량, 거래대금\n",
        "\n",
        "\n",
        "  def FactorDescriptor(self):\n",
        "    # 종목 수익에 영향을 미치는 요인 선정\n",
        "    # 1.(1) Descriptor Selection(특성치 선정) : 주식은 스타일 팩터와 업종 팩터로 구부\n",
        "    # 1.(2) Wubsorization(극단치 또는 이상치 처리)\n",
        "    # 1.(3) Feature Engineering\n",
        "    # 1.(4) Weighting(특성치별 가중치, PCA)\n",
        "    # 1.(5) Rescaling Zscore(특성치 조합에 따른 Factor의 표준편차 증감을 재조정)\n",
        "\n",
        "\n",
        "    # Momentum Factor\n",
        "    # PER < 15, ROIC > 0.15, 부채 대비 자본비율 < 0.5, 총마진성장률 > 0.03, FCF > 시가총액의 0.05\n",
        "\n",
        "    # 제임스 오쇼너시의 데이터 기반 접근법 전략\n",
        "    # ROC > 0.13 & P/E < 20, P/B < 2, 부채 대 자본비율 > 1.5 or 배당 수익률 > 0.02, EPS 연성장률 > 0.2, 배당 수익률 > 0.04 or 부채-자본비율 < 1, 2개월 가격 모멘텀 > 0 그리고 EPS 연성장률 > 0.20\n",
        "\n",
        "\n",
        "\n",
        "  def FactorExposure(self):\n",
        "    # 유사한 특성치를 요인이로 그룹핑\n",
        "    # 전략이 보유하고 있는 포트폴리오의 팩터 스타일 점수를 기준일자 바탕으로 제공하여 해당 전략의 특성을 한눈에 확인가능\n",
        "\n",
        "\n",
        "\n",
        "  # def FactorEvaluation(self):\n",
        "    # return 등 요인의 수익 기여도\n",
        "\n",
        "  # def Risk&ReturnManagement(self):\n",
        "    # 포트폴리오 및 벤치마크 대비 변동성 예측 / 수익률의 원천인 요인별로 수익률 분해\n",
        ""
      ],
      "metadata": {
        "colab": {
          "base_uri": "https://localhost:8080/",
          "height": 132
        },
        "id": "SEgcKQ24UyjG",
        "outputId": "97a3f253-4157-462c-e6ab-15f3f6efa341"
      },
      "execution_count": 2,
      "outputs": [
        {
          "output_type": "error",
          "ename": "IndentationError",
          "evalue": "ignored",
          "traceback": [
            "\u001b[0;36m  File \u001b[0;32m\"<ipython-input-2-a78c459c9b49>\"\u001b[0;36m, line \u001b[0;32m43\u001b[0m\n\u001b[0;31m    def FactorExposure(self):\u001b[0m\n\u001b[0m    ^\u001b[0m\n\u001b[0;31mIndentationError\u001b[0m\u001b[0;31m:\u001b[0m expected an indented block after function definition on line 28\n"
          ]
        }
      ]
    },
    {
      "cell_type": "code",
      "source": [],
      "metadata": {
        "id": "jTAuxJ_jdWeL"
      },
      "execution_count": null,
      "outputs": []
    }
  ]
}