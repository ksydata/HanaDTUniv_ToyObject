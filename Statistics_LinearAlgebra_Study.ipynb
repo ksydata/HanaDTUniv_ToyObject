{
  "nbformat": 4,
  "nbformat_minor": 0,
  "metadata": {
    "colab": {
      "provenance": [],
      "collapsed_sections": [
        "z2k0VmVKIeGa"
      ],
      "mount_file_id": "1h5AcYi2DB8eJaJJEZhLu4yk4J3JklVMN",
      "authorship_tag": "ABX9TyNF0LCSKqUCFhMh+5yWFcNd"
    },
    "kernelspec": {
      "name": "python3",
      "display_name": "Python 3"
    },
    "language_info": {
      "name": "python"
    }
  },
  "cells": [
    {
      "cell_type": "markdown",
      "source": [
        "> # **데이터 과학을 위한 수학**"
      ],
      "metadata": {
        "id": "kwxNHlJd-gw8"
      }
    },
    {
      "cell_type": "markdown",
      "source": [
        "## **한 권으로 시작하는 파이썬 데이터 사이언스 입문 A to Z  &  공돌이의 수학정리노트**"
      ],
      "metadata": {
        "id": "SrG54YQ7twdi"
      }
    },
    {
      "cell_type": "code",
      "source": [
        "import numpy as np\n",
        "import math\n",
        "!pip install lea\n",
        "from lea import leaf\n",
        "  # [이산확률을 처리하는 모듈]\n",
        "import lea\n",
        "import scipy.linalg as LA\n",
        "  # [선형대수 모듈 사용, LU 분해 목적]\n",
        "\n",
        "import matplotlib.pyplot as plt\n",
        "import seaborn as sns\n",
        "  # [데이터 시각화 모듈]"
      ],
      "metadata": {
        "id": "IthEY31C-cBz",
        "colab": {
          "base_uri": "https://localhost:8080/"
        },
        "outputId": "268f7ee0-4fe5-43f6-c2c5-ff506866f178"
      },
      "execution_count": 154,
      "outputs": [
        {
          "output_type": "stream",
          "name": "stdout",
          "text": [
            "Looking in indexes: https://pypi.org/simple, https://us-python.pkg.dev/colab-wheels/public/simple/\n",
            "Requirement already satisfied: lea in /usr/local/lib/python3.8/dist-packages (3.4.2)\n"
          ]
        }
      ]
    },
    {
      "cell_type": "code",
      "source": [
        "%matplotlib inline\n",
        "import matplotlib.pyplot as plt\n",
        "import pandas as pd"
      ],
      "metadata": {
        "id": "cFHQvfel9zC0"
      },
      "execution_count": 155,
      "outputs": []
    },
    {
      "cell_type": "markdown",
      "source": [
        "```\n",
        "# 구글 드라이브를 코랩 노트북 연동하여 패키지 코드 설치 없이 실행\n",
        "# 구글 드라이브에 라이브러리를 밀어넣는 방식으로 사용하지 않음 \n",
        "\n",
        "import os, sys\n",
        "from google.colab import drive\n",
        "drive.mout(\"/content/drive/\")\n",
        "\n",
        "pack_path = \"/content/packages\"\n",
        "os.mkdir(pack_path)\n",
        "os.symlink(\"/content/drive/MyDrive/colab Notebooks/pack_env\", pack_path)\n",
        "sys.path.instert(0, pack_path)\n",
        "```"
      ],
      "metadata": {
        "id": "zMcTwK2KIK4J"
      }
    },
    {
      "cell_type": "code",
      "source": [
        "!pip install pgmpy\n",
        "from pgmpy.factors.discrete import TabularCPD\n",
        "  # [조건부 확률을 구현하고 베이즈 정리를 적용하는 클래스]\n",
        "  # [베이즈 정리는 사건 A의 확률이 사건 B에 의해 갱신(update)된 확률을 계산]"
      ],
      "metadata": {
        "id": "jv6dubnoLWqg",
        "colab": {
          "base_uri": "https://localhost:8080/"
        },
        "outputId": "d4c66fdb-bff2-482e-e118-4a7d451c345a"
      },
      "execution_count": 156,
      "outputs": [
        {
          "output_type": "stream",
          "name": "stdout",
          "text": [
            "Looking in indexes: https://pypi.org/simple, https://us-python.pkg.dev/colab-wheels/public/simple/\n",
            "Requirement already satisfied: pgmpy in /usr/local/lib/python3.8/dist-packages (0.1.21)\n",
            "Requirement already satisfied: numpy in /usr/local/lib/python3.8/dist-packages (from pgmpy) (1.21.6)\n",
            "Requirement already satisfied: scipy in /usr/local/lib/python3.8/dist-packages (from pgmpy) (1.7.3)\n",
            "Requirement already satisfied: torch in /usr/local/lib/python3.8/dist-packages (from pgmpy) (1.13.0+cu116)\n",
            "Requirement already satisfied: pandas in /usr/local/lib/python3.8/dist-packages (from pgmpy) (1.3.5)\n",
            "Requirement already satisfied: tqdm in /usr/local/lib/python3.8/dist-packages (from pgmpy) (4.64.1)\n",
            "Requirement already satisfied: statsmodels in /usr/local/lib/python3.8/dist-packages (from pgmpy) (0.12.2)\n",
            "Requirement already satisfied: joblib in /usr/local/lib/python3.8/dist-packages (from pgmpy) (1.2.0)\n",
            "Requirement already satisfied: scikit-learn in /usr/local/lib/python3.8/dist-packages (from pgmpy) (1.0.2)\n",
            "Requirement already satisfied: pyparsing in /usr/local/lib/python3.8/dist-packages (from pgmpy) (3.0.9)\n",
            "Requirement already satisfied: opt-einsum in /usr/local/lib/python3.8/dist-packages (from pgmpy) (3.3.0)\n",
            "Requirement already satisfied: networkx in /usr/local/lib/python3.8/dist-packages (from pgmpy) (2.8.8)\n",
            "Requirement already satisfied: python-dateutil>=2.7.3 in /usr/local/lib/python3.8/dist-packages (from pandas->pgmpy) (2.8.2)\n",
            "Requirement already satisfied: pytz>=2017.3 in /usr/local/lib/python3.8/dist-packages (from pandas->pgmpy) (2022.7)\n",
            "Requirement already satisfied: threadpoolctl>=2.0.0 in /usr/local/lib/python3.8/dist-packages (from scikit-learn->pgmpy) (3.1.0)\n",
            "Requirement already satisfied: patsy>=0.5 in /usr/local/lib/python3.8/dist-packages (from statsmodels->pgmpy) (0.5.3)\n",
            "Requirement already satisfied: typing-extensions in /usr/local/lib/python3.8/dist-packages (from torch->pgmpy) (4.4.0)\n",
            "Requirement already satisfied: six in /usr/local/lib/python3.8/dist-packages (from patsy>=0.5->statsmodels->pgmpy) (1.15.0)\n"
          ]
        }
      ]
    },
    {
      "cell_type": "code",
      "execution_count": 157,
      "metadata": {
        "colab": {
          "base_uri": "https://localhost:8080/"
        },
        "id": "TxI0SISH8bsF",
        "outputId": "52e63928-bc84-4cbf-8daf-3324a8a299f2"
      },
      "outputs": [
        {
          "output_type": "execute_result",
          "data": {
            "text/plain": [
              "array([  1.,  13.,  36.,  70., 115., 171., 238., 316., 405., 505.])"
            ]
          },
          "metadata": {},
          "execution_count": 157
        }
      ],
      "source": [
        "# sigma(k) = n(n+!)/2\n",
        "# sigma(k^2) = n(n+1)(2n+1)/6\n",
        "\n",
        "y = np.linspace(1, 100, 10)\n",
        "y.cumsum()\n",
        "  # [누적합]"
      ]
    },
    {
      "cell_type": "code",
      "source": [
        "np.add(y, y)\n",
        "  # [벡터화 합 연산]"
      ],
      "metadata": {
        "colab": {
          "base_uri": "https://localhost:8080/"
        },
        "id": "Hvxsdni2-4tb",
        "outputId": "92fe3ddd-6f28-4d2e-93fd-c1a860bee150"
      },
      "execution_count": 158,
      "outputs": [
        {
          "output_type": "execute_result",
          "data": {
            "text/plain": [
              "array([  2.,  24.,  46.,  68.,  90., 112., 134., 156., 178., 200.])"
            ]
          },
          "metadata": {},
          "execution_count": 158
        }
      ]
    },
    {
      "cell_type": "code",
      "source": [
        "y.prod()\n",
        "  # [팩토리얼]\n",
        "y.cumprod()\n",
        "  # [원소의 누적곱]"
      ],
      "metadata": {
        "colab": {
          "base_uri": "https://localhost:8080/"
        },
        "id": "8-zaRJt2_BZD",
        "outputId": "14cb7304-9739-4baf-8757-d1c277383bfb"
      },
      "execution_count": 159,
      "outputs": [
        {
          "output_type": "execute_result",
          "data": {
            "text/plain": [
              "array([1.00000000e+00, 1.20000000e+01, 2.76000000e+02, 9.38400000e+03,\n",
              "       4.22280000e+05, 2.36476800e+07, 1.58439456e+09, 1.23582776e+11,\n",
              "       1.09988670e+13, 1.09988670e+15])"
            ]
          },
          "metadata": {},
          "execution_count": 159
        }
      ]
    },
    {
      "cell_type": "markdown",
      "source": [
        "##### 지수함수"
      ],
      "metadata": {
        "id": "jH8SLj3-_vdO"
      }
    },
    {
      "cell_type": "code",
      "source": [
        "x: float\n",
        "  # [x의 타입 어노테이션]"
      ],
      "metadata": {
        "id": "D7dFVz2L_xrQ"
      },
      "execution_count": 160,
      "outputs": []
    },
    {
      "cell_type": "code",
      "source": [
        "x = np.array(\n",
        "    [3, 4, 5, 6, 7, 8],\n",
        "    dtype = float\n",
        ")\n",
        "x.dtype"
      ],
      "metadata": {
        "colab": {
          "base_uri": "https://localhost:8080/"
        },
        "id": "dDpbw3vg_2hn",
        "outputId": "559d9b71-f71f-4f21-843f-2bc8585b3c0b"
      },
      "execution_count": 161,
      "outputs": [
        {
          "output_type": "execute_result",
          "data": {
            "text/plain": [
              "dtype('float64')"
            ]
          },
          "metadata": {},
          "execution_count": 161
        }
      ]
    },
    {
      "cell_type": "code",
      "source": [
        "x"
      ],
      "metadata": {
        "colab": {
          "base_uri": "https://localhost:8080/"
        },
        "id": "nGhRp_DAAAwk",
        "outputId": "489c1d31-bc84-4731-a31e-61dcd416b558"
      },
      "execution_count": 162,
      "outputs": [
        {
          "output_type": "execute_result",
          "data": {
            "text/plain": [
              "array([3., 4., 5., 6., 7., 8.])"
            ]
          },
          "metadata": {},
          "execution_count": 162
        }
      ]
    },
    {
      "cell_type": "code",
      "source": [
        "# numpy\n",
        "\n",
        "np.power(x, 2)\n",
        "  # [ndarray를 인자로 받아 모든 원소 제곱 (지수 계산]\n",
        "  # [단 power()은 지수를 음수로 표시할 수 없음]"
      ],
      "metadata": {
        "colab": {
          "base_uri": "https://localhost:8080/"
        },
        "id": "_EgFtMVRACVY",
        "outputId": "28e26b20-9e8f-4c8c-f3d2-b52ff7b46db9"
      },
      "execution_count": 163,
      "outputs": [
        {
          "output_type": "execute_result",
          "data": {
            "text/plain": [
              "array([ 9., 16., 25., 36., 49., 64.])"
            ]
          },
          "metadata": {},
          "execution_count": 163
        }
      ]
    },
    {
      "cell_type": "code",
      "source": [
        "x ** -2"
      ],
      "metadata": {
        "colab": {
          "base_uri": "https://localhost:8080/"
        },
        "id": "WramvLQqBOtc",
        "outputId": "8f5eb79b-899b-40c5-8426-274e7d0fcdaf"
      },
      "execution_count": 164,
      "outputs": [
        {
          "output_type": "execute_result",
          "data": {
            "text/plain": [
              "array([0.11111111, 0.0625    , 0.04      , 0.02777778, 0.02040816,\n",
              "       0.015625  ])"
            ]
          },
          "metadata": {},
          "execution_count": 164
        }
      ]
    },
    {
      "cell_type": "code",
      "source": [
        "np.power(x, 1/2)\n",
        "  # [제곱근 처리는 분수로 인자 전달]"
      ],
      "metadata": {
        "colab": {
          "base_uri": "https://localhost:8080/"
        },
        "id": "HY41N7WpBRoU",
        "outputId": "771dcc72-2574-45c9-e657-dd822ad4913b"
      },
      "execution_count": 165,
      "outputs": [
        {
          "output_type": "execute_result",
          "data": {
            "text/plain": [
              "array([1.73205081, 2.        , 2.23606798, 2.44948974, 2.64575131,\n",
              "       2.82842712])"
            ]
          },
          "metadata": {},
          "execution_count": 165
        }
      ]
    },
    {
      "cell_type": "code",
      "source": [
        "np.exp(x)\n",
        "  # [자연상수 e의 지수함수에 배열을 넣어 모든 원소의 값 계산]"
      ],
      "metadata": {
        "colab": {
          "base_uri": "https://localhost:8080/"
        },
        "id": "rBoAwiUeBWCq",
        "outputId": "457d7df7-59c4-4e40-b1ed-505abe45cfa6"
      },
      "execution_count": 166,
      "outputs": [
        {
          "output_type": "execute_result",
          "data": {
            "text/plain": [
              "array([  20.08553692,   54.59815003,  148.4131591 ,  403.42879349,\n",
              "       1096.63315843, 2980.95798704])"
            ]
          },
          "metadata": {},
          "execution_count": 166
        }
      ]
    },
    {
      "cell_type": "code",
      "source": [
        "# math : Q&A\n",
        "\n",
        "math.pow(2, x[0])\n",
        "  # [scholar 값으로 처리하여 넘파이 배열의 1차원 원소를 제곱 처리]"
      ],
      "metadata": {
        "colab": {
          "base_uri": "https://localhost:8080/"
        },
        "id": "bc_uMoAFAb91",
        "outputId": "8bd5b3a7-0cd5-43df-f5fc-ddc93926b545"
      },
      "execution_count": 167,
      "outputs": [
        {
          "output_type": "execute_result",
          "data": {
            "text/plain": [
              "8.0"
            ]
          },
          "metadata": {},
          "execution_count": 167
        }
      ]
    },
    {
      "cell_type": "code",
      "source": [
        "for i in x:\n",
        "  print(math.exp( i ))\n",
        "    # [밑이 e일 경우 exp(), 2일 경우 exp2()]"
      ],
      "metadata": {
        "colab": {
          "base_uri": "https://localhost:8080/"
        },
        "id": "pu7xdPMJAyim",
        "outputId": "99f9e951-1574-4df3-a6db-4668893183d2"
      },
      "execution_count": 168,
      "outputs": [
        {
          "output_type": "stream",
          "name": "stdout",
          "text": [
            "20.085536923187668\n",
            "54.598150033144236\n",
            "148.4131591025766\n",
            "403.4287934927351\n",
            "1096.6331584284585\n",
            "2980.9579870417283\n"
          ]
        }
      ]
    },
    {
      "cell_type": "markdown",
      "source": [
        "##### 로그함수\n",
        "\n",
        "큰 수를 작은 수로 바꾸어 정규성을 높이고, \n",
        "분석에서 정확한 값을 구하기 위함\n",
        "\n",
        "```\n",
        "a^(logcb) = b^(logca)\n",
        "logaa^(logcb) = logab^(logca)\n",
        "logcb*logaa = logca * logab\n",
        "logcb - logca = logab(logcb/logca)\n",
        "logcb/logca = logab\n",
        "logcb = logab*logca\n",
        "logcb = logcb\n",
        "```"
      ],
      "metadata": {
        "id": "6FxEGGSdCAuz"
      }
    },
    {
      "cell_type": "code",
      "source": [
        "# 지수함수의 역함수 : 로그함수\n",
        "\n",
        "print(x)\n",
        "print(np.log(x))\n",
        "\n",
        "for i in x :\n",
        "  if i !=  8:\n",
        "    print(math.log( i ), end = \", \")\n",
        "  else:\n",
        "    print(math.log( i ))\n",
        "      # [밑이 e인 자연로그]"
      ],
      "metadata": {
        "colab": {
          "base_uri": "https://localhost:8080/"
        },
        "id": "F8mVVW1yBodm",
        "outputId": "fab0801f-82ab-443a-bd1c-ac0458e60413"
      },
      "execution_count": 169,
      "outputs": [
        {
          "output_type": "stream",
          "name": "stdout",
          "text": [
            "[3. 4. 5. 6. 7. 8.]\n",
            "[1.09861229 1.38629436 1.60943791 1.79175947 1.94591015 2.07944154]\n",
            "1.0986122886681098, 1.3862943611198906, 1.6094379124341003, 1.791759469228055, 1.9459101490553132, 2.0794415416798357\n"
          ]
        }
      ]
    },
    {
      "cell_type": "code",
      "source": [
        "np.log10(x)\n",
        "  # [밑이 10인 로그]"
      ],
      "metadata": {
        "colab": {
          "base_uri": "https://localhost:8080/"
        },
        "id": "cF0F4TWTFytu",
        "outputId": "7d5048c4-6871-449a-af14-9064fda14bca"
      },
      "execution_count": 170,
      "outputs": [
        {
          "output_type": "execute_result",
          "data": {
            "text/plain": [
              "array([0.47712125, 0.60205999, 0.69897   , 0.77815125, 0.84509804,\n",
              "       0.90308999])"
            ]
          },
          "metadata": {},
          "execution_count": 170
        }
      ]
    },
    {
      "cell_type": "code",
      "source": [
        "x_ = np.linspace(1, 2000, 30)\n",
        "y_ = np.log(x_)\n",
        "\n",
        "plt.plot(x_, y_)\n",
        "plt.grid()\n",
        "plt.show()\n",
        "  # [로그 함수 시각화]"
      ],
      "metadata": {
        "colab": {
          "base_uri": "https://localhost:8080/",
          "height": 265
        },
        "id": "3qRpeM3XGVfd",
        "outputId": "1e1b581a-328e-4416-b9d9-fa2fba5cea6d"
      },
      "execution_count": 171,
      "outputs": [
        {
          "output_type": "display_data",
          "data": {
            "text/plain": [
              "<Figure size 432x288 with 1 Axes>"
            ],
            "image/png": "[encoded data removed]"
          },
          "metadata": {
            "needs_background": "light"
          }
        }
      ]
    },
    {
      "cell_type": "markdown",
      "source": [
        "##### 삼각함수\n",
        "\n",
        "특정한 각의 변화를 함수로 만든 것\n",
        "- 빗변과 높이의 비 : sin\n",
        "- 빗변과 밑변의 비 : cos\n",
        "- 밑변과 높이의 비 : tan"
      ],
      "metadata": {
        "id": "rEdIcpvbGn6e"
      }
    },
    {
      "cell_type": "code",
      "source": [
        "print(np.sin(0), np.cos(0), np.tan(0))\n",
        "  # [각도를 라디안으로 변환하려면 deg2rad()를 사용하여야 함]"
      ],
      "metadata": {
        "colab": {
          "base_uri": "https://localhost:8080/"
        },
        "id": "vg54W2uTGis_",
        "outputId": "91ca8dba-84ae-4d18-91e5-95b1e11f2c2f"
      },
      "execution_count": 172,
      "outputs": [
        {
          "output_type": "stream",
          "name": "stdout",
          "text": [
            "0.0 1.0 0.0\n"
          ]
        }
      ]
    },
    {
      "cell_type": "code",
      "source": [
        "np.sin(np.deg2rad( 5 ))"
      ],
      "metadata": {
        "colab": {
          "base_uri": "https://localhost:8080/"
        },
        "id": "yGp0akOqIA-Q",
        "outputId": "4457ed7d-5fac-414f-d287-31801fbda6e8"
      },
      "execution_count": 173,
      "outputs": [
        {
          "output_type": "execute_result",
          "data": {
            "text/plain": [
              "0.08715574274765817"
            ]
          },
          "metadata": {},
          "execution_count": 173
        }
      ]
    },
    {
      "cell_type": "code",
      "source": [
        "np.sin(5 * np.pi / 180)\n",
        "  # [하나의 스칼라를 각으로 보고, 라디안으로 변환을 pi / 180로 곱하여 구함]"
      ],
      "metadata": {
        "colab": {
          "base_uri": "https://localhost:8080/"
        },
        "id": "clc6GlqkH0jG",
        "outputId": "301976db-f968-4661-b562-610396b50d16"
      },
      "execution_count": 174,
      "outputs": [
        {
          "output_type": "execute_result",
          "data": {
            "text/plain": [
              "0.08715574274765817"
            ]
          },
          "metadata": {},
          "execution_count": 174
        }
      ]
    },
    {
      "cell_type": "markdown",
      "source": [
        "##### 집합, 경우의 수(순열과 조합)"
      ],
      "metadata": {
        "id": "HkccCQn3K66I"
      }
    },
    {
      "cell_type": "code",
      "source": [
        "a = np.array(\n",
        "    [[1, 2, 3], [3, 2, 1]],\n",
        "    dtype = int\n",
        ")"
      ],
      "metadata": {
        "id": "wleOZYtpHZdt"
      },
      "execution_count": 175,
      "outputs": []
    },
    {
      "cell_type": "code",
      "source": [
        "np.in1d(a, 3)\n",
        "np.isin(a, 3)\n",
        "  # [다차원 배열 a에 정수 3 원소 일치 여부 True]"
      ],
      "metadata": {
        "colab": {
          "base_uri": "https://localhost:8080/"
        },
        "id": "afQ1iS9TLVcx",
        "outputId": "0e9cd3b9-1ca2-455a-aae0-b5b359221b22"
      },
      "execution_count": 176,
      "outputs": [
        {
          "output_type": "execute_result",
          "data": {
            "text/plain": [
              "array([[False, False,  True],\n",
              "       [ True, False, False]])"
            ]
          },
          "metadata": {},
          "execution_count": 176
        }
      ]
    },
    {
      "cell_type": "code",
      "source": [
        "b = np.array(\n",
        "    [[1, 2, 7], [4, 5, 6]],\n",
        "    dtype = int\n",
        ")"
      ],
      "metadata": {
        "id": "iM-TCIazLpzA"
      },
      "execution_count": 177,
      "outputs": []
    },
    {
      "cell_type": "code",
      "source": [
        "a.shape == b.shape\n",
        "  # [다차원 배열의 형상 비교 2 by 3]"
      ],
      "metadata": {
        "colab": {
          "base_uri": "https://localhost:8080/"
        },
        "id": "UmjyJejqL6C2",
        "outputId": "5c60ab6a-7801-4914-af65-c225ca52c9f4"
      },
      "execution_count": 178,
      "outputs": [
        {
          "output_type": "execute_result",
          "data": {
            "text/plain": [
              "True"
            ]
          },
          "metadata": {},
          "execution_count": 178
        }
      ]
    },
    {
      "cell_type": "code",
      "source": [
        "np.setdiff1d(a, b)\n",
        "  # [차집합]"
      ],
      "metadata": {
        "colab": {
          "base_uri": "https://localhost:8080/"
        },
        "id": "64MCfiJ-MBOU",
        "outputId": "e53fd49b-e974-48de-9c55-ad5881f272da"
      },
      "execution_count": 179,
      "outputs": [
        {
          "output_type": "execute_result",
          "data": {
            "text/plain": [
              "array([3])"
            ]
          },
          "metadata": {},
          "execution_count": 179
        }
      ]
    },
    {
      "cell_type": "code",
      "source": [
        "np.intersect1d(a, b)\n",
        "  # [교집합]"
      ],
      "metadata": {
        "colab": {
          "base_uri": "https://localhost:8080/"
        },
        "id": "RNIfqyjbMLXq",
        "outputId": "49504017-19eb-4007-99c6-60bde7a561c5"
      },
      "execution_count": 180,
      "outputs": [
        {
          "output_type": "execute_result",
          "data": {
            "text/plain": [
              "array([1, 2])"
            ]
          },
          "metadata": {},
          "execution_count": 180
        }
      ]
    },
    {
      "cell_type": "code",
      "source": [
        "np.union1d(a, b)\n",
        "  # [합집합]"
      ],
      "metadata": {
        "colab": {
          "base_uri": "https://localhost:8080/"
        },
        "id": "uSzze5pOMS6i",
        "outputId": "a4203142-82f9-4d35-f695-a40948c06e56"
      },
      "execution_count": 181,
      "outputs": [
        {
          "output_type": "execute_result",
          "data": {
            "text/plain": [
              "array([1, 2, 3, 4, 5, 6, 7])"
            ]
          },
          "metadata": {},
          "execution_count": 181
        }
      ]
    },
    {
      "cell_type": "code",
      "source": [
        "np.setxor1d(a, b)\n",
        "  # [대칭 차집합]"
      ],
      "metadata": {
        "colab": {
          "base_uri": "https://localhost:8080/"
        },
        "id": "tISbrQqMMY8R",
        "outputId": "3582c2c3-4bfe-48eb-a08b-434c031675d8"
      },
      "execution_count": 182,
      "outputs": [
        {
          "output_type": "execute_result",
          "data": {
            "text/plain": [
              "array([3, 4, 5, 6, 7])"
            ]
          },
          "metadata": {},
          "execution_count": 182
        }
      ]
    },
    {
      "cell_type": "code",
      "source": [
        "np.union1d(a, b)\n",
        "np.intersect1d(a, b)"
      ],
      "metadata": {
        "colab": {
          "base_uri": "https://localhost:8080/"
        },
        "id": "aZiEEGkLMeQ5",
        "outputId": "45e1ec8e-853b-46f1-b1ba-b0e4ef139683"
      },
      "execution_count": 183,
      "outputs": [
        {
          "output_type": "execute_result",
          "data": {
            "text/plain": [
              "array([1, 2])"
            ]
          },
          "metadata": {},
          "execution_count": 183
        }
      ]
    },
    {
      "cell_type": "code",
      "source": [
        "# nPr = n!/(n-r)! = P(n, r)\n",
        "\n",
        "n = 10\n",
        "r = 3\n",
        "p = np.arange(1, (n+1))"
      ],
      "metadata": {
        "id": "UggjBDYcfdoA"
      },
      "execution_count": 184,
      "outputs": []
    },
    {
      "cell_type": "code",
      "source": [
        "p"
      ],
      "metadata": {
        "colab": {
          "base_uri": "https://localhost:8080/"
        },
        "id": "1fYU8fohyen5",
        "outputId": "90098c4b-cd1b-4e36-ec96-a7f2f6e85417"
      },
      "execution_count": 185,
      "outputs": [
        {
          "output_type": "execute_result",
          "data": {
            "text/plain": [
              "array([ 1,  2,  3,  4,  5,  6,  7,  8,  9, 10])"
            ]
          },
          "metadata": {},
          "execution_count": 185
        }
      ]
    },
    {
      "cell_type": "code",
      "source": [
        "# 순열 계산 10P3 : 서로 다른 10개 중 순서대로 3개를 선택하여 나열한 것\n",
        "\n",
        "np.prod(p)\n",
        "  # 10!"
      ],
      "metadata": {
        "colab": {
          "base_uri": "https://localhost:8080/"
        },
        "id": "BokkfY-ryhi4",
        "outputId": "38fad832-7dd4-48e3-d973-213c72fc59cd"
      },
      "execution_count": 186,
      "outputs": [
        {
          "output_type": "execute_result",
          "data": {
            "text/plain": [
              "3628800"
            ]
          },
          "metadata": {},
          "execution_count": 186
        }
      ]
    },
    {
      "cell_type": "code",
      "source": [
        "np.prod(p) / np.prod( np.arange(1, (n-(r-1))) )"
      ],
      "metadata": {
        "colab": {
          "base_uri": "https://localhost:8080/"
        },
        "id": "iLDqRR5Dy2E7",
        "outputId": "4e0acb82-61b7-4023-8bb3-4a616e0e6635"
      },
      "execution_count": 187,
      "outputs": [
        {
          "output_type": "execute_result",
          "data": {
            "text/plain": [
              "720.0"
            ]
          },
          "metadata": {},
          "execution_count": 187
        }
      ]
    },
    {
      "cell_type": "code",
      "source": [
        "math.factorial(n) / math.factorial(n-r)"
      ],
      "metadata": {
        "colab": {
          "base_uri": "https://localhost:8080/"
        },
        "id": "vQ28738wzIyd",
        "outputId": "2e571525-c545-4dd8-b4d1-044882abc501"
      },
      "execution_count": 188,
      "outputs": [
        {
          "output_type": "execute_result",
          "data": {
            "text/plain": [
              "720.0"
            ]
          },
          "metadata": {},
          "execution_count": 188
        }
      ]
    },
    {
      "cell_type": "code",
      "source": [
        "# nCr = nPr / r! = n!/ {(n-r)! * r!)\n",
        "# n개의 원소를 가지는 집합에서 r개의 부분집합을 중복을 제외하고 선택한 것\n",
        "\n",
        "np.prod(p) / (np.prod(np.arange(1, (n-(r-1)))) * np.prod(np.arange(1, r+1)))"
      ],
      "metadata": {
        "colab": {
          "base_uri": "https://localhost:8080/"
        },
        "id": "8k0UuLIyzQIR",
        "outputId": "afde3db1-a19b-417b-fc9b-acfb00a2d37a"
      },
      "execution_count": 189,
      "outputs": [
        {
          "output_type": "execute_result",
          "data": {
            "text/plain": [
              "120.0"
            ]
          },
          "metadata": {},
          "execution_count": 189
        }
      ]
    },
    {
      "cell_type": "code",
      "source": [
        "math.factorial(n) / (math.factorial(n-r) * math.factorial(r))"
      ],
      "metadata": {
        "colab": {
          "base_uri": "https://localhost:8080/"
        },
        "id": "GZ9rFLzo02Zw",
        "outputId": "0ac3032c-dab1-4be0-85a1-ca453198d511"
      },
      "execution_count": 190,
      "outputs": [
        {
          "output_type": "execute_result",
          "data": {
            "text/plain": [
              "120.0"
            ]
          },
          "metadata": {},
          "execution_count": 190
        }
      ]
    },
    {
      "cell_type": "markdown",
      "source": [
        "##### 확률의 원리, 확률변수와 확률분포, 베이지안"
      ],
      "metadata": {
        "id": "UgatpqHn1G-D"
      }
    },
    {
      "cell_type": "code",
      "source": [
        "dice = leaf.dice(1, prob_type = \"r\")\n",
        "  # [주사위를 한 번 던질 경우]\n",
        "  # [확률과 확률값]"
      ],
      "metadata": {
        "id": "jF7l84f92TKN"
      },
      "execution_count": 191,
      "outputs": []
    },
    {
      "cell_type": "code",
      "source": [
        "print(dice.support)\n",
        "  # [주사위의 구성된 값(속성) 확인]\n",
        "print(dice.ps)\n",
        "  # [주사위의 결과들이 나올 확률 확인]"
      ],
      "metadata": {
        "colab": {
          "base_uri": "https://localhost:8080/"
        },
        "id": "y8NRJnhl2S9F",
        "outputId": "07645705-8c0d-4257-a710-3fb018581d89"
      },
      "execution_count": 192,
      "outputs": [
        {
          "output_type": "stream",
          "name": "stdout",
          "text": [
            "(1, 2, 3, 4, 5, 6)\n",
            "(1/6, 1/6, 1/6, 1/6, 1/6, 1/6)\n"
          ]
        }
      ]
    },
    {
      "cell_type": "code",
      "source": [
        "# 조건부확률은 특정 조건이 정해졌을 때, given()을 사용하여 계산\n",
        "  # 나이브 베이지안 분류기 알고리즘 구현을 위한 학습\n",
        "\n",
        "print(lea.P(dice % 2 == 0))\n",
        "print(lea.P(dice == 4))\n",
        "  # [주사위를 던질 때, 특정 값이 4일 조건의 확률]\n",
        "print(dice == 4)\n",
        "  # [비교연산을 사용하여 참, 거짓 확률 반환]\n",
        "\n",
        "print(\n",
        "    dice.given( (dice % 2 == 0) ).p(4)\n",
        ")\n",
        "  # [짝수가 주어진 조건으로 주사위를 던졌을 때 특정값이 4일 조건부 확률]"
      ],
      "metadata": {
        "id": "sh2qvNHl3A4M",
        "colab": {
          "base_uri": "https://localhost:8080/"
        },
        "outputId": "4165a33a-c2d8-49d5-c818-216b5f820ce0"
      },
      "execution_count": 193,
      "outputs": [
        {
          "output_type": "stream",
          "name": "stdout",
          "text": [
            "1/2\n",
            "1/6\n",
            "False : 5/6\n",
            "True  : 1/6\n",
            "1/3\n"
          ]
        }
      ]
    },
    {
      "cell_type": "code",
      "source": [
        "die1 = lea.interval(1, 6, prob_type = \"r\")\n",
        "die2 = die1.new()\n",
        "  # [1~6까지 확률 생성 후 이산확률 복제]"
      ],
      "metadata": {
        "id": "z8pdNUBQ4MXh"
      },
      "execution_count": 194,
      "outputs": []
    },
    {
      "cell_type": "code",
      "source": [
        "die12 = lea.joint(die1, die2)\n",
        "  # [두 주사위를 던졌을 때의 확률을 결합]"
      ],
      "metadata": {
        "id": "WVYbNZU3LLmW"
      },
      "execution_count": 195,
      "outputs": []
    },
    {
      "cell_type": "code",
      "source": [
        "print(die12)\n",
        "  # [확률분포표]"
      ],
      "metadata": {
        "colab": {
          "base_uri": "https://localhost:8080/"
        },
        "id": "c_NhyF4kLqxd",
        "outputId": "cc0c6e7c-3caa-441a-8ecf-a415986bf8a8"
      },
      "execution_count": 196,
      "outputs": [
        {
          "output_type": "stream",
          "name": "stdout",
          "text": [
            "(1, 1) : 1/36\n",
            "(1, 2) : 1/36\n",
            "(1, 3) : 1/36\n",
            "(1, 4) : 1/36\n",
            "(1, 5) : 1/36\n",
            "(1, 6) : 1/36\n",
            "(2, 1) : 1/36\n",
            "(2, 2) : 1/36\n",
            "(2, 3) : 1/36\n",
            "(2, 4) : 1/36\n",
            "(2, 5) : 1/36\n",
            "(2, 6) : 1/36\n",
            "(3, 1) : 1/36\n",
            "(3, 2) : 1/36\n",
            "(3, 3) : 1/36\n",
            "(3, 4) : 1/36\n",
            "(3, 5) : 1/36\n",
            "(3, 6) : 1/36\n",
            "(4, 1) : 1/36\n",
            "(4, 2) : 1/36\n",
            "(4, 3) : 1/36\n",
            "(4, 4) : 1/36\n",
            "(4, 5) : 1/36\n",
            "(4, 6) : 1/36\n",
            "(5, 1) : 1/36\n",
            "(5, 2) : 1/36\n",
            "(5, 3) : 1/36\n",
            "(5, 4) : 1/36\n",
            "(5, 5) : 1/36\n",
            "(5, 6) : 1/36\n",
            "(6, 1) : 1/36\n",
            "(6, 2) : 1/36\n",
            "(6, 3) : 1/36\n",
            "(6, 4) : 1/36\n",
            "(6, 5) : 1/36\n",
            "(6, 6) : 1/36\n"
          ]
        }
      ]
    },
    {
      "cell_type": "code",
      "source": [
        "die_df = pd.DataFrame(die12.ps, \n",
        "                      index = die12.support,\n",
        "                      columns = [\"dice joint\"])\n",
        " # [주사위의 구성된 값(속성) 확인]\n",
        " # [주사위의 결과들이 나올 확률 확인]"
      ],
      "metadata": {
        "id": "1FtQ2FHWL5B-"
      },
      "execution_count": 197,
      "outputs": []
    },
    {
      "cell_type": "code",
      "source": [
        "die_df.T"
      ],
      "metadata": {
        "colab": {
          "base_uri": "https://localhost:8080/",
          "height": 223
        },
        "id": "_KUmr4HYL6KN",
        "outputId": "912dd48d-bb38-4c78-8d7d-89580a541381"
      },
      "execution_count": 198,
      "outputs": [
        {
          "output_type": "execute_result",
          "data": {
            "text/plain": [
              "               1                                   2                    ...  \\\n",
              "               1     2     3     4     5     6     1     2     3     4  ...   \n",
              "dice joint  1/36  1/36  1/36  1/36  1/36  1/36  1/36  1/36  1/36  1/36  ...   \n",
              "\n",
              "               5                       6                                \n",
              "               3     4     5     6     1     2     3     4     5     6  \n",
              "dice joint  1/36  1/36  1/36  1/36  1/36  1/36  1/36  1/36  1/36  1/36  \n",
              "\n",
              "[1 rows x 36 columns]"
            ],
            "text/html": [
              "\n",
              "  <div id=\"df-6e4048cf-ba6a-407c-9a88-d08d4c3c314c\">\n",
              "    <div class=\"colab-df-container\">\n",
              "      <div>\n",
              "<style scoped>\n",
              "    .dataframe tbody tr th:only-of-type {\n",
              "        vertical-align: middle;\n",
              "    }\n",
              "\n",
              "    .dataframe tbody tr th {\n",
              "        vertical-align: top;\n",
              "    }\n",
              "\n",
              "    .dataframe thead tr th {\n",
              "        text-align: left;\n",
              "    }\n",
              "</style>\n",
              "<table border=\"1\" class=\"dataframe\">\n",
              "  <thead>\n",
              "    <tr>\n",
              "      <th></th>\n",
              "      <th colspan=\"6\" halign=\"left\">1</th>\n",
              "      <th colspan=\"4\" halign=\"left\">2</th>\n",
              "      <th>...</th>\n",
              "      <th colspan=\"4\" halign=\"left\">5</th>\n",
              "      <th colspan=\"6\" halign=\"left\">6</th>\n",
              "    </tr>\n",
              "    <tr>\n",
              "      <th></th>\n",
              "      <th>1</th>\n",
              "      <th>2</th>\n",
              "      <th>3</th>\n",
              "      <th>4</th>\n",
              "      <th>5</th>\n",
              "      <th>6</th>\n",
              "      <th>1</th>\n",
              "      <th>2</th>\n",
              "      <th>3</th>\n",
              "      <th>4</th>\n",
              "      <th>...</th>\n",
              "      <th>3</th>\n",
              "      <th>4</th>\n",
              "      <th>5</th>\n",
              "      <th>6</th>\n",
              "      <th>1</th>\n",
              "      <th>2</th>\n",
              "      <th>3</th>\n",
              "      <th>4</th>\n",
              "      <th>5</th>\n",
              "      <th>6</th>\n",
              "    </tr>\n",
              "  </thead>\n",
              "  <tbody>\n",
              "    <tr>\n",
              "      <th>dice joint</th>\n",
              "      <td>1/36</td>\n",
              "      <td>1/36</td>\n",
              "      <td>1/36</td>\n",
              "      <td>1/36</td>\n",
              "      <td>1/36</td>\n",
              "      <td>1/36</td>\n",
              "      <td>1/36</td>\n",
              "      <td>1/36</td>\n",
              "      <td>1/36</td>\n",
              "      <td>1/36</td>\n",
              "      <td>...</td>\n",
              "      <td>1/36</td>\n",
              "      <td>1/36</td>\n",
              "      <td>1/36</td>\n",
              "      <td>1/36</td>\n",
              "      <td>1/36</td>\n",
              "      <td>1/36</td>\n",
              "      <td>1/36</td>\n",
              "      <td>1/36</td>\n",
              "      <td>1/36</td>\n",
              "      <td>1/36</td>\n",
              "    </tr>\n",
              "  </tbody>\n",
              "</table>\n",
              "<p>1 rows × 36 columns</p>\n",
              "</div>\n",
              "      <button class=\"colab-df-convert\" onclick=\"convertToInteractive('df-6e4048cf-ba6a-407c-9a88-d08d4c3c314c')\"\n",
              "              title=\"Convert this dataframe to an interactive table.\"\n",
              "              style=\"display:none;\">\n",
              "        \n",
              "  <svg xmlns=\"http://www.w3.org/2000/svg\" height=\"24px\"viewBox=\"0 0 24 24\"\n",
              "       width=\"24px\">\n",
              "    <path d=\"M0 0h24v24H0V0z\" fill=\"none\"/>\n",
              "    <path d=\"M18.56 5.44l.94 2.06.94-2.06 2.06-.94-2.06-.94-.94-2.06-.94 2.06-2.06.94zm-11 1L8.5 8.5l.94-2.06 2.06-.94-2.06-.94L8.5 2.5l-.94 2.06-2.06.94zm10 10l.94 2.06.94-2.06 2.06-.94-2.06-.94-.94-2.06-.94 2.06-2.06.94z\"/><path d=\"M17.41 7.96l-1.37-1.37c-.4-.4-.92-.59-1.43-.59-.52 0-1.04.2-1.43.59L10.3 9.45l-7.72 7.72c-.78.78-.78 2.05 0 2.83L4 21.41c.39.39.9.59 1.41.59.51 0 1.02-.2 1.41-.59l7.78-7.78 2.81-2.81c.8-.78.8-2.07 0-2.86zM5.41 20L4 18.59l7.72-7.72 1.47 1.35L5.41 20z\"/>\n",
              "  </svg>\n",
              "      </button>\n",
              "      \n",
              "  <style>\n",
              "    .colab-df-container {\n",
              "      display:flex;\n",
              "      flex-wrap:wrap;\n",
              "      gap: 12px;\n",
              "    }\n",
              "\n",
              "    .colab-df-convert {\n",
              "      background-color: #E8F0FE;\n",
              "      border: none;\n",
              "      border-radius: 50%;\n",
              "      cursor: pointer;\n",
              "      display: none;\n",
              "      fill: #1967D2;\n",
              "      height: 32px;\n",
              "      padding: 0 0 0 0;\n",
              "      width: 32px;\n",
              "    }\n",
              "\n",
              "    .colab-df-convert:hover {\n",
              "      background-color: #E2EBFA;\n",
              "      box-shadow: 0px 1px 2px rgba(60, 64, 67, 0.3), 0px 1px 3px 1px rgba(60, 64, 67, 0.15);\n",
              "      fill: #174EA6;\n",
              "    }\n",
              "\n",
              "    [theme=dark] .colab-df-convert {\n",
              "      background-color: #3B4455;\n",
              "      fill: #D2E3FC;\n",
              "    }\n",
              "\n",
              "    [theme=dark] .colab-df-convert:hover {\n",
              "      background-color: #434B5C;\n",
              "      box-shadow: 0px 1px 3px 1px rgba(0, 0, 0, 0.15);\n",
              "      filter: drop-shadow(0px 1px 2px rgba(0, 0, 0, 0.3));\n",
              "      fill: #FFFFFF;\n",
              "    }\n",
              "  </style>\n",
              "\n",
              "      <script>\n",
              "        const buttonEl =\n",
              "          document.querySelector('#df-6e4048cf-ba6a-407c-9a88-d08d4c3c314c button.colab-df-convert');\n",
              "        buttonEl.style.display =\n",
              "          google.colab.kernel.accessAllowed ? 'block' : 'none';\n",
              "\n",
              "        async function convertToInteractive(key) {\n",
              "          const element = document.querySelector('#df-6e4048cf-ba6a-407c-9a88-d08d4c3c314c');\n",
              "          const dataTable =\n",
              "            await google.colab.kernel.invokeFunction('convertToInteractive',\n",
              "                                                     [key], {});\n",
              "          if (!dataTable) return;\n",
              "\n",
              "          const docLinkHtml = 'Like what you see? Visit the ' +\n",
              "            '<a target=\"_blank\" href=https://colab.research.google.com/notebooks/data_table.ipynb>data table notebook</a>'\n",
              "            + ' to learn more about interactive tables.';\n",
              "          element.innerHTML = '';\n",
              "          dataTable['output_type'] = 'display_data';\n",
              "          await google.colab.output.renderOutput(dataTable, element);\n",
              "          const docLink = document.createElement('div');\n",
              "          docLink.innerHTML = docLinkHtml;\n",
              "          element.appendChild(docLink);\n",
              "        }\n",
              "      </script>\n",
              "    </div>\n",
              "  </div>\n",
              "  "
            ]
          },
          "metadata": {},
          "execution_count": 198
        }
      ]
    },
    {
      "cell_type": "code",
      "source": [
        "die12.p_sum\n",
        "  # [근원사건] 1"
      ],
      "metadata": {
        "colab": {
          "base_uri": "https://localhost:8080/"
        },
        "id": "XzXbOwcCL6Hp",
        "outputId": "ee0138c1-1923-494a-d929-9bf705c5bc11"
      },
      "execution_count": 199,
      "outputs": [
        {
          "output_type": "execute_result",
          "data": {
            "text/plain": [
              "1"
            ]
          },
          "metadata": {},
          "execution_count": 199
        }
      ]
    },
    {
      "cell_type": "code",
      "source": [
        "# 첫 번째 주사위를 던질 때 값이 2보다 작거나 같을 조건부 확률\n",
        "\n",
        "die12.given( die1 <= 2 )"
      ],
      "metadata": {
        "colab": {
          "base_uri": "https://localhost:8080/"
        },
        "id": "Qa3hn8MWL6FV",
        "outputId": "a52d1e00-f531-4f68-edaf-528af20b7332"
      },
      "execution_count": 200,
      "outputs": [
        {
          "output_type": "execute_result",
          "data": {
            "text/plain": [
              "(1, 1) : 1/12\n",
              "(1, 2) : 1/12\n",
              "(1, 3) : 1/12\n",
              "(1, 4) : 1/12\n",
              "(1, 5) : 1/12\n",
              "(1, 6) : 1/12\n",
              "(2, 1) : 1/12\n",
              "(2, 2) : 1/12\n",
              "(2, 3) : 1/12\n",
              "(2, 4) : 1/12\n",
              "(2, 5) : 1/12\n",
              "(2, 6) : 1/12"
            ]
          },
          "metadata": {},
          "execution_count": 200
        }
      ]
    },
    {
      "cell_type": "markdown",
      "source": [
        "##### 베이지안(베이즈) 정리에 따르면 두 사건의 확률을 처리할 때 두 사건을 합쳐 복합사건으로 처리함.\n",
        "\n",
        "사건이 동시에 일어난 경우 != 개별적으로 일어난 경우에 따라 확률을 처리하는 법칙이 다름.\n",
        "\n",
        "```\n",
        "P(B|A) = P(A∩B) / P(A)\n",
        "표본공간이 전체(A∪B)에서 A로 축소\n",
        "P(A∩B) = P(A) * P(B|A)\n",
        "\n",
        "IF, P(B)와 P(A) 독립이면 P(B|A) = P(B)\n",
        "표본 공간을 구할 수 없기 때문\n",
        "```\n",
        "\n",
        "![image.png](data:image/png;base64,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)\n",
        "\n",
        "특정 표본 공간에서 사전 확률이 명확히 분해된 경우, 두 확률이 **배반사건일 경우** 이 사건의 결과로 기존 원인 사건을 역으로 계산하는 법칙을 베이지안 정리라고 함"
      ],
      "metadata": {
        "id": "MXqE_KTVNXpE"
      }
    },
    {
      "cell_type": "markdown",
      "source": [
        "```\n",
        "P(A1∩B) = P(B∩A1)\n",
        "P(A1|B)*P(B) = P(B|A1)*P(A1)\n",
        "\n",
        "-> 양변에 P(B)를 나눔\n",
        "\n",
        "P(A1|B) = P(B|A1)*P(A1) / P(B)\n",
        "\n",
        "P(A1|B) = P(B|A1)*P(A1) / ( P(B|A1)*P(A1) + P(B|A2)*P(A2) )\n",
        "```\n",
        "표본 공간에서 사건이 먼저 분해됨"
      ],
      "metadata": {
        "id": "y2QLvuHHQn5m"
      }
    },
    {
      "cell_type": "code",
      "source": [
        "# 사전 확률\n",
        "# 사후 확률, 우도.가능도\n",
        "\n",
        "bowl = lea.vals(\n",
        "    \"bowl1\", \"bow12\", prob_type = \"r\"\n",
        ")\n",
        "  # [두 번째 그릇의 쿠키에 대한 확률 생성]"
      ],
      "metadata": {
        "id": "ohdWOcWAL6Cg"
      },
      "execution_count": 201,
      "outputs": []
    },
    {
      "cell_type": "code",
      "source": [
        "bowl"
      ],
      "metadata": {
        "id": "cj00kZe0L56x",
        "colab": {
          "base_uri": "https://localhost:8080/"
        },
        "outputId": "62dded48-3601-43aa-dbe9-07df3bd0db1e"
      },
      "execution_count": 202,
      "outputs": [
        {
          "output_type": "execute_result",
          "data": {
            "text/plain": [
              "bow12 : 1/2\n",
              "bowl1 : 1/2"
            ]
          },
          "metadata": {},
          "execution_count": 202
        }
      ]
    },
    {
      "cell_type": "code",
      "source": [
        "bowl1 = lea.pmf(\n",
        "    {\"V\" : 30, \"C\" : 10}, prob_type = \"r\")\n",
        "  # [그릇1에 들어갈 확률은 바닐라 맛 쿠키 30, 초콜릿 쿠키 10]\n",
        "bowl1"
      ],
      "metadata": {
        "colab": {
          "base_uri": "https://localhost:8080/"
        },
        "id": "Iun-S9FpKpkb",
        "outputId": "d58f055a-013c-4632-8915-92374c56f792"
      },
      "execution_count": 203,
      "outputs": [
        {
          "output_type": "execute_result",
          "data": {
            "text/plain": [
              "C : 1/4\n",
              "V : 3/4"
            ]
          },
          "metadata": {},
          "execution_count": 203
        }
      ]
    },
    {
      "cell_type": "code",
      "source": [
        "bowl2 = lea.pmf(\n",
        "    {\"V\" : 20, \"C\" : 20}, prob_type = \"r\")\n",
        "  # [그릇1에서 하나를 선택하여 바닐라 맛 쿠키가 나올 경우]\n",
        "  # [그 결과를 보고 그릇1에서 바닐라 맛 쿠키를 선택할 확률]\n",
        "bowl2"
      ],
      "metadata": {
        "colab": {
          "base_uri": "https://localhost:8080/"
        },
        "id": "YRY5fcKqQebd",
        "outputId": "dd0cfa29-529c-4110-b720-47ab103e7e2a"
      },
      "execution_count": 204,
      "outputs": [
        {
          "output_type": "execute_result",
          "data": {
            "text/plain": [
              "C : 1/2\n",
              "V : 1/2"
            ]
          },
          "metadata": {},
          "execution_count": 204
        }
      ]
    },
    {
      "cell_type": "code",
      "source": [
        "data = {\"bowl1\" : bowl1.ps,\n",
        "        \"bowl2\" : bowl2.ps}\n",
        "bowl_df = pd.DataFrame(\n",
        "    data,\n",
        "    index = [\"chocolate\", \"vanilla\"]\n",
        ")\n",
        "bowl_df"
      ],
      "metadata": {
        "colab": {
          "base_uri": "https://localhost:8080/",
          "height": 112
        },
        "id": "Y2UTNoICQeR1",
        "outputId": "9d17edf2-af4f-4af1-eae9-50400821a142"
      },
      "execution_count": 205,
      "outputs": [
        {
          "output_type": "execute_result",
          "data": {
            "text/plain": [
              "          bowl1 bowl2\n",
              "chocolate   1/4   1/2\n",
              "vanilla     3/4   1/2"
            ],
            "text/html": [
              "\n",
              "  <div id=\"df-6ac311b2-c096-45c5-aa11-68a0dc3df2bd\">\n",
              "    <div class=\"colab-df-container\">\n",
              "      <div>\n",
              "<style scoped>\n",
              "    .dataframe tbody tr th:only-of-type {\n",
              "        vertical-align: middle;\n",
              "    }\n",
              "\n",
              "    .dataframe tbody tr th {\n",
              "        vertical-align: top;\n",
              "    }\n",
              "\n",
              "    .dataframe thead th {\n",
              "        text-align: right;\n",
              "    }\n",
              "</style>\n",
              "<table border=\"1\" class=\"dataframe\">\n",
              "  <thead>\n",
              "    <tr style=\"text-align: right;\">\n",
              "      <th></th>\n",
              "      <th>bowl1</th>\n",
              "      <th>bowl2</th>\n",
              "    </tr>\n",
              "  </thead>\n",
              "  <tbody>\n",
              "    <tr>\n",
              "      <th>chocolate</th>\n",
              "      <td>1/4</td>\n",
              "      <td>1/2</td>\n",
              "    </tr>\n",
              "    <tr>\n",
              "      <th>vanilla</th>\n",
              "      <td>3/4</td>\n",
              "      <td>1/2</td>\n",
              "    </tr>\n",
              "  </tbody>\n",
              "</table>\n",
              "</div>\n",
              "      <button class=\"colab-df-convert\" onclick=\"convertToInteractive('df-6ac311b2-c096-45c5-aa11-68a0dc3df2bd')\"\n",
              "              title=\"Convert this dataframe to an interactive table.\"\n",
              "              style=\"display:none;\">\n",
              "        \n",
              "  <svg xmlns=\"http://www.w3.org/2000/svg\" height=\"24px\"viewBox=\"0 0 24 24\"\n",
              "       width=\"24px\">\n",
              "    <path d=\"M0 0h24v24H0V0z\" fill=\"none\"/>\n",
              "    <path d=\"M18.56 5.44l.94 2.06.94-2.06 2.06-.94-2.06-.94-.94-2.06-.94 2.06-2.06.94zm-11 1L8.5 8.5l.94-2.06 2.06-.94-2.06-.94L8.5 2.5l-.94 2.06-2.06.94zm10 10l.94 2.06.94-2.06 2.06-.94-2.06-.94-.94-2.06-.94 2.06-2.06.94z\"/><path d=\"M17.41 7.96l-1.37-1.37c-.4-.4-.92-.59-1.43-.59-.52 0-1.04.2-1.43.59L10.3 9.45l-7.72 7.72c-.78.78-.78 2.05 0 2.83L4 21.41c.39.39.9.59 1.41.59.51 0 1.02-.2 1.41-.59l7.78-7.78 2.81-2.81c.8-.78.8-2.07 0-2.86zM5.41 20L4 18.59l7.72-7.72 1.47 1.35L5.41 20z\"/>\n",
              "  </svg>\n",
              "      </button>\n",
              "      \n",
              "  <style>\n",
              "    .colab-df-container {\n",
              "      display:flex;\n",
              "      flex-wrap:wrap;\n",
              "      gap: 12px;\n",
              "    }\n",
              "\n",
              "    .colab-df-convert {\n",
              "      background-color: #E8F0FE;\n",
              "      border: none;\n",
              "      border-radius: 50%;\n",
              "      cursor: pointer;\n",
              "      display: none;\n",
              "      fill: #1967D2;\n",
              "      height: 32px;\n",
              "      padding: 0 0 0 0;\n",
              "      width: 32px;\n",
              "    }\n",
              "\n",
              "    .colab-df-convert:hover {\n",
              "      background-color: #E2EBFA;\n",
              "      box-shadow: 0px 1px 2px rgba(60, 64, 67, 0.3), 0px 1px 3px 1px rgba(60, 64, 67, 0.15);\n",
              "      fill: #174EA6;\n",
              "    }\n",
              "\n",
              "    [theme=dark] .colab-df-convert {\n",
              "      background-color: #3B4455;\n",
              "      fill: #D2E3FC;\n",
              "    }\n",
              "\n",
              "    [theme=dark] .colab-df-convert:hover {\n",
              "      background-color: #434B5C;\n",
              "      box-shadow: 0px 1px 3px 1px rgba(0, 0, 0, 0.15);\n",
              "      filter: drop-shadow(0px 1px 2px rgba(0, 0, 0, 0.3));\n",
              "      fill: #FFFFFF;\n",
              "    }\n",
              "  </style>\n",
              "\n",
              "      <script>\n",
              "        const buttonEl =\n",
              "          document.querySelector('#df-6ac311b2-c096-45c5-aa11-68a0dc3df2bd button.colab-df-convert');\n",
              "        buttonEl.style.display =\n",
              "          google.colab.kernel.accessAllowed ? 'block' : 'none';\n",
              "\n",
              "        async function convertToInteractive(key) {\n",
              "          const element = document.querySelector('#df-6ac311b2-c096-45c5-aa11-68a0dc3df2bd');\n",
              "          const dataTable =\n",
              "            await google.colab.kernel.invokeFunction('convertToInteractive',\n",
              "                                                     [key], {});\n",
              "          if (!dataTable) return;\n",
              "\n",
              "          const docLinkHtml = 'Like what you see? Visit the ' +\n",
              "            '<a target=\"_blank\" href=https://colab.research.google.com/notebooks/data_table.ipynb>data table notebook</a>'\n",
              "            + ' to learn more about interactive tables.';\n",
              "          element.innerHTML = '';\n",
              "          dataTable['output_type'] = 'display_data';\n",
              "          await google.colab.output.renderOutput(dataTable, element);\n",
              "          const docLink = document.createElement('div');\n",
              "          docLink.innerHTML = docLinkHtml;\n",
              "          element.appendChild(docLink);\n",
              "        }\n",
              "      </script>\n",
              "    </div>\n",
              "  </div>\n",
              "  "
            ]
          },
          "metadata": {},
          "execution_count": 205
        }
      ]
    },
    {
      "cell_type": "code",
      "source": [
        "bowl_df = bowl_df.astype(\"float\")"
      ],
      "metadata": {
        "id": "IqaghVodS96O"
      },
      "execution_count": 206,
      "outputs": []
    },
    {
      "cell_type": "code",
      "source": [
        "bowl_df.plot(kind = \"bar\")"
      ],
      "metadata": {
        "colab": {
          "base_uri": "https://localhost:8080/",
          "height": 322
        },
        "id": "7BoiIsIDQEnC",
        "outputId": "3da28c86-b3cd-4f5e-8a14-167c65ae10b2"
      },
      "execution_count": 207,
      "outputs": [
        {
          "output_type": "execute_result",
          "data": {
            "text/plain": [
              "<matplotlib.axes._subplots.AxesSubplot at 0x7faeba005e20>"
            ]
          },
          "metadata": {},
          "execution_count": 207
        },
        {
          "output_type": "display_data",
          "data": {
            "text/plain": [
              "<Figure size 432x288 with 1 Axes>"
            ],
            "image/png": "[encoded data removed]"
          },
          "metadata": {
            "needs_background": "light"
          }
        }
      ]
    },
    {
      "cell_type": "markdown",
      "source": [
        "##### 사후확률(posterior) = 사전확률(prior) * 우도(likelihood) / 정규화상수 또는 증거(normarlizing constant)\n",
        "\n",
        "'A의 발생 확률인 P(A)’에 ‘A가 발생한 상태에서 B가 발생할 확률인 P(B|A)’를 곱'\n",
        "**주어진 데이터를 판별(혹은 판단)하기 위해 사전 지식(prior)에 추가정보(likelihood)를 곱한 값을 판단근거로 삼을 수 있다.**\n",
        "\n",
        "'evidence를 관측하여 갱신하기 전 후의 내 주장에 관한 신뢰도'가 사전 사후를 가르는 새로운 정보가 된다.\n",
        "\n",
        "https://github.com/joelgrus/data-science-from-scratch/blob/master/scratch/naive_bayes.py\n",
        "\n",
        "https://github.com/scikit-learn/scikit-learn/blob/main/sklearn/naive_bayes.py\n",
        "\n",
        "병에 걸리는 경우 : 사건 D\n",
        "\n",
        "양성 반응을 보이는 경우 : 사건 S\n",
        "\n",
        "병에 걸린 사람이 양성 반응을 보이는 경우 : 조건부 사건 S|D\n",
        "\n",
        "양성 반응을 보이는 사람이 병에 걸려 있을 경우 : 조건부 사건 D|S"
      ],
      "metadata": {
        "id": "z2k0VmVKIeGa"
      }
    },
    {
      "cell_type": "markdown",
      "source": [
        "##### 가능도, 베이즈정리, 조건부확률, 나이브 베이지안 분류기(신뢰도 기반 이진분류)\n",
        "\n",
        "* 가능도를 계산하기 위해서는 각 데이터 샘플에서 후보 분포에 대한 높이(즉, \n",
        "likelihood 기여도)를 계산해서 다 곱한 것을 이용할 수 있을 것이다. 계산된 높이를 더해주지 않고 곱해주는 것은 모든 데이터들의 추출이 독립적으로 연달아 일어나는 사건이기 때문이다.\n",
        "\n",
        "* 전체 표본집합의 결합확률밀도 함수, likelihood function\n",
        "\n",
        "  Likelihood 함수의 최대값을 찾는 방법, 가장 보편적인 방법은 미분계수를 이용하는 것이다. 파라미터 θ에 대하여 다음과 같이 편미분하고 그 값이 0이 되도록 하는 θ를 찾는 과정\n",
        "* L(θ|x) = logP(x|θ) = ∑i=1,...,n logP(xi|θ)\n",
        "\n",
        "\n",
        "* L(θ|x)를 μ에 대해 편미분하면, ∂L(θ|x)/∂μ= 1/σ2(∑i=1...n (xi − nμ))\n",
        "\n",
        "* 따라서 최대우도를 만들어주는 모평균의 추정량은 μhat = 1/n∑i=1...n (xi))\n",
        "\n",
        "* L(θ|x)를 표준편차 σ로 편미분하면, ∂L(θ|x)/∂σ = \n",
        "−n/σ+1/σ^3 ∑i=1...n((xi − μ)^2 = 0\n",
        "\n",
        "* 따라서, 최대우도를 만들어주는 모분산의 추정량은 σ^2hat = 1/n ∑i=1...n (xi − μ)^2\n",
        "\n",
        "* P(c1|x1, x2, ⋯, xn) = p(c1) * p(x1|c1) * p(x2|c1) * ⋯ * p(xn|c1)\n",
        "= P(c1)n∏i=1 P(xi|c1)\n",
        "\n",
        "* yhat = argmax k∈{1,2,⋯,k} P(ck)n∏i=1 P(xk|ck)\n",
        "\n",
        "  x1이 일어나든 말든 x2의 확률에는 x1의 발생여부가 조건으로써 영향을 받지 않는다는 것"
      ],
      "metadata": {
        "id": "sDUAf2jZhMXe"
      }
    },
    {
      "cell_type": "code",
      "source": [
        "# P(A1|B) 사후확률의 예로는 바닐라 맛 쿠키 전체 중에 그릇 1에 해당하는 경우\n",
        "\n",
        "cookie = lea.pmf(\n",
        "    {\"vanilla\" : 50, \"chocolate\":30},\n",
        "    prob_type = \"r\"\n",
        ")\n",
        "  # [전체 쿠키에 대한 확률 생성] P(bowl_1|V)*P(V)\n",
        "bowl1.p(\"V\") * bowl.p(\"bowl1\") / cookie.p(\"vanilla\")"
      ],
      "metadata": {
        "colab": {
          "base_uri": "https://localhost:8080/"
        },
        "id": "tnQHJPxHS46o",
        "outputId": "0e1e4f9f-3147-4a3e-cd92-56b714e82391"
      },
      "execution_count": 208,
      "outputs": [
        {
          "output_type": "execute_result",
          "data": {
            "text/plain": [
              "3/5"
            ]
          },
          "metadata": {},
          "execution_count": 208
        }
      ]
    },
    {
      "cell_type": "code",
      "source": [
        "# 쿠키에 대한 베이지안 처리\n",
        "\n",
        "(T, F) = (True, False)\n",
        "  # [변수에 논리값 할당]\n",
        "\n",
        "_bowl = lea.pmf(\n",
        "    {(T,F,T,F): 20,\n",
        "     (T,F,F,T): 20,\n",
        "     (F,T,T,F): 10,\n",
        "     (F,T,F,T): 30},\n",
        "     normalization = False,\n",
        "     prob_type = \"r\"\n",
        ")\n",
        "  # [확률분포표 만들되, 중요한 쿠키 정보를 그대로 처리하기 위해 정규화 과정 생략]\n",
        "  # [그릇 1, 그릇 2, 바닐라맛 쿠키, 초콜릿맛 쿠키]\n",
        "  # [50개 기준으로 정규화 처리]"
      ],
      "metadata": {
        "id": "yFBmi0x9SHgJ"
      },
      "execution_count": 209,
      "outputs": []
    },
    {
      "cell_type": "code",
      "source": [
        "_bowl"
      ],
      "metadata": {
        "id": "560WVkSsSp5e",
        "colab": {
          "base_uri": "https://localhost:8080/"
        },
        "outputId": "3fc74adc-9703-49d5-d311-6c4dc9f6ecef"
      },
      "execution_count": 210,
      "outputs": [
        {
          "output_type": "execute_result",
          "data": {
            "text/plain": [
              "(False, True , False, True ) : 30\n",
              "(False, True , True , False) : 10\n",
              "(True , False, False, True ) : 20\n",
              "(True , False, True , False) : 20"
            ]
          },
          "metadata": {},
          "execution_count": 210
        }
      ]
    },
    {
      "cell_type": "code",
      "source": [
        "bowl = _bowl.as_joint(\"bowl1\", \"bowl2\", \"vanilla\", \"chocolate\")\n",
        "  # [논리값의 열에 대한 이름 생성]\n",
        "bowl"
      ],
      "metadata": {
        "colab": {
          "base_uri": "https://localhost:8080/"
        },
        "id": "UjgFR5x-EeXs",
        "outputId": "8f4d9702-8a79-4b1d-857e-1b3f62ce1271"
      },
      "execution_count": 211,
      "outputs": [
        {
          "output_type": "execute_result",
          "data": {
            "text/plain": [
              " bowl1, bowl2, vanilla, chocolate\n",
              "(False, True , False  , True     ) : 3/8\n",
              "(False, True , True   , False    ) : 1/8\n",
              "(True , False, False  , True     ) : 2/8\n",
              "(True , False, True   , False    ) : 2/8"
            ]
          },
          "metadata": {},
          "execution_count": 211
        }
      ]
    },
    {
      "cell_type": "code",
      "source": [
        "bowl.support\n",
        "  # [쿠키의 표시가 명확한지 support 속성으로 확인]\n",
        "  # [해당 그릇과 쿠키의 확률을 표시하는 논리값 True]"
      ],
      "metadata": {
        "colab": {
          "base_uri": "https://localhost:8080/"
        },
        "id": "y9W1KykiDtsZ",
        "outputId": "f59c88e1-fb88-4ad4-942a-14fca8d31ecc"
      },
      "execution_count": 212,
      "outputs": [
        {
          "output_type": "execute_result",
          "data": {
            "text/plain": [
              "(_(bowl1=False, bowl2=True, vanilla=False, chocolate=True),\n",
              " _(bowl1=False, bowl2=True, vanilla=True, chocolate=False),\n",
              " _(bowl1=True, bowl2=False, vanilla=False, chocolate=True),\n",
              " _(bowl1=True, bowl2=False, vanilla=True, chocolate=False))"
            ]
          },
          "metadata": {},
          "execution_count": 212
        }
      ]
    },
    {
      "cell_type": "code",
      "source": [
        "print(lea.P(bowl.bowl1 & bowl.vanilla))\n",
        "  # [조건을 처리하는 함수 P로 그릇 1과 바닐라맛 쿠키의 결합 확률* 생성]\n",
        "  # [*) 전체 분포에서 해당하는 전체 확률]\n",
        "print(bowl.ps)"
      ],
      "metadata": {
        "colab": {
          "base_uri": "https://localhost:8080/"
        },
        "id": "MYYaN606E-L9",
        "outputId": "faa12ea1-935e-4c78-bf88-3aa4861d6a98"
      },
      "execution_count": 213,
      "outputs": [
        {
          "output_type": "stream",
          "name": "stdout",
          "text": [
            "1/4\n",
            "(3/8, 1/8, 1/4, 1/4)\n"
          ]
        }
      ]
    },
    {
      "cell_type": "code",
      "source": [
        "bowl.given(bowl.vanilla)\n",
        "  # [바닐라맛 쿠키일 경우 확률]"
      ],
      "metadata": {
        "colab": {
          "base_uri": "https://localhost:8080/"
        },
        "id": "zXVYWhcXF_bQ",
        "outputId": "bc6816d8-da7d-48cb-f79c-da0ded5d69b9"
      },
      "execution_count": 214,
      "outputs": [
        {
          "output_type": "execute_result",
          "data": {
            "text/plain": [
              " bowl1, bowl2, vanilla, chocolate\n",
              "(False, True , True   , False    ) : 1/3\n",
              "(True , False, True   , False    ) : 2/3"
            ]
          },
          "metadata": {},
          "execution_count": 214
        }
      ]
    },
    {
      "cell_type": "code",
      "source": [
        "lea.P(bowl.bowl1.given( bowl.vanilla ))\n",
        "  # [그릇 1에서 선택한 것이 바닐라쿠키일 조건의 확률]"
      ],
      "metadata": {
        "colab": {
          "base_uri": "https://localhost:8080/"
        },
        "id": "_fGhInP5E8AM",
        "outputId": "f7d1e709-b7a9-4d30-d481-0b5643b9674f"
      },
      "execution_count": 215,
      "outputs": [
        {
          "output_type": "execute_result",
          "data": {
            "text/plain": [
              "2/3"
            ]
          },
          "metadata": {},
          "execution_count": 215
        }
      ]
    },
    {
      "cell_type": "markdown",
      "source": [
        "##### **벡터나 행렬을 계산하는 선형 대수**로 넘파이 모듈 이해\n",
        "* 벡터와 1차원 배열 / 행렬과 2차원 배열 / 텐서(수학용어의 특정차원의 표현)와 다차원 배열\n",
        "* 유니버셜 함수\n",
        "* 선형대수 연산인 내적과 외적\n",
        "* 행렬식과 역행렬\n",
        "* 선형변환, 고윳값, 고유벡터 \n",
        "\n",
        "* **PCA(주성분분석), SVM(서포트벡터머신)의 알고리즘을 수학적으로 밑바닥부터 이해하기 위한 학습**\n"
      ],
      "metadata": {
        "id": "8MKtPA1Rt_aM"
      }
    },
    {
      "cell_type": "markdown",
      "source": [
        "* 스칼라 값을 벡터(수학: 열벡터, 넘파이: 행벡터)의 원소마다 상숫값을 곱한 결과\n",
        "\n",
        "  스칼라 값을 벡터와 같은 차원을 만들어 인덱스의 원소를 곱하는 것과 같다.\n",
        "  스칼라 값이 벡터의 형상(shape)과 같게 확장되는 것을 브로드캐스팅(broadcasting)이라고 한다.\n",
        "\n",
        "* 벡터란 상수배(곱셈 규칙)와 덧셈 규칙이 정의되는 원소들은 선형성을 갖는다.\n",
        "\n",
        "  이들의 집합에 **이 연산들이 정의된 집합을 벡터 공간**이라고 한다.\n",
        "\n",
        "  행렬은 벡터를 또 다른 벡터로 변환(내적과 정사영)시키는 일종의 연산자(행렬과 벡터의 곱은 행렬의 열 벡터들을 얼마나 선형 결합시킬 것인지 결정)\n",
        "\n",
        "  해당 열벡터가 등고선 몇 개를 통과했는가, 따라서 행벡터의 길이가 길어진다면 등고선의 간격이 더 좁아지는 것과 같은 효과를 내게 된다는 것을 알 수 있다.\n",
        "\n",
        "* 전치행렬(행렬 교환 축변환) : np.reshape() != np.T(), np.transpose()"
      ],
      "metadata": {
        "id": "VTpm0WqY7jsP"
      }
    },
    {
      "cell_type": "code",
      "source": [
        "b = np.arange(10).reshape(5, 2)\n",
        "  # [numpy] [1 dimension array] [range] [reshape 2 dimension 2row, 5col]"
      ],
      "metadata": {
        "id": "qCcsdJ1XFNOF"
      },
      "execution_count": 216,
      "outputs": []
    },
    {
      "cell_type": "code",
      "source": [
        "b\n",
        "  # [row 기준 정렬]"
      ],
      "metadata": {
        "colab": {
          "base_uri": "https://localhost:8080/"
        },
        "id": "_jgFgf4YJOFO",
        "outputId": "9c2fb6b7-d023-4bd5-993e-0f0d7cd902cf"
      },
      "execution_count": 217,
      "outputs": [
        {
          "output_type": "execute_result",
          "data": {
            "text/plain": [
              "array([[0, 1],\n",
              "       [2, 3],\n",
              "       [4, 5],\n",
              "       [6, 7],\n",
              "       [8, 9]])"
            ]
          },
          "metadata": {},
          "execution_count": 217
        }
      ]
    },
    {
      "cell_type": "code",
      "source": [
        "a = np.arange(10).reshape(2, 5).T"
      ],
      "metadata": {
        "id": "aDgDrJL27Yey"
      },
      "execution_count": 218,
      "outputs": []
    },
    {
      "cell_type": "code",
      "source": [
        "a\n",
        "  # [내부의 원소값 변경 없이 축만 변경, column 기준 정렬]"
      ],
      "metadata": {
        "colab": {
          "base_uri": "https://localhost:8080/"
        },
        "id": "04fKyQC17Ybd",
        "outputId": "50a59ed4-bfc6-4881-e324-579aca1bcd67"
      },
      "execution_count": 219,
      "outputs": [
        {
          "output_type": "execute_result",
          "data": {
            "text/plain": [
              "array([[0, 5],\n",
              "       [1, 6],\n",
              "       [2, 7],\n",
              "       [3, 8],\n",
              "       [4, 9]])"
            ]
          },
          "metadata": {},
          "execution_count": 219
        }
      ]
    },
    {
      "cell_type": "code",
      "source": [
        "try:\n",
        "   print(a + b)\n",
        "except Exception as e:\n",
        "    print(e)"
      ],
      "metadata": {
        "colab": {
          "base_uri": "https://localhost:8080/"
        },
        "id": "wAYaDlTQ7YWN",
        "outputId": "eae2289b-5cfa-4e68-e881-51046d3691b7"
      },
      "execution_count": 220,
      "outputs": [
        {
          "output_type": "stream",
          "name": "stdout",
          "text": [
            "[[ 0  6]\n",
            " [ 3  9]\n",
            " [ 6 12]\n",
            " [ 9 15]\n",
            " [12 18]]\n"
          ]
        }
      ]
    },
    {
      "cell_type": "code",
      "source": [
        "try: \n",
        "  a = a.T\n",
        "  b = np.reshape(b, (2, 5))\n",
        "    # [a = b]\n",
        "  print(a + b)\n",
        "except Exception as e:\n",
        "  print(e)"
      ],
      "metadata": {
        "colab": {
          "base_uri": "https://localhost:8080/"
        },
        "id": "UfFuhugx7YTY",
        "outputId": "e6a9ce3b-6228-4230-8108-5fa93dc16e33"
      },
      "execution_count": 221,
      "outputs": [
        {
          "output_type": "stream",
          "name": "stdout",
          "text": [
            "[[ 0  2  4  6  8]\n",
            " [10 12 14 16 18]]\n"
          ]
        }
      ]
    },
    {
      "cell_type": "markdown",
      "source": [
        "##### 행렬\n",
        "* **행벡터는 열벡터를 입력으로 받아 스칼라값을 출력하는 함수**,  \n",
        "f: V → R\n",
        "x,y 순서 쌍들을 하나의 선으로 연결\n",
        "\n",
        "* 단위행렬(identify matrix)은 행과 열이 같은 정사각 행렬 때만 사용 : np.eye(), bp.identity()\n",
        "  \n",
        "  선형 대수에서 행렬곱을 처리해도 같은 행렬을 유지하는 것(수학의 항등원)\n",
        "\n",
        "* 선형대수의 삼각행렬(triangular matrix), 하삼각행렬(lower triangular matrix), 상삼각행렬(upper triangular matrix)\n",
        "\n",
        "* 하나의 삼각행렬을 하삼각행렬과 상삼각행렬의 곱으로 표현되어 분해하는 LU decomposition(factorization)\n",
        "\n",
        "  [충북대 소프트웨어학과 LU분해](http://elearning.kocw.net/contents4/document/lec/2013/Chungbuk/LeeGeonmyeong1/7.pdf)\n",
        "\n",
        "  [충북대 소프트웨어학과 고유값과 고유벡터](http://contents.kocw.or.kr/contents4/document/lec/2013/Chungbuk/LeeGeonmyeong1/10.pdf)\n",
        "\n",
        "  [충북대 소프트웨어학과 특이값 분해](http://elearning.kocw.net/contents4/document/lec/2013/Chungbuk/LeeGeonmyeong1/15.pdf)"
      ],
      "metadata": {
        "id": "iVw0xiT-P9qG"
      }
    },
    {
      "cell_type": "markdown",
      "source": [
        "\\begin{bmatrix}1\\\\3\\end{bmatrix}\\begin{bmatrix}2\\\\4\\end{bmatrix}\\begin{bmatrix}3\\\\5\\end{bmatrix}"
      ],
      "metadata": {
        "id": "jYl2KO_0ZUny"
      }
    },
    {
      "cell_type": "markdown",
      "source": [
        "![image.png](data:image/png;base64,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)\n",
        "\n",
        "![image.png](data:image/png;base64,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)"
      ],
      "metadata": {
        "id": "9e-kryUyhUGG"
      }
    },
    {
      "cell_type": "markdown",
      "source": [
        "행렬을 이용한 연립방정식의 표현으로 컴퓨터로 문제 풀이\n",
        "\n",
        "행렬곱의 관점은 행벡터와 열벡터 간의 내적(inner product)을 계산함으로써 행렬곱이 이루어진다. 또한 **행렬과 벡터의 곱**을 **열 벡터의 선형결합**, 기저 벡터의 변형(→x = [1, 1])을 통한 선형변환으로 해석할 수 있도록 도움을 준다.\n",
        "\n",
        "**두 벡터 [1, 3]과 [2, 4]로부터 생성된 벡터 공간 내에 벡터 [3, 5]가 존재하는가?**\n",
        "\n",
        "**만약 그렇다면, [1, 3]과 [2, 4]을 어떻게 조합해야 [3, 5]를 구할 수 있는가?**\n",
        "\n",
        "* 연립방정식 풀이과정: \n",
        "  \n",
        "  (1) 방정식의 양변에 숫자 곱하기 (Row multiplication) \n",
        "  \n",
        "  r2 -> s*r2\n",
        "  (sr2) * (1/s)*r2 = r2\n",
        "  E^(−1)*E = I(Identity matrix)\n",
        "\n",
        "  단위행렬 대각성분 중 하나의 숫자를 바꾸어 얻게되는 행렬\n",
        "  (기본 행렬의 역할은 뒤에 곱해질 행렬의 행에 연산을 취하는 것)\n",
        "   \n",
        "  (2) 서로 다른 방정식 합치기 (Row addition)\n",
        "\n",
        "  (3) 서로 다른 방정식 순서 바꾸기 (Row switching = Permutation matrix)\n",
        "\n",
        "  단위행렬의 행을 바꾸어주는 것, 바꿔주는 행 두개의 번호를 Pij와 같이 관례적으로 적어주어서 어떤 두 행의 순서를 바꾸고자 하는지를 명시\n",
        "\n",
        "* r1 : 2x + 3y = 1 r2 : 4x + 7y = 3\n",
        "\n",
        "* A = np.array([[2, 3], [4, 7]]).reshape(2, 2)\n",
        "\n",
        "  A[x, y] = b = [1, 3]\n",
        "\n",
        "  [A|b] = [[2, 3] [4, 7] | [1, 3]] : 첨가행렬(2 by 3 augmenated matrix)"
      ],
      "metadata": {
        "id": "JFotprYPAGOx"
      }
    },
    {
      "cell_type": "markdown",
      "source": [
        "![image.png](data:image/png;base64,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)\n",
        "\n",
        "![image.png](data:image/png;base64,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)"
      ],
      "metadata": {
        "id": "6LY9nkCTJiYb"
      }
    },
    {
      "cell_type": "code",
      "source": [
        "e = np.eye(3)\n",
        "print(e)\n",
        "  # [대각선 원소 1, 나머지 0인 단위 행렬 생성]\n",
        "ide = np.identity(4)\n",
        "print(ide)\n",
        "  # [하나의 인자를 받아 정사각 행렬 생성]"
      ],
      "metadata": {
        "colab": {
          "base_uri": "https://localhost:8080/"
        },
        "id": "su8a5NPsFaci",
        "outputId": "d5ebc623-4279-4c07-cefe-c6cb3ab73d2c"
      },
      "execution_count": 222,
      "outputs": [
        {
          "output_type": "stream",
          "name": "stdout",
          "text": [
            "[[1. 0. 0.]\n",
            " [0. 1. 0.]\n",
            " [0. 0. 1.]]\n",
            "[[1. 0. 0. 0.]\n",
            " [0. 1. 0. 0.]\n",
            " [0. 0. 1. 0.]\n",
            " [0. 0. 0. 1.]]\n"
          ]
        }
      ]
    },
    {
      "cell_type": "code",
      "source": [
        "tri = np.tri(3)\n",
        "  # [대각선과 그 밑의 원소가 1인 삼각 행렬 생성]\n",
        "print(tri)"
      ],
      "metadata": {
        "colab": {
          "base_uri": "https://localhost:8080/"
        },
        "id": "Dtw2Fd6pMIiQ",
        "outputId": "6d1a2ed2-c862-4bb6-c087-b226161e84fc"
      },
      "execution_count": 223,
      "outputs": [
        {
          "output_type": "stream",
          "name": "stdout",
          "text": [
            "[[1. 0. 0.]\n",
            " [1. 1. 0.]\n",
            " [1. 1. 1.]]\n"
          ]
        }
      ]
    },
    {
      "cell_type": "code",
      "source": [
        "tri = np.tri(3, k = 1)\n",
        "  # [대각선보다 위에 있는 원소도 1이 들어가게 하는 인수 k]\n",
        "print(tri)"
      ],
      "metadata": {
        "id": "CcGXoKVfH42W",
        "colab": {
          "base_uri": "https://localhost:8080/"
        },
        "outputId": "a92cd4f3-3b50-4b34-95f8-40d33cf35e28"
      },
      "execution_count": 224,
      "outputs": [
        {
          "output_type": "stream",
          "name": "stdout",
          "text": [
            "[[1. 1. 0.]\n",
            " [1. 1. 1.]\n",
            " [1. 1. 1.]]\n"
          ]
        }
      ]
    },
    {
      "cell_type": "code",
      "source": [
        "triList = np.tril([[1, 2, 3], [4, 5, 6], [7, 8, 9]])\n",
        "  # [리스트를 인자로 받아 하삼각 행렬 생성]\n",
        "print(triList)"
      ],
      "metadata": {
        "id": "Bpb6foYwU94-",
        "colab": {
          "base_uri": "https://localhost:8080/"
        },
        "outputId": "819f057f-d651-4508-fe31-9baff640c214"
      },
      "execution_count": 225,
      "outputs": [
        {
          "output_type": "stream",
          "name": "stdout",
          "text": [
            "[[1 0 0]\n",
            " [4 5 0]\n",
            " [7 8 9]]\n"
          ]
        }
      ]
    },
    {
      "cell_type": "code",
      "source": [
        "triList_low = np.tril([[1, 2, 3], [4, 5, 6], [7, 8, 9]],\n",
        "                      -1)\n",
        "  # [하삼각행렬, k파라미터 = -1 지정하면 대각선보다 더 밑에 원소를 0]\n",
        "  # triList^(-1) = triList_low\n",
        "print(triList_low)"
      ],
      "metadata": {
        "id": "fzAiQsg0t_E7",
        "colab": {
          "base_uri": "https://localhost:8080/"
        },
        "outputId": "18ba3d4c-3b42-424a-a7df-0f0626eb8e8a"
      },
      "execution_count": 226,
      "outputs": [
        {
          "output_type": "stream",
          "name": "stdout",
          "text": [
            "[[0 0 0]\n",
            " [4 0 0]\n",
            " [7 8 0]]\n"
          ]
        }
      ]
    },
    {
      "cell_type": "code",
      "source": [
        "triList_up = np.triu([[1, 2, 3], [4, 5, 6], [7, 8, 9]])\n",
        "  # [상삼각행렬 생성]\n",
        "print(triList_up)"
      ],
      "metadata": {
        "id": "NKHm8B5gMhNF",
        "colab": {
          "base_uri": "https://localhost:8080/"
        },
        "outputId": "fa01fa0e-0afc-43df-913d-7421104f5d36"
      },
      "execution_count": 227,
      "outputs": [
        {
          "output_type": "stream",
          "name": "stdout",
          "text": [
            "[[1 2 3]\n",
            " [0 5 6]\n",
            " [0 0 9]]\n"
          ]
        }
      ]
    },
    {
      "cell_type": "code",
      "source": [
        "triList_up1 = np.triu([[1, 2, 3], [4, 5, 6], [7, 8, 9]],\n",
        "                      1)\n",
        "  # [상삼각행렬의 대각선 위치를 변경하여 생성, 양수 파라미터]\n",
        "print(triList_up1)"
      ],
      "metadata": {
        "colab": {
          "base_uri": "https://localhost:8080/"
        },
        "id": "HS3EfRlegaZU",
        "outputId": "33029df6-eceb-49fb-e99e-756ade376cc1"
      },
      "execution_count": 228,
      "outputs": [
        {
          "output_type": "stream",
          "name": "stdout",
          "text": [
            "[[0 2 3]\n",
            " [0 0 6]\n",
            " [0 0 0]]\n"
          ]
        }
      ]
    },
    {
      "cell_type": "markdown",
      "source": [
        "##### LU 분해 알고리즘\n",
        "\n",
        "LU 분해가 되지 않은 경우, 행교환을 한 다음에 LU 분해를 하기도 한다.\n",
        "\n",
        "```\n",
        "A = [[a11, a12, a13],\n",
        "     [a21, a22, a23],\n",
        "     [a31, a32, a33]]\n",
        "\n",
        "LU_low_triangular_matrix = [[1, 0, 0],\n",
        "                            [L21(a21/u11), 1, 0],\n",
        "                            [L31(a22/u11), L32(a32 - L31*U12/U22), 1]]\n",
        "                            # (a32 = L31*U12 + L32*U22)\n",
        "LU_up_triangular_matrix= [[U11(a11), U12(a12), U13(13)],\n",
        "                          [0, U22(a22-L21*U12), U23(a23-L21*U13)],\n",
        "                          [0, 0, U33(a32-L31*U13-L32*U23)]]\n",
        "```\n",
        "\n",
        "```\n",
        "# A = (aij)n*n 행렬\n",
        "\n",
        "for i in range(1, n, 1):\n",
        "  for j in range(1, i-1, 1):\n",
        "    # [i > j]\n",
        "    alpha = aij\n",
        "    \n",
        "    for p in range(1, j-1, 1):\n",
        "      alpha = alpha - aip*apj\n",
        "        # [Low(row = i, column = p, Up(row = p, column = j) 곱의 누적합]\n",
        "\n",
        "    aij = alpha*ajj\n",
        "      # [Lowij = alpha/Upjj]\n",
        "  \n",
        "  for j in range(i, n, 1):\n",
        "    # [i <= j]\n",
        "    alpha = aij\n",
        "\n",
        "    for p in range(1, i-1, 1):\n",
        "      alpha = alpha - aip*apj\n",
        "    \n",
        "    aij = alpha\n",
        "```"
      ],
      "metadata": {
        "id": "rOwyTT2o3HEI"
      }
    },
    {
      "cell_type": "markdown",
      "source": [
        "![image.png](data:image/png;base64,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)"
      ],
      "metadata": {
        "id": "86WLXBoX5CV4"
      }
    },
    {
      "cell_type": "markdown",
      "source": [
        "선형 시스템의 해법 (factor-solve 접근법)으로 LU 분해 활용\n",
        "\n",
        "* Ax = b\n",
        "* A = LU\n",
        "* Ax = **(LU)*x = b**\n",
        "* Ly = b, Ux = y"
      ],
      "metadata": {
        "id": "cr3mlnyH2Qgl"
      }
    },
    {
      "cell_type": "code",
      "source": [
        "A = np.array(\n",
        "  [[7, 3, -1, 2],\n",
        "    [3, 8, 1, -4],\n",
        "    [-1, 1, 4, -1],\n",
        "    [2, -4, -1, 6]]\n",
        ")"
      ],
      "metadata": {
        "id": "A_nt4UFgg01I"
      },
      "execution_count": 229,
      "outputs": []
    },
    {
      "cell_type": "code",
      "source": [
        "# LU 분해를 통해 하삼각행렬과 상삼각행렬로 분해\n",
        "\n",
        "P, L, U = LA.lu(A)\n",
        "  # [linearAlgebra lu decomposition의 약자]\n",
        "print(A)"
      ],
      "metadata": {
        "colab": {
          "base_uri": "https://localhost:8080/"
        },
        "id": "LREcD7yDg0xf",
        "outputId": "93a3862d-ad4d-4ce2-9a1a-4b41819a88fb"
      },
      "execution_count": 230,
      "outputs": [
        {
          "output_type": "stream",
          "name": "stdout",
          "text": [
            "[[ 7  3 -1  2]\n",
            " [ 3  8  1 -4]\n",
            " [-1  1  4 -1]\n",
            " [ 2 -4 -1  6]]\n"
          ]
        }
      ]
    },
    {
      "cell_type": "code",
      "source": [
        "print(P)\n",
        "  # [단위 행렬, 하삼각 행렬의 대각선]\n",
        "print(L)\n",
        "  # [하삼각 행렬]\n",
        "print(U)\n",
        "  # [상삼각 행렬]"
      ],
      "metadata": {
        "colab": {
          "base_uri": "https://localhost:8080/"
        },
        "id": "po6eH-xFg0uZ",
        "outputId": "42e59871-b67e-461d-83cc-0a390c98918b"
      },
      "execution_count": 231,
      "outputs": [
        {
          "output_type": "stream",
          "name": "stdout",
          "text": [
            "[[1. 0. 0. 0.]\n",
            " [0. 1. 0. 0.]\n",
            " [0. 0. 1. 0.]\n",
            " [0. 0. 0. 1.]]\n",
            "[[ 1.          0.          0.          0.        ]\n",
            " [ 0.42857143  1.          0.          0.        ]\n",
            " [-0.14285714  0.21276596  1.          0.        ]\n",
            " [ 0.28571429 -0.72340426  0.08982036  1.        ]]\n",
            "[[ 7.          3.         -1.          2.        ]\n",
            " [ 0.          6.71428571  1.42857143 -4.85714286]\n",
            " [ 0.          0.          3.55319149  0.31914894]\n",
            " [ 0.          0.          0.          1.88622754]]\n"
          ]
        }
      ]
    },
    {
      "cell_type": "code",
      "source": [
        "A_ = np.matmul(L, U)\n",
        "  # [분해된 하삼각행렬과 상삼각행렬을 행렬곱 연산 후 변수에 할당]\n",
        "  # [하삼각행렬[상삼각행렬]의 전치행렬은 상삼각행렬[하삼각행렬]이다]\n",
        "print(A_)"
      ],
      "metadata": {
        "colab": {
          "base_uri": "https://localhost:8080/"
        },
        "id": "KCC_8vW1g0q1",
        "outputId": "d48c6b55-2f88-4daa-9f22-406370ea0f56"
      },
      "execution_count": 232,
      "outputs": [
        {
          "output_type": "stream",
          "name": "stdout",
          "text": [
            "[[ 7.  3. -1.  2.]\n",
            " [ 3.  8.  1. -4.]\n",
            " [-1.  1.  4. -1.]\n",
            " [ 2. -4. -1.  6.]]\n"
          ]
        }
      ]
    },
    {
      "cell_type": "code",
      "source": [
        "np.allclose(A_, A)\n",
        "  # [분해된 결과 합산한 것과 원본의 일치 여부 확인]"
      ],
      "metadata": {
        "colab": {
          "base_uri": "https://localhost:8080/"
        },
        "id": "2E_6cNXWg0o7",
        "outputId": "ef24e182-238f-4b41-d83c-507475fa77e2"
      },
      "execution_count": 233,
      "outputs": [
        {
          "output_type": "execute_result",
          "data": {
            "text/plain": [
              "True"
            ]
          },
          "metadata": {},
          "execution_count": 233
        }
      ]
    },
    {
      "cell_type": "code",
      "source": [
        "# 기본행렬을 이용한 연립방정식 풀이\n",
        "\n",
        "# r1 : 2x + 3y = 1 r2 : 4x + 7y = 3\n",
        "# r2 - 2r1 연산으로 x에 관한 항 제거\n",
        "\n",
        "E3 = np.array([1/2, 0, 0, 1]).reshape(2, 2)\n",
        "E2 = np.array([1, -3, 0, 1]).reshape(2, 2)\n",
        "E1 = np.array([1, 3, -2, 1]).reshape(2, 2)\n",
        "  # r1 - 3r2 연산을 하기 위해 E2 기본행렬을 첨가행렬의 왼편에 곱함\n",
        "\n",
        "A_aug = np.array([2, 3, 1, 4, 7, 3]).reshape(2, 3)\n",
        "  # 연립방정식(r1, r2)이 기울기와 y절편\n",
        "\n",
        "# E3*E2*E1*A_aug"
      ],
      "metadata": {
        "id": "EVMEtedgters"
      },
      "execution_count": 234,
      "outputs": []
    },
    {
      "cell_type": "code",
      "source": [
        "np.round(E3*E2*E1, decimals = 2)"
      ],
      "metadata": {
        "colab": {
          "base_uri": "https://localhost:8080/"
        },
        "id": "wcwGmI_x6a8z",
        "outputId": "2df1fac2-c3b9-4d36-ec82-8107131e15da"
      },
      "execution_count": 235,
      "outputs": [
        {
          "output_type": "execute_result",
          "data": {
            "text/plain": [
              "array([[ 0.5, -0. ],\n",
              "       [-0. ,  1. ]])"
            ]
          },
          "metadata": {},
          "execution_count": 235
        }
      ]
    },
    {
      "cell_type": "code",
      "source": [
        "np.ufunc\n",
        "  # [넘파이 모듈에 있는 ufunc 함수 클래스를 확인]\n",
        "type(np.ufunc)"
      ],
      "metadata": {
        "colab": {
          "base_uri": "https://localhost:8080/"
        },
        "id": "elycmn-ntejn",
        "outputId": "f4aacff9-081a-402c-a3d4-b00424943137"
      },
      "execution_count": 236,
      "outputs": [
        {
          "output_type": "execute_result",
          "data": {
            "text/plain": [
              "type"
            ]
          },
          "metadata": {},
          "execution_count": 236
        }
      ]
    },
    {
      "cell_type": "code",
      "source": [
        "import types\n",
        "  # [파이썬 내부에서 작동하는 객체들을 가진 클래스 모듈 사용]\n",
        "types.FunctionType is np.ufunc\n",
        "  # [함수와 유니버셜 함수와 클래스가 서로 다르게 구현]"
      ],
      "metadata": {
        "colab": {
          "base_uri": "https://localhost:8080/"
        },
        "id": "-q9pDn3Eao7_",
        "outputId": "5f51864a-14bc-414e-e929-3c5ba8216036"
      },
      "execution_count": 237,
      "outputs": [
        {
          "output_type": "execute_result",
          "data": {
            "text/plain": [
              "False"
            ]
          },
          "metadata": {},
          "execution_count": 237
        }
      ]
    },
    {
      "cell_type": "markdown",
      "source": [
        "##### 벡터와 내적\n",
        "\n",
        "$$ |ν| = \\sqrt{a^2 + b^2} = \\sqrt{ν*ν} $$\n",
        "$$ [2 \\ 1] * (\\begin{bmatrix}3\\\\-4\\end{bmatrix}) = 1 $$\n",
        "$$ [2 \\ 1] * (\\begin{bmatrix}x\\\\y\\end{bmatrix}) = scalar $$"
      ],
      "metadata": {
        "id": "LAaY75DnRLsZ"
      }
    },
    {
      "cell_type": "code",
      "source": [
        "# 선형대수 연산인 내적(inner(), sqrt(), @)과 외적\n",
        "\n",
        "# 행벡터(함수) [1, 2] * 열벡터(입력값) [3, -4].T = 스칼라(출력값) 2\n",
        "# f:V -> R\n",
        "\n",
        "# 함수를 시각화하면?\n",
        "# 열벡터의 정사영 길이(코사인, 사이각) * 행벡터의 길이 = 내적 값과 일치함\n",
        "\n",
        "a = np.arange(1, 10)\n",
        "b = np.arange(11, 20)\n",
        "a.size == b.size\n",
        "\n",
        "c = np.sqrt(np.dot(a, a))\n",
        "d = np.sqrt(np.dot(b, b))\n",
        "  # [벡터의 크기]\n",
        "print(c)\n",
        "print(LA.norm(a))\n",
        "  # [벡터의 크기]\n",
        "print(np.sqrt( np.square(a).sum() ))\n",
        "  # [벡터의 크기를 수식으로 풀면]\n",
        "  # [벡터의 제곱을 하고 합산]\n",
        "  # [다시 그 값에 제곱근 처리]"
      ],
      "metadata": {
        "id": "QX6QNEL4ZxCH",
        "colab": {
          "base_uri": "https://localhost:8080/"
        },
        "outputId": "f369181e-acc9-4be2-95b0-2b7fa4e46921"
      },
      "execution_count": 238,
      "outputs": [
        {
          "output_type": "stream",
          "name": "stdout",
          "text": [
            "16.881943016134134\n",
            "16.881943016134134\n",
            "16.881943016134134\n"
          ]
        }
      ]
    },
    {
      "cell_type": "markdown",
      "source": [
        "$$ [\\alpha_1*\\alpha_2] [\\beta_1*\\beta_2] = Σ\\alpha_i*\\beta_i = \\alpha_1*\\beta_1 + \\alpha_2*\\beta_2$$\n",
        "$$ cos(θ) = ν* ω / |ν| * |ω|$$\n",
        "$$ \\vec{v}_1\\cdot\\vec{v}_2 = |\\vec{v}_1||\\vec{v}_2|\\cos\\theta $$"
      ],
      "metadata": {
        "id": "yBMksHBgX1W9"
      }
    },
    {
      "cell_type": "markdown",
      "source": [
        "![image.png](data:image/png;base64,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)"
      ],
      "metadata": {
        "id": "CX2fGG-zhKCw"
      }
    },
    {
      "cell_type": "code",
      "source": [
        "print(\"1차원 배열 a :\", a)\n",
        "print(\"1차원 배열 b :\", b)\n",
        "\n",
        "print(\"두 벡터의 내적 :\", np.inner(a, b))\n",
        "  # [두 벡터의 내적]\n",
        "print(\"두 벡터의 내적 :\", np.dot(a, b))\n",
        "  # [두 벡터의 내적]\n",
        "  # 열벡터의 정사영(project) 길이(코사인, 사잇각) * 행벡터의 길이 = 내적 값과 일치함\n",
        "  # 두 벡터의 내적 = 두 벡터의 크기와 두 벡터의 사잇각에 cos함수 곱하여 구함"
      ],
      "metadata": {
        "colab": {
          "base_uri": "https://localhost:8080/"
        },
        "id": "C-qSgYYAQ_0U",
        "outputId": "82a6fd7a-34ee-4ec9-eb07-b69017dbf7a9"
      },
      "execution_count": 239,
      "outputs": [
        {
          "output_type": "stream",
          "name": "stdout",
          "text": [
            "1차원 배열 a : [1 2 3 4 5 6 7 8 9]\n",
            "1차원 배열 b : [11 12 13 14 15 16 17 18 19]\n",
            "두 벡터의 내적 : 735\n",
            "두 벡터의 내적 : 735\n"
          ]
        }
      ]
    },
    {
      "cell_type": "code",
      "source": [
        "e = np.dot(a, b) / (c * d)\n",
        "e\n",
        "  # [epsilon] 거리\n",
        "  # [두 벡터 사잇각 = 두 벡터의 내적 / 두 벡터 크기의 곱]"
      ],
      "metadata": {
        "colab": {
          "base_uri": "https://localhost:8080/"
        },
        "id": "hZyAK1SdfDfp",
        "outputId": "7e77ea10-4d7f-4208-d25c-9660988c0dbe"
      },
      "execution_count": 240,
      "outputs": [
        {
          "output_type": "execute_result",
          "data": {
            "text/plain": [
              "0.9534806402407423"
            ]
          },
          "metadata": {},
          "execution_count": 240
        }
      ]
    },
    {
      "cell_type": "code",
      "source": [
        "np.cos( np.rad2deg(180 * e) )\n",
        "  # [Q&A][라디안은 삼각비를 구하므로]원주율 파이에 180도 나눈 것과 동일]"
      ],
      "metadata": {
        "colab": {
          "base_uri": "https://localhost:8080/"
        },
        "id": "vKlb_FhunzTs",
        "outputId": "b423f846-a598-409f-aa29-a3cebc324125"
      },
      "execution_count": 241,
      "outputs": [
        {
          "output_type": "execute_result",
          "data": {
            "text/plain": [
              "0.9582523836962719"
            ]
          },
          "metadata": {},
          "execution_count": 241
        }
      ]
    },
    {
      "cell_type": "code",
      "source": [
        "np.cos( np.deg2rad(17.6) )\n",
        "  # [deg 각과 rad 라디안]\n",
        "  # [라디안 90도 = pi/2]"
      ],
      "metadata": {
        "colab": {
          "base_uri": "https://localhost:8080/"
        },
        "id": "dx26NdbFfDcD",
        "outputId": "eeab0240-eaa1-44fb-aa17-24ee4c9b5e64"
      },
      "execution_count": 242,
      "outputs": [
        {
          "output_type": "execute_result",
          "data": {
            "text/plain": [
              "0.953190667792947"
            ]
          },
          "metadata": {},
          "execution_count": 242
        }
      ]
    },
    {
      "cell_type": "code",
      "source": [
        "# 다차원 배열 행렬곱\n",
        "\n",
        "A = np.array([[1, 2, 3],\n",
        "              [4, 5, 6],\n",
        "              [7, 8, 9]])\n",
        "B = np.array([[9, 8, 7],\n",
        "              [6, 5, 4],\n",
        "              [3, 2, 1]]) "
      ],
      "metadata": {
        "id": "GmErjukQfDZ_"
      },
      "execution_count": 243,
      "outputs": []
    },
    {
      "cell_type": "code",
      "source": [
        "print(\"\\n\", A, \"\\n\", B)"
      ],
      "metadata": {
        "colab": {
          "base_uri": "https://localhost:8080/"
        },
        "id": "LB2yC6AgfDVo",
        "outputId": "6b22aecf-ccdf-4264-f18d-0ad8fad5dbcf"
      },
      "execution_count": 244,
      "outputs": [
        {
          "output_type": "stream",
          "name": "stdout",
          "text": [
            "\n",
            " [[1 2 3]\n",
            " [4 5 6]\n",
            " [7 8 9]] \n",
            " [[9 8 7]\n",
            " [6 5 4]\n",
            " [3 2 1]]\n"
          ]
        }
      ]
    },
    {
      "cell_type": "code",
      "source": [
        "np.dot(A, B)"
      ],
      "metadata": {
        "id": "VgO8lOtOQ_w1",
        "colab": {
          "base_uri": "https://localhost:8080/"
        },
        "outputId": "fd2900b1-c6a9-4728-d9be-2867c1bcf648"
      },
      "execution_count": 245,
      "outputs": [
        {
          "output_type": "execute_result",
          "data": {
            "text/plain": [
              "array([[ 30,  24,  18],\n",
              "       [ 84,  69,  54],\n",
              "       [138, 114,  90]])"
            ]
          },
          "metadata": {},
          "execution_count": 245
        }
      ]
    },
    {
      "cell_type": "code",
      "source": [
        "A[0] # 행 벡터\n",
        "B[:, 0] # 열 벡터\n",
        "\n",
        "print(\n",
        "    np.dot(A[0], B[:, 0]),\n",
        "    np.dot(A[0], B[:, 1]),\n",
        "    np.dot(A[0], B[:, 2])\n",
        ")\n",
        "print(\n",
        "    np.dot(A[1], B[:, 0]),\n",
        "    np.dot(A[1], B[:, 1]),\n",
        "    np.dot(A[1], B[:, 2])\n",
        ")"
      ],
      "metadata": {
        "id": "rFXUbSANQ_uH",
        "colab": {
          "base_uri": "https://localhost:8080/"
        },
        "outputId": "94b6cb39-17ca-404a-9bbb-793abe6d2bd5"
      },
      "execution_count": 246,
      "outputs": [
        {
          "output_type": "stream",
          "name": "stdout",
          "text": [
            "30 24 18\n",
            "84 69 54\n"
          ]
        }
      ]
    },
    {
      "cell_type": "code",
      "source": [
        "# 외적은 벡터의 수직으로, 평면과 직교하는 법선벡터\n",
        "\n",
        "np.cross(A[0], B[:, 1])"
      ],
      "metadata": {
        "id": "CL_yV9tAQ_sQ",
        "colab": {
          "base_uri": "https://localhost:8080/"
        },
        "outputId": "b6aa4155-cddb-4a0f-8c5a-8ac113c4c824"
      },
      "execution_count": 247,
      "outputs": [
        {
          "output_type": "execute_result",
          "data": {
            "text/plain": [
              "array([-11,  22, -11])"
            ]
          },
          "metadata": {},
          "execution_count": 247
        }
      ]
    },
    {
      "cell_type": "code",
      "source": [
        "# 행 벡터와 열 벡터의 곱\n",
        "\n",
        "np.outer(A[0], B[:, 1])"
      ],
      "metadata": {
        "id": "gwOpplleQ_qT",
        "colab": {
          "base_uri": "https://localhost:8080/"
        },
        "outputId": "f1316baf-940d-4e27-c86f-f75a54f83e66"
      },
      "execution_count": 248,
      "outputs": [
        {
          "output_type": "execute_result",
          "data": {
            "text/plain": [
              "array([[ 8,  5,  2],\n",
              "       [16, 10,  4],\n",
              "       [24, 15,  6]])"
            ]
          },
          "metadata": {},
          "execution_count": 248
        }
      ]
    },
    {
      "cell_type": "markdown",
      "source": [
        "##### 행렬식의 역행렬 (이해못한 단계)\n",
        "\n",
        "![image.png](data:image/png;base64,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)"
      ],
      "metadata": {
        "id": "w4uTXxmdya0l"
      }
    },
    {
      "cell_type": "code",
      "source": [
        "# 행렬식(determinant)와 역행렬\n",
        "\n",
        "print(A)\n",
        "Adet = LA.det(A)\n",
        "  # 음수 표시\n",
        "print(Adet)\n",
        "\n",
        "try: \n",
        "  Ainv = LA.inv(A)\n",
        "except Exception as e:\n",
        "  print(e)\n",
        "  # 행렬식의 역행렬 계산 (행렬식의 결과가 0이 나와 계산 불가)"
      ],
      "metadata": {
        "id": "gfCMjukHQ_l5",
        "colab": {
          "base_uri": "https://localhost:8080/"
        },
        "outputId": "f430e559-d11f-444c-bfc9-2982dc1b4cf2"
      },
      "execution_count": 249,
      "outputs": [
        {
          "output_type": "stream",
          "name": "stdout",
          "text": [
            "[[1 2 3]\n",
            " [4 5 6]\n",
            " [7 8 9]]\n",
            "0.0\n",
            "singular matrix\n"
          ]
        }
      ]
    },
    {
      "cell_type": "markdown",
      "source": [
        "##### 선형변환, 고윳값, 고유벡터\n",
        "\n",
        "* 선형변환이란 행렬을 이용하여 벡터를 현재 벡터 공간에서 다른 벡터 공간으로 이동시키는 것(= 선형사상, 일차변환)이다.\n",
        "\n",
        "  $ A ⋅ x = λ ⋅ E ⋅ x\t$\n",
        "\n",
        "* 양변에 고유벡터(eigen vector, x)가 있고, 정사각 행렬(A)과 벡터(x)의 벡터곱(A⋅x)이 상수곱(λ)과 같을 때, 이 상수가 고윳값(eigen value)가 된다.\n",
        "\n",
        "  $ det(A - λ ⋅ E) = 0 $\n",
        "\n",
        "  $ E = \\begin{bmatrix} 1 & 0 & 0 \\\\ 0 & 1 & 0 \\\\ 0 & 0 & 1 \\end{bmatrix} $\n",
        "\n",
        "  정사각행렬을 분해할 수 있는 조건은 행렬(A)에 상수(λ)와 단위행렬(E)의 곱을 뺀 후에 행렬식이 0이 나와야 한다는 것이다. "
      ],
      "metadata": {
        "id": "96Xc1mSVzkHU"
      }
    },
    {
      "cell_type": "markdown",
      "source": [],
      "metadata": {
        "id": "Ukv0Gtux43FB"
      }
    },
    {
      "cell_type": "markdown",
      "source": [
        "![image.png](data:image/png;base64,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)"
      ],
      "metadata": {
        "id": "5ShRukFc4R58"
      }
    },
    {
      "cell_type": "code",
      "source": [
        "A = 0\n",
        "x = 0\n",
        "  # [초기화]\n",
        "A = np.array(\n",
        "    [[3, 0],\n",
        "     [8, -1]]\n",
        ")\n",
        "  # [행렬은 대문자]\n",
        "x = np.array([1, 2])\n",
        "  # [벡터는 소문자]\n",
        "\n",
        "E = np.eye(2)\n",
        "  # [단위 행렬 생성]\n",
        "\n",
        "for λ in range(1, 10, 1):\n",
        "  det = LA.det(A - λ*E)\n",
        "  if det == 0.0:\n",
        "    print(λ)\n",
        "  else: \n",
        "    pass\n",
        "  # 상수배 λ = 3은 고윳값\n",
        "  # [y = Ax] A * [x, y].T"
      ],
      "metadata": {
        "colab": {
          "base_uri": "https://localhost:8080/"
        },
        "outputId": "f1dfb356-ede2-4f51-a407-27c6a2029788",
        "id": "pkKmkm0T5xEM"
      },
      "execution_count": 250,
      "outputs": [
        {
          "output_type": "stream",
          "name": "stdout",
          "text": [
            "3\n"
          ]
        }
      ]
    },
    {
      "cell_type": "code",
      "source": [
        "c = 0\n",
        "  # [초기화]\n",
        "c = np.dot(A, x)\n",
        "  # [행렬과 벡터의 닷 연산 처리]\n",
        "print(c)\n",
        "print(3*x)\n",
        "  # [계산된 결과가 x열벡터에 λ고윳값(상수배)를 곱한 결과와 동일]"
      ],
      "metadata": {
        "colab": {
          "base_uri": "https://localhost:8080/"
        },
        "id": "EFOzKv_eznTW",
        "outputId": "fc351953-a2e1-4613-897e-37c95022291c"
      },
      "execution_count": 251,
      "outputs": [
        {
          "output_type": "stream",
          "name": "stdout",
          "text": [
            "[3 6]\n",
            "[3 6]\n"
          ]
        }
      ]
    },
    {
      "cell_type": "code",
      "source": [
        "v, w = LA.eig(A)\n",
        "  # [고윳값과 고유벡터]\n",
        "print(v)\n",
        "print(w)"
      ],
      "metadata": {
        "colab": {
          "base_uri": "https://localhost:8080/"
        },
        "id": "qsywCNnFznRi",
        "outputId": "473346b4-9fc5-4045-ad83-dda4fb4f8c37"
      },
      "execution_count": 252,
      "outputs": [
        {
          "output_type": "stream",
          "name": "stdout",
          "text": [
            "[-1.+0.j  3.+0.j]\n",
            "[[0.         0.4472136 ]\n",
            " [1.         0.89442719]]\n"
          ]
        }
      ]
    },
    {
      "cell_type": "markdown",
      "source": [
        "## **김도형의 데이터 사이언스 스쿨 [수학편]**"
      ],
      "metadata": {
        "id": "okuzuIa1t4P3"
      }
    },
    {
      "cell_type": "markdown",
      "source": [
        "## **박유성, 파이썬을 이용한 통계적 머신러닝 [제3판]**"
      ],
      "metadata": {
        "id": "-nPtwkyuWheC"
      }
    },
    {
      "cell_type": "markdown",
      "source": [
        "##### * **좋은 데이터의 전제조건**\n",
        "\n",
        "  (1) **같은 모집단(identical)에서 뽑힌** 모집단에 대한 정보를 왜곡 없이 가지는 데이터(임의표본)\n",
        "\n",
        "  (2) **임의표본 간의 독립성(idenpendence)**\n",
        "  즉, identically independently distributed data (i.i.d)\n",
        "\n",
        "  F(y) = P(Y <= y) (y = p)이 0 ~ 1 사이의 어떤 값을 임의추출할 때 임의표본이 불확실성을 가지는 cdf(누적확률밀도함수)를 가진 확률변수가 통계분석의 대상이 된다."
      ],
      "metadata": {
        "id": "ZLMR1hafWw7B"
      }
    },
    {
      "cell_type": "markdown",
      "source": [
        "##### * **임의표본추출(random sampling)에 의한 추정**\n",
        "\n",
        "  (1) $ η(Y) $의 기대치는 $ E(η(Y)) = ∫{η(y)f(y)dy} $\n",
        "  \n",
        "  (2) $ η(Y) = y $일 때 $ F(y) $로부터 임의표본 $ y_i $를 추출하여 계산한 적률추정치(moment estimate) 또는 몬테카를로 추정치는 $ \\frac{1}{n} \\Sigma{η(y_i)} $\n",
        "\n",
        "  다만, 적률 추정치의 약점은 $y$의 극단값에 민감하다는 것이다.\n",
        "\n",
        "  (3) 오분류율이 높은 데이터에 높은 가중치를 부여하여 모형의 성능을 개선하는 Adaboost의 resampling 기법에 활용되는 개념\n",
        "\n",
        "  $ y_3 $가 중요한 임의표본이어서 가중치를 부여하여 $ {y_i:n} $의 가중치 합이 1이 되도록 재조정하면, 이 비율에 대응하는 cdf(누적확률밀도함수)를 구할 수 있다. 기존 이산형 확률변수의 분포와 가중치 부여 후 분포를 $ g(y) $와 $ f(y) $라고 하자.\n",
        "\n",
        "  (4) Bayesian 표본추출 기법\n",
        "  \n",
        "  베이지안 기법의 핵심인 Posterior(사후확률) 분포를 구할 때 분포함수를 불완전하게 알고 있다고 가정하자.\n",
        "\n",
        "  $ F(∞) = Pr(Y ≤ ∞) = 1 $을 만족하는 조절상수 y(scale constant)를 구할 수 없다. $ f(y) = \\frac{f^*(y)}{M} $(단, $M$은 미지의 수) \n",
        "  \n",
        "  $f(y)^*$보다 꼬리가 두껍지만(아주 크거나 작은 값이 뽑힐 확률에 가중치 부여) 표본추출이 용이한 적절한 후보 pdf(probability density function)을 이용한다. \n",
        "\n",
        "   $ f(y)^* = g(y)⋅\\frac{f^*(y)}{g(y)} $ (단, $ \\frac{f^*(y)}{g(y)}$ = 가중치)\n",
        "\n",
        "   Uniform(0, 1)로부커 $u$를 추출하고, u < $ \\frac{f^*(y_i)/g(y_i)}{\\Sigma^n_{j=1}{f(y_j)^*/g(y_j)}} $일 때 $y_i$를 f(y)의 임의표본으로 채택"
      ],
      "metadata": {
        "id": "-qojtlRQtJIZ"
      }
    },
    {
      "cell_type": "markdown",
      "source": [
        "##### * **특성변수를 이용한 통계모형**\n",
        "\n",
        "  (1) 특성변수(IV)들의 모든 조합을 고려하지 않은 각 특성변수(marginal)만의 모수 선형결합인 확률모형 $ P_W(x_1, x_2, ⋯, x_n) = h(ω_1, ω_2, ⋯, ω_n) $\n",
        "\n",
        "  대부분의 머신러닝, 딥러닝 모형은 이 확률모형에 해당한다.\n",
        "  예를 들어, $h(ω_i)$를 소위 sigmoid함수인 $ \\frac{1}{1 + e^(-ω_0 + \\Sigma^n_{i=1}{ω_i⋅x_i})}$로 선택하여 비선형 변환하여 모집단의 특성에 대한 추정치(모수) $ω$를 추정하여 대출금을 상환하거나 상환하지 않을 확률을 구하게 된다. \n",
        "\n",
        "  (2) 통계학과 통계적 머신러닝의 관계\n",
        "\n",
        "  통계학에서는 선형결합모수 $ω$를 잘 추정하여 목적변수 $y$를 예측하지만,\n",
        "\n",
        "  머신러닝에서는 $y$를 잘 예측하도록 $ω$를 조절 또는 추정한다는 차이점이 있다. 전자는 소위 대수의 법칙, 중심극한정리를 이용하여 모수 추정치 $ \\hat{\\omega_0}, ⋯, \\hat{\\omega_k} $의 정확도를 점검하고 근사분포를 구하게 된다. 예측치 $\\hat{y}$의 정밀도에 기여하지 못하는 $\\omega_j$는 제거한다. 확률변수 오차항 $𝟄_i$를 더해주어(오차항의 평균은 0으로 가정) $ \\hat{\\omega_0}, ⋯, \\hat{\\omega_k} $의 분포를 구하게 된다. \n",
        "\n",
        "  머신러닝에서는 오차항 $𝟄_i$의 분산이 과대적합(overfitting)의 중요한 기준을 제공한다. 단, 머신러닝적 접근은 필연적으로 2가지 문제가 발생한다.\n",
        "\n",
        "  (a) 특성변수 $x_k$가 $\\hat{y}$의 정밀도에 기여하는지를 측정하는 문제\n",
        "\n",
        "  (b) 모형 $ h(ω_0 + \\Sigma^k_{j=1}{ω_j⋅x_{ij}}) $가 관측된 표본에만 지나치게 적합되는 문제\n",
        "\n",
        "  (a-대안) 특성변수 없이 구한 표본평균모형과 비교하여 특성변수의 기여도를 측정한다. 특성변수를 선형결합한 모형이 평균모형보다 우수하면 특성변수가 모형성능에 기여한다고 말한다. \n",
        "\n",
        "  (b-대안) 시험 데이터(test or never-seen-before data)에 $\\hat{y}$의 성능이 가장 좋도록 모수 $\\omega$를 추정한 모형을 적용한다. 모형진단과 교차검증을 통해 모수 $\\omega$를 재추정한다. \n",
        "\n",
        "  과소추정된(학습데이터 성능이 시험데이터 성능보다 많이 떨어지는 경우) 특성변수를 더 늘리거나 특성변수의 선형결합이 아닌 비선형 모형을 시도하여야 한다. \n",
        "\n",
        "  y의 예를 들어, 은행에서 돈을 갚지 못할 디폴트 차주(돈을 빌린 채무자 중 연체하는 자)비율이 작을 경우 모형이 다수 그룹에 과대적합되어 전체 오분류율을 줄이기 때문에 소수그룹은 과대표집(oversampling)하고 다수그룹은 과소표집(undersampling)하여 관측치의 균형을 맞추어야 한다.\n",
        "\n",
        "  디폴트 고객을 디폴트라고 예측할 확률, 재현율(Recall = $\\frac{TP}{TP + FN}$)"
      ],
      "metadata": {
        "id": "a-npPypytEP0"
      }
    },
    {
      "cell_type": "markdown",
      "source": [
        "##### * **모형의 성능향상**\n",
        "\n",
        "  (1) random forest : boostraping 기법\n",
        "\n",
        "  $n$개로 구성된 임의표본은 without replacement로 반복추출하여 $n$개의 데이터 셋을 $M$개로 만들어 $M$개의 데이터 셋에 동일한 $M$개의 모형을 추정, 새로운 데이터를 입력하여 $M$개의 예측결과를 출력하는 것\n",
        "\n",
        "  y(목적변수, 종속변수)가 분류일 경우 $M$개의 모형이 예측한 결과에서 가장 높은 빈도의 그룹으로 새로운 데이터를 분류한다. 회귀이면 $M$개의 예측치 평균을 최종 예측치로 한다. $M$개의 예측치 분포와 모수추정치 분포를 구할 수 있다. \n",
        "\n",
        "  (2) boosting 기법\n",
        "  \n",
        "  부스팅은 앞 모형의 결과를 이용하여 뒤따르는 모형은 잔차(즉, 예측 오차)가 큰 관측치에 좀 더 가중치를 부여하여 모형을 향상시키고 있다. \n",
        "\n",
        "  잔차(residual) $y_i - \\hat{y_i} = r_i$를 목적변수로 하여 동일한 특성변수로  $\\hat{r_i}$를 예측하는 것. \n",
        "  \n",
        "  $y - \\hat{y} - r_1, \\cdots - r_{9} = r_{10}$를 구하여 동일한 특성변수 $\\hat{r_{10}}$을 구한다.\n",
        "\n",
        "  $M$번의 절차를 반복하여 $y$의 추정치인 $\\hat{y} + \\Sigma^M_{i=1}{\\hat{r_i}} $을 구한다. \n",
        "\n",
        "  **(3) 모형진단과 규제화**\n",
        "\n",
        "    특성변수선택\n",
        "    불균형자료(imbalance data) : 클래스 불균형 조정\n",
        "    쌍방향 시각화  \n",
        "    L1, L2 규제화(regularization != scaling)\n",
        "    Gradient decent(경사적 하강)\n",
        "    Cross Validation(k-폴드 교차검증 등)\n",
        "    Grid search CV(CV를 이용한 최적의 하이퍼파라미터 선택)\n",
        "    Nested cross-validation(머신러닝의 최종 성능 점검)\n",
        "    Pipeline(머신러닝 여러 기법을 통합 처리)"
      ],
      "metadata": {
        "id": "CjAn6G3e4RO8"
      }
    },
    {
      "cell_type": "markdown",
      "source": [
        "* 특성변수(특징)의 선택\n",
        "\n",
        "  1. $χ^2$통계량과 $F$통계량이 클수록 목적변수 $y$의 클래스가 1로 분류될 가능성이 높고, 이는 목적변수를 설명하는 기여도가 높다고 할 수 있다.\n",
        "\n",
        "  (관측빈도 - 기대(이론)빈도)^2 / 기대빈도의 합 = $χ^2$\n",
        "  \n",
        "  자유도 (클래스의 수 - 1)에 따라 카이제곱분포표에 의한 유의확률이 작을수록 이 값은 매우 큰 값이다. \n",
        "  \n",
        "  유의확률이 유의수준 5%보다 작을 경우 1/2 : 1/2 등으로 가정된 균형적인 클래스 비율이라고 말할 수 없다.\n",
        "\n",
        "  자유도(주어진 조건 하에서 자유롭게 변화될수 있는 요소의 수)는 검정통계량을 표준화하는 계산의 일부이며, 이를 통해 기준분포(t 분포, F 분포 등)와 비교 할 수 있다.\n",
        "\n",
        "  2. $F$통계량은 여러 표본집단의 표본평균 간 퍼진 정도의 합(잔차제곱합의 평균) / 표본집단 내에서 퍼진 정도 합, (차이 정도 / 불확실도)\n",
        "\n",
        "  3. $χ^2$통계량과 $F$통계량 기반의 필터링 특징선택은 특성변수와 목적변수가 선형관계일 때 잘 적용되나, 비선형일 경우 비모수적 기법인 상호정보량(Mutual Information) 기반의 필터링을 이용한다. \n"
      ],
      "metadata": {
        "id": "dI4OwxIgatSE"
      }
    },
    {
      "cell_type": "markdown",
      "source": [
        "##### * **머신러닝 모형과 손실함수**\n",
        "\n",
        "  (1) 머신러닝 모형은 크게 4가지 조건부 확률로 분류할 수 있다.\n",
        "\n",
        "  **(2) $P(y_i|x_i)$ : 특성변수 $x_i$를 입력하여 $y_i$의 예측치를 출력하는 구조**\n",
        "\n",
        "  지도학습 머신러닝 : LinearRegression, BinaryLinearRegression, SupportVectorMachine, DiscriminateAnalysis, RandomForest(EnsembleLearning), XGBoost, LightGBM, CatBoost\n",
        "\n",
        "  비지도학습 머신러닝 : K-means, K-medoids, DBSCAN, HDBSCAN(군집이 곧 목적변수 역할)\n",
        "\n",
        "  이러한 구조를 가진 딥러닝 : R-CNN, YOLO, transformer, BERT, GAN\n",
        "\n",
        "  또한 이러한 구조를 가지는 정책기반 / 가치기반 강화학습도 있으나 어차피 지금 수준으로는 받아들이기 어려우니 생략\n",
        "\n",
        "  **(3) $P(y_i|x_i)$ : 모형에 $x_i$를 입력하여 이 $x_i$를 재생하는 모형군 (정보의 손실 없이 차원축소된 $x_i^*$를 생성)**\n",
        "\n",
        "  통계적 머신러닝 : PCA, MDS, ManifoldLearning, t-SNE\n",
        "  \n",
        "  딥러닝 : AutoEncoder, GAN\n",
        "\n",
        "  (4) $P(y_t|y_{t-1}, \\cdots)$ : 자료의 순서가 중요한 정보를 가질 때 $y_t$를 예측하기 위해 $y_i$의 과거치를 입력하는 모형\n",
        "\n",
        "  통계적 머신러닝 : ARIMA 등 모든 시계열자료분석 모형\n",
        "\n",
        "  딥러닝 : RNN(recurrent neural network)\n",
        "\n",
        "  (5) $P(y_t|y_{T}, \\cdots, y_{t-1})$ : $y_t$를 예측하기 위해 과거시점뿐만 아니라 미래시점 정보를 양방향으로 이용하여 시점 t의 목적변수 $y_i$를 예측하는 모형\n",
        "\n",
        "  딥러닝 머신번역 모형 : transformer, BERT, XLM 등\n",
        "\n",
        "  **(6) 손실함수**\n",
        "\n",
        "  $L(θ) = - \\Sigma{logP_w(y_i|x_i)} $를 손실함수로 정의하고 이를 최소로 하는 $ω$를 추정한다.\n",
        "  \n",
        "  로그우도가 정규분포를 따른다면, $ P_w(y_i|x_i) $ ~ $ N(ω + \\Sigma^n_{j=1}{ω_i⋅x_{ij}} , σ^2) $이고 \n",
        "  \n",
        "  $ L(\\omega) = \\Sigma^n_{i=1}{(y_i - \\omega_i - \\Sigma^n_{j=1}{ω_i⋅x_{ij}})^2} $\n",
        "\n",
        "  $ P_w(y_i = 1|x_i) $가 $ P_w(y_i = 1|x_i) = p_i $인 베르누이 분포를 따르면 손실함수 $L(θ)$는 binary cross-entropy(이진 교차/상호정보량)이 된다.\n",
        "\n",
        "  $ L(\\omega) = - \\Sigma^n_{i=1}{y_i⋅logp_i + (1-y_i)⋅log(1-p_i)} $\n"
      ],
      "metadata": {
        "id": "vYDkinOK60Oe"
      }
    },
    {
      "cell_type": "code",
      "source": [
        "'''\n",
        "import AutoViz\n",
        "  # [데이터 변수의 분포적 특성, 목적변수와의 관계 등 변수선택과 모형설정에 필요한 정보 파악을 위한 시각화 모듈]\n",
        "import Bamboolib\n",
        "  # [결측치, 이상치, 불균형 자료 전처리]\n",
        "  # [이상치가 있을 경우 정규화로 특성변수를 변환하면 정상적인 관측치를 너무 작은 값으로 변환하여 모형이 성능을 떨어뜨리므로]\n",
        "  # [표준화를 통해 특성변수의 척도를 변환하는 것이 더 유용함]\n",
        "'''"
      ],
      "metadata": {
        "id": "sxxuWrmUZw9R",
        "colab": {
          "base_uri": "https://localhost:8080/",
          "height": 108
        },
        "outputId": "de6449e6-6ffd-445a-fbd9-7a52f877c19e"
      },
      "execution_count": 253,
      "outputs": [
        {
          "output_type": "execute_result",
          "data": {
            "text/plain": [
              "'\\nimport AutoViz\\n  # [데이터 변수의 분포적 특성, 목적변수와의 관계 등 변수선택과 모형설정에 필요한 정보 파악을 위한 시각화 모듈]\\nimport Bamboolib\\n  # [결측치, 이상치, 불균형 자료 전처리]\\n  # [이상치가 있을 경우 정규화로 특성변수를 변환하면 정상적인 관측치를 너무 작은 값으로 변환하여 모형이 성능을 떨어뜨리므로]\\n  # [표준화를 통해 특성변수의 척도를 변환하는 것이 더 유용함]\\n'"
            ],
            "application/vnd.google.colaboratory.intrinsic+json": {
              "type": "string"
            }
          },
          "metadata": {},
          "execution_count": 253
        }
      ]
    },
    {
      "cell_type": "code",
      "source": [
        "from collections import Counter\n",
        "from sklearn.datasets import make_classification\n",
        "from imblearn.over_sampling import SMOTE, ADASYN\n",
        "\n",
        "x, y = make_classification(\n",
        "  n_classes = 3,\n",
        "    # [클래스 1, 2, 3 즉, 3가지 범주형 변수]\n",
        "  weights = [0.03, 0.07, 0.9],\n",
        "    # [클래스 1 3%, 클래스 2 7%, 클래스 3 90%]\n",
        "  n_features = 10,\n",
        "  n_clusters_per_class = 1,\n",
        "  n_samples = 2000,\n",
        "  random_state = 2023\n",
        ")\n",
        "\n",
        "print(\"Original dataset shape %s\" % Counter(y))"
      ],
      "metadata": {
        "colab": {
          "base_uri": "https://localhost:8080/"
        },
        "id": "H7rSxPxjbM_n",
        "outputId": "16a9a24a-c1a5-47c5-93dc-cc056f054484"
      },
      "execution_count": 254,
      "outputs": [
        {
          "output_type": "stream",
          "name": "stdout",
          "text": [
            "Original dataset shape Counter({2: 1782, 1: 146, 0: 72})\n"
          ]
        }
      ]
    },
    {
      "cell_type": "code",
      "source": [
        "'''\n",
        "pd.set_option(\"display.max_row\", 4)\n",
        "x = pd.DataFrame(x)\n",
        "y = pd.DataFrame(y)\n",
        "x, y\n",
        "'''"
      ],
      "metadata": {
        "colab": {
          "base_uri": "https://localhost:8080/",
          "height": 53
        },
        "id": "30MAxtrCPoT7",
        "outputId": "51ecc5db-5016-44c5-c350-ac5b54689bf6"
      },
      "execution_count": 255,
      "outputs": [
        {
          "output_type": "execute_result",
          "data": {
            "text/plain": [
              "'\\npd.set_option(\"display.max_row\", 4)\\nx = pd.DataFrame(x)\\ny = pd.DataFrame(y)\\nx, y\\n'"
            ],
            "application/vnd.google.colaboratory.intrinsic+json": {
              "type": "string"
            }
          },
          "metadata": {},
          "execution_count": 255
        }
      ]
    },
    {
      "cell_type": "code",
      "source": [
        "smote = SMOTE(random_state = 2022)\n",
        "x_res, y_res = smote.fit_resample(x, y)\n",
        "\n",
        "print(\"Resample dataset shape from SMOTE %s\" %Counter(y_res))"
      ],
      "metadata": {
        "id": "prFEjSdYbGeC",
        "colab": {
          "base_uri": "https://localhost:8080/"
        },
        "outputId": "cf8f2973-3857-49bd-803b-6cc72d57c878"
      },
      "execution_count": 256,
      "outputs": [
        {
          "output_type": "stream",
          "name": "stdout",
          "text": [
            "Resample dataset shape from SMOTE Counter({2: 1782, 1: 1782, 0: 1782})\n"
          ]
        }
      ]
    },
    {
      "cell_type": "code",
      "source": [
        "y_res\n",
        "  # [y의 소수 클래스 0, 1d에 속한 i번째 관측치]\n",
        "  # [y의 소수 클래스 0, 1에 속한 데이터의 KNN 셋 S_i에서 임의로 뽑은 관측치 x_k]\n",
        "  # [균등분포 (0, 1)에서 임의로 추출한 값 λ]\n",
        "\n",
        "  # [새로운 합성관측치 x_syn(synthetic sample)= x_i + λ*(x_k - x_i)]\n",
        "\n",
        "  # [다시 말해 KNN 관측치 찾아 해당 관측값과 최근접 이웃 관측치들 사이의 값을 생성]"
      ],
      "metadata": {
        "colab": {
          "base_uri": "https://localhost:8080/"
        },
        "id": "79H8JXHNQhjQ",
        "outputId": "ffa7b052-93aa-40c6-c98b-bdaf4558ebb4"
      },
      "execution_count": 257,
      "outputs": [
        {
          "output_type": "execute_result",
          "data": {
            "text/plain": [
              "array([2, 2, 2, ..., 1, 1, 1])"
            ]
          },
          "metadata": {},
          "execution_count": 257
        }
      ]
    },
    {
      "cell_type": "code",
      "source": [
        "adasyn = ADASYN(random_state = 2022)\n",
        "x_syn, y_syn = adasyn.fit_resample(x, y)\n",
        "\n",
        "print(\"Resample dataset shape from ADASYN %s\" %Counter(y_syn))\n",
        "  # [소수클래스 X_I에 대응하여 생성된 합성표본 수를 S_I 안에 포함된 다수클래스의 표본수와 비례하도록 추출한 것]"
      ],
      "metadata": {
        "id": "rHCHsIXWZw3o",
        "colab": {
          "base_uri": "https://localhost:8080/"
        },
        "outputId": "499b0d18-c2a5-4fb4-9c25-2e599bc92fcb"
      },
      "execution_count": 258,
      "outputs": [
        {
          "output_type": "stream",
          "name": "stdout",
          "text": [
            "Resample dataset shape from ADASYN Counter({0: 1783, 2: 1782, 1: 1754})\n"
          ]
        }
      ]
    },
    {
      "cell_type": "markdown",
      "source": [
        "### 네이버 부스트코스 : 머신러닝을 위한 파이썬 (회귀분석 알고리즘 분해), 가천대학교 산업경영공학과 최성철 교수"
      ],
      "metadata": {
        "id": "q_4_l319eo5J"
      }
    },
    {
      "cell_type": "markdown",
      "source": [
        "##### Pythonic Code : 자료구조 中 데큐와 행렬 연산\n",
        "\n",
        "기술부채의 죄책감을 덜어가는 학습"
      ],
      "metadata": {
        "id": "ZncxzGsMYKXP"
      }
    },
    {
      "cell_type": "code",
      "source": [
        "from collections import *\n",
        "import time as time"
      ],
      "metadata": {
        "id": "ALOtdv0ki9id"
      },
      "execution_count": 259,
      "outputs": []
    },
    {
      "cell_type": "code",
      "source": [
        "# Data Structure\n",
        "  # Collections \n",
        "  # deque\n",
        "  # Counter\n",
        "  # orederedDict\n",
        "  # defaultDict\n",
        "  # namedtuple"
      ],
      "metadata": {
        "id": "dsS2l8OBVI6d"
      },
      "execution_count": 260,
      "outputs": []
    },
    {
      "cell_type": "code",
      "source": [
        "start_time = time.process_time()\n",
        "\n",
        "deque_list = deque()\n",
        "  # [deque] O(1) 파이썬을 이용해서 BFS를 풀면 주로 사용하게 되는 자료구조\n",
        "  # [FIFO방식의 queue와 양방향 이중대기열 큐 deque)\n",
        "for i in range(10000):\n",
        "  for j in range(10000):\n",
        "    deque_list.append(i)\n",
        "    deque_list.pop()\n",
        "    # [Stack]\n",
        "print(time.process_time() - start_time, \"seconds\")\n",
        "    # [rotate queue를 유용하게 이용]\n",
        "    # appendleft(), extendleft(), rotate(), reverse()"
      ],
      "metadata": {
        "id": "y2u44EDdVI3G",
        "colab": {
          "base_uri": "https://localhost:8080/"
        },
        "outputId": "78fa9441-b67d-4892-c95b-a95739eba0b3"
      },
      "execution_count": 261,
      "outputs": [
        {
          "output_type": "stream",
          "name": "stdout",
          "text": [
            "15.890767967999992 seconds\n"
          ]
        }
      ]
    },
    {
      "cell_type": "code",
      "source": [
        "start_time = time.process_time()\n",
        "\n",
        "just_list: list = []\n",
        "  # [list] O(n)\n",
        "for i in range(10000):\n",
        "  for j in range(10000):\n",
        "    just_list.append(i)\n",
        "    just_list.pop()\n",
        "print(time.process_time() - start_time, \"seconds\")\n",
        "    # [rotate queue를 유용하게 이용]"
      ],
      "metadata": {
        "id": "OfMcgqDEVI06",
        "colab": {
          "base_uri": "https://localhost:8080/"
        },
        "outputId": "250a3ceb-35c7-4462-c0d6-059878349ee2"
      },
      "execution_count": 262,
      "outputs": [
        {
          "output_type": "stream",
          "name": "stdout",
          "text": [
            "25.651097980999992 seconds\n"
          ]
        }
      ]
    },
    {
      "cell_type": "code",
      "source": [
        "class Deque:\n",
        "  def __init__(self):\n",
        "    self.items = []\n",
        "\n",
        "  def isEmpty(self):\n",
        "    return self.items == []\n",
        "  \n",
        "  def addFront(self, item):\n",
        "    self.items.append(item)\n",
        "  def addRear(self, item):\n",
        "    self.items.insert(0, item)\n",
        "  \n",
        "  def removeFront(self):\n",
        "    return self.items.pop()\n",
        "  def removeRear(self):\n",
        "    return self.items.pop(0)\n",
        "\n",
        "  def size(self):\n",
        "    return len(self.items)"
      ],
      "metadata": {
        "id": "rzxvywSMqd6x"
      },
      "execution_count": 263,
      "outputs": []
    },
    {
      "cell_type": "code",
      "source": [
        "start_time = time.process_time()\n",
        "\n",
        "Deque_List = Deque()\n",
        "\n",
        "for i in range(10000):\n",
        "  for j in range(10000):\n",
        "    Deque_List.addFront(i)\n",
        "    Deque_List.removeFront()\n",
        "\n",
        "print(time.process_time() - start_time, \"seconds\")\n",
        "  # https://github.com/python/cpython/blob/main/Modules/_collectionsmodule.c\n",
        "  # cpython으로 작성된 collections module과 python의 class 구조체의 속도 차이 약 3배"
      ],
      "metadata": {
        "colab": {
          "base_uri": "https://localhost:8080/"
        },
        "id": "JeIFfof4rGaD",
        "outputId": "a1245a15-e16f-4735-9f06-b08bc454a14d"
      },
      "execution_count": 264,
      "outputs": [
        {
          "output_type": "stream",
          "name": "stdout",
          "text": [
            "50.507655011 seconds\n"
          ]
        }
      ]
    },
    {
      "cell_type": "code",
      "source": [
        "text = \"\"\"A press release is the quickest and easiest way to get free publicity. If well written, a press release can result in multiple published articles about your firm and its products. And that can mean new prospects contacting you asking you to sell to them. Talk about low-hanging fruit!\n",
        "What's more, press releases are cost effective. If the release results in an article that (for instance) appears to recommend your firm or your product, that article is more likely to drive prospects to contact you than a comparable paid advertisement.\n",
        "However, most press releases never accomplish that. Most press releases are just spray and pray. Nobody reads them, least of all the reporters and editors for whom they're intended. Worst case, a badly-written press release simply makes your firm look clueless and stupid.\n",
        "For example, a while back I received a press release containing the following sentence: \"Release 6.0 doubles the level of functionality available, providing organizations of all sizes with a fast-to-deploy, highly robust, and easy-to-use solution to better acquire, retain, and serve customers.\"\n",
        "Translation: \"The new release does more stuff.\" Why the extra verbiage? As I explained in the post \"Why Marketers Speak Biz Blab\", the BS words are simply a way to try to make something unimportant seem important. And, let's face it, a 6.0 release of a product probably isn't all that important.\n",
        "As a reporter, my immediate response to that press release was that it's not important because it expended an entire sentence saying absolutely nothing. And I assumed (probably rightly) that the company's marketing team was a bunch of idiots.\"\"\".lower().split()"
      ],
      "metadata": {
        "id": "3eAHEq5sp3YZ"
      },
      "execution_count": 265,
      "outputs": []
    },
    {
      "cell_type": "code",
      "source": [
        "print(len(text), text)"
      ],
      "metadata": {
        "colab": {
          "base_uri": "https://localhost:8080/"
        },
        "id": "K3l3v2vUp4yV",
        "outputId": "996dd453-bdd7-4d94-ed50-1024636a9b2d"
      },
      "execution_count": 266,
      "outputs": [
        {
          "output_type": "stream",
          "name": "stdout",
          "text": [
            "266 ['a', 'press', 'release', 'is', 'the', 'quickest', 'and', 'easiest', 'way', 'to', 'get', 'free', 'publicity.', 'if', 'well', 'written,', 'a', 'press', 'release', 'can', 'result', 'in', 'multiple', 'published', 'articles', 'about', 'your', 'firm', 'and', 'its', 'products.', 'and', 'that', 'can', 'mean', 'new', 'prospects', 'contacting', 'you', 'asking', 'you', 'to', 'sell', 'to', 'them.', 'talk', 'about', 'low-hanging', 'fruit!', \"what's\", 'more,', 'press', 'releases', 'are', 'cost', 'effective.', 'if', 'the', 'release', 'results', 'in', 'an', 'article', 'that', '(for', 'instance)', 'appears', 'to', 'recommend', 'your', 'firm', 'or', 'your', 'product,', 'that', 'article', 'is', 'more', 'likely', 'to', 'drive', 'prospects', 'to', 'contact', 'you', 'than', 'a', 'comparable', 'paid', 'advertisement.', 'however,', 'most', 'press', 'releases', 'never', 'accomplish', 'that.', 'most', 'press', 'releases', 'are', 'just', 'spray', 'and', 'pray.', 'nobody', 'reads', 'them,', 'least', 'of', 'all', 'the', 'reporters', 'and', 'editors', 'for', 'whom', \"they're\", 'intended.', 'worst', 'case,', 'a', 'badly-written', 'press', 'release', 'simply', 'makes', 'your', 'firm', 'look', 'clueless', 'and', 'stupid.', 'for', 'example,', 'a', 'while', 'back', 'i', 'received', 'a', 'press', 'release', 'containing', 'the', 'following', 'sentence:', '\"release', '6.0', 'doubles', 'the', 'level', 'of', 'functionality', 'available,', 'providing', 'organizations', 'of', 'all', 'sizes', 'with', 'a', 'fast-to-deploy,', 'highly', 'robust,', 'and', 'easy-to-use', 'solution', 'to', 'better', 'acquire,', 'retain,', 'and', 'serve', 'customers.\"', 'translation:', '\"the', 'new', 'release', 'does', 'more', 'stuff.\"', 'why', 'the', 'extra', 'verbiage?', 'as', 'i', 'explained', 'in', 'the', 'post', '\"why', 'marketers', 'speak', 'biz', 'blab\",', 'the', 'bs', 'words', 'are', 'simply', 'a', 'way', 'to', 'try', 'to', 'make', 'something', 'unimportant', 'seem', 'important.', 'and,', \"let's\", 'face', 'it,', 'a', '6.0', 'release', 'of', 'a', 'product', 'probably', \"isn't\", 'all', 'that', 'important.', 'as', 'a', 'reporter,', 'my', 'immediate', 'response', 'to', 'that', 'press', 'release', 'was', 'that', \"it's\", 'not', 'important', 'because', 'it', 'expended', 'an', 'entire', 'sentence', 'saying', 'absolutely', 'nothing.', 'and', 'i', 'assumed', '(probably', 'rightly)', 'that', 'the', \"company's\", 'marketing', 'team', 'was', 'a', 'bunch', 'of', 'idiots.']\n"
          ]
        }
      ]
    },
    {
      "cell_type": "code",
      "source": [
        "# defaultDict vs Dictionary\n",
        "\n",
        "word_count_Dict = {}\n",
        "  # [Dict]\n",
        "\n",
        "for word in text:\n",
        "  if word in word_count_Dict.keys():\n",
        "    word_count_Dict[word] += 1\n",
        "  else:\n",
        "    word_count_Dict[word] = 0\n",
        "print(word_count_Dict)"
      ],
      "metadata": {
        "id": "8ZPvsTkBhtBa",
        "colab": {
          "base_uri": "https://localhost:8080/"
        },
        "outputId": "1de5f2d9-e6c6-421a-ce39-7d324075780c"
      },
      "execution_count": 267,
      "outputs": [
        {
          "output_type": "stream",
          "name": "stdout",
          "text": [
            "{'a': 11, 'press': 7, 'release': 7, 'is': 1, 'the': 8, 'quickest': 0, 'and': 8, 'easiest': 0, 'way': 1, 'to': 9, 'get': 0, 'free': 0, 'publicity.': 0, 'if': 1, 'well': 0, 'written,': 0, 'can': 1, 'result': 0, 'in': 2, 'multiple': 0, 'published': 0, 'articles': 0, 'about': 1, 'your': 3, 'firm': 2, 'its': 0, 'products.': 0, 'that': 6, 'mean': 0, 'new': 1, 'prospects': 1, 'contacting': 0, 'you': 2, 'asking': 0, 'sell': 0, 'them.': 0, 'talk': 0, 'low-hanging': 0, 'fruit!': 0, \"what's\": 0, 'more,': 0, 'releases': 2, 'are': 2, 'cost': 0, 'effective.': 0, 'results': 0, 'an': 1, 'article': 1, '(for': 0, 'instance)': 0, 'appears': 0, 'recommend': 0, 'or': 0, 'product,': 0, 'more': 1, 'likely': 0, 'drive': 0, 'contact': 0, 'than': 0, 'comparable': 0, 'paid': 0, 'advertisement.': 0, 'however,': 0, 'most': 1, 'never': 0, 'accomplish': 0, 'that.': 0, 'just': 0, 'spray': 0, 'pray.': 0, 'nobody': 0, 'reads': 0, 'them,': 0, 'least': 0, 'of': 4, 'all': 2, 'reporters': 0, 'editors': 0, 'for': 1, 'whom': 0, \"they're\": 0, 'intended.': 0, 'worst': 0, 'case,': 0, 'badly-written': 0, 'simply': 1, 'makes': 0, 'look': 0, 'clueless': 0, 'stupid.': 0, 'example,': 0, 'while': 0, 'back': 0, 'i': 2, 'received': 0, 'containing': 0, 'following': 0, 'sentence:': 0, '\"release': 0, '6.0': 1, 'doubles': 0, 'level': 0, 'functionality': 0, 'available,': 0, 'providing': 0, 'organizations': 0, 'sizes': 0, 'with': 0, 'fast-to-deploy,': 0, 'highly': 0, 'robust,': 0, 'easy-to-use': 0, 'solution': 0, 'better': 0, 'acquire,': 0, 'retain,': 0, 'serve': 0, 'customers.\"': 0, 'translation:': 0, '\"the': 0, 'does': 0, 'stuff.\"': 0, 'why': 0, 'extra': 0, 'verbiage?': 0, 'as': 1, 'explained': 0, 'post': 0, '\"why': 0, 'marketers': 0, 'speak': 0, 'biz': 0, 'blab\",': 0, 'bs': 0, 'words': 0, 'try': 0, 'make': 0, 'something': 0, 'unimportant': 0, 'seem': 0, 'important.': 1, 'and,': 0, \"let's\": 0, 'face': 0, 'it,': 0, 'product': 0, 'probably': 0, \"isn't\": 0, 'reporter,': 0, 'my': 0, 'immediate': 0, 'response': 0, 'was': 1, \"it's\": 0, 'not': 0, 'important': 0, 'because': 0, 'it': 0, 'expended': 0, 'entire': 0, 'sentence': 0, 'saying': 0, 'absolutely': 0, 'nothing.': 0, 'assumed': 0, '(probably': 0, 'rightly)': 0, \"company's\": 0, 'marketing': 0, 'team': 0, 'bunch': 0, 'idiots.': 0}\n"
          ]
        }
      ]
    },
    {
      "cell_type": "code",
      "source": [
        "word_count_defaultDict = defaultdict(object)\n",
        "  # [Default Dictionary 생성]\n",
        "word_count_defaultDict = defaultdict(lambda: 0)\n",
        "  # [Default값을 0으로 설정]"
      ],
      "metadata": {
        "id": "Vz76ViWUhs-T"
      },
      "execution_count": 268,
      "outputs": []
    },
    {
      "cell_type": "code",
      "source": [
        "for word in text:\n",
        "  word_count_defaultDict[word] += 1\n",
        "    # [text 리스트 내 word의 빈도 집계]\n",
        "    # Collections.Counter()\n",
        "\n",
        "for i, v in OrderedDict(\n",
        "    # [Ordered Dictionary]\n",
        "    sorted(\n",
        "        word_count_defaultDict.items(),\n",
        "         # [value]\n",
        "        key = lambda t: t[1],\n",
        "         # [key]\n",
        "        reverse = True)\n",
        "         # [내림차순 정렬]\n",
        "    ).items():\n",
        "    print(i, v)"
      ],
      "metadata": {
        "colab": {
          "base_uri": "https://localhost:8080/"
        },
        "id": "UiQP_6YgqQbC",
        "outputId": "9d5e0ecb-1b35-4506-f767-55be857d502c"
      },
      "execution_count": 269,
      "outputs": [
        {
          "output_type": "stream",
          "name": "stdout",
          "text": [
            "a 12\n",
            "to 10\n",
            "the 9\n",
            "and 9\n",
            "press 8\n",
            "release 8\n",
            "that 7\n",
            "of 5\n",
            "your 4\n",
            "in 3\n",
            "firm 3\n",
            "you 3\n",
            "releases 3\n",
            "are 3\n",
            "all 3\n",
            "i 3\n",
            "is 2\n",
            "way 2\n",
            "if 2\n",
            "can 2\n",
            "about 2\n",
            "new 2\n",
            "prospects 2\n",
            "an 2\n",
            "article 2\n",
            "more 2\n",
            "most 2\n",
            "for 2\n",
            "simply 2\n",
            "6.0 2\n",
            "as 2\n",
            "important. 2\n",
            "was 2\n",
            "quickest 1\n",
            "easiest 1\n",
            "get 1\n",
            "free 1\n",
            "publicity. 1\n",
            "well 1\n",
            "written, 1\n",
            "result 1\n",
            "multiple 1\n",
            "published 1\n",
            "articles 1\n",
            "its 1\n",
            "products. 1\n",
            "mean 1\n",
            "contacting 1\n",
            "asking 1\n",
            "sell 1\n",
            "them. 1\n",
            "talk 1\n",
            "low-hanging 1\n",
            "fruit! 1\n",
            "what's 1\n",
            "more, 1\n",
            "cost 1\n",
            "effective. 1\n",
            "results 1\n",
            "(for 1\n",
            "instance) 1\n",
            "appears 1\n",
            "recommend 1\n",
            "or 1\n",
            "product, 1\n",
            "likely 1\n",
            "drive 1\n",
            "contact 1\n",
            "than 1\n",
            "comparable 1\n",
            "paid 1\n",
            "advertisement. 1\n",
            "however, 1\n",
            "never 1\n",
            "accomplish 1\n",
            "that. 1\n",
            "just 1\n",
            "spray 1\n",
            "pray. 1\n",
            "nobody 1\n",
            "reads 1\n",
            "them, 1\n",
            "least 1\n",
            "reporters 1\n",
            "editors 1\n",
            "whom 1\n",
            "they're 1\n",
            "intended. 1\n",
            "worst 1\n",
            "case, 1\n",
            "badly-written 1\n",
            "makes 1\n",
            "look 1\n",
            "clueless 1\n",
            "stupid. 1\n",
            "example, 1\n",
            "while 1\n",
            "back 1\n",
            "received 1\n",
            "containing 1\n",
            "following 1\n",
            "sentence: 1\n",
            "\"release 1\n",
            "doubles 1\n",
            "level 1\n",
            "functionality 1\n",
            "available, 1\n",
            "providing 1\n",
            "organizations 1\n",
            "sizes 1\n",
            "with 1\n",
            "fast-to-deploy, 1\n",
            "highly 1\n",
            "robust, 1\n",
            "easy-to-use 1\n",
            "solution 1\n",
            "better 1\n",
            "acquire, 1\n",
            "retain, 1\n",
            "serve 1\n",
            "customers.\" 1\n",
            "translation: 1\n",
            "\"the 1\n",
            "does 1\n",
            "stuff.\" 1\n",
            "why 1\n",
            "extra 1\n",
            "verbiage? 1\n",
            "explained 1\n",
            "post 1\n",
            "\"why 1\n",
            "marketers 1\n",
            "speak 1\n",
            "biz 1\n",
            "blab\", 1\n",
            "bs 1\n",
            "words 1\n",
            "try 1\n",
            "make 1\n",
            "something 1\n",
            "unimportant 1\n",
            "seem 1\n",
            "and, 1\n",
            "let's 1\n",
            "face 1\n",
            "it, 1\n",
            "product 1\n",
            "probably 1\n",
            "isn't 1\n",
            "reporter, 1\n",
            "my 1\n",
            "immediate 1\n",
            "response 1\n",
            "it's 1\n",
            "not 1\n",
            "important 1\n",
            "because 1\n",
            "it 1\n",
            "expended 1\n",
            "entire 1\n",
            "sentence 1\n",
            "saying 1\n",
            "absolutely 1\n",
            "nothing. 1\n",
            "assumed 1\n",
            "(probably 1\n",
            "rightly) 1\n",
            "company's 1\n",
            "marketing 1\n",
            "team 1\n",
            "bunch 1\n",
            "idiots. 1\n"
          ]
        }
      ]
    },
    {
      "cell_type": "code",
      "source": [
        "matrix_A = np.array([[3, 6], [4, 5]], dtype = int).reshape(2, 2)\n",
        "matrix_B = np.array([[5, 8], [3, 7]], dtype = int).reshape(2, 2)"
      ],
      "metadata": {
        "id": "tCwXsMARhs72"
      },
      "execution_count": 270,
      "outputs": []
    },
    {
      "cell_type": "code",
      "source": [
        "type(matrix_A)"
      ],
      "metadata": {
        "id": "0G7df4sOhs0p",
        "colab": {
          "base_uri": "https://localhost:8080/"
        },
        "outputId": "9ecbfe9a-587f-4b02-d84e-cf14020ab648"
      },
      "execution_count": 271,
      "outputs": [
        {
          "output_type": "execute_result",
          "data": {
            "text/plain": [
              "numpy.ndarray"
            ]
          },
          "metadata": {},
          "execution_count": 271
        }
      ]
    },
    {
      "cell_type": "code",
      "source": [
        "# 행렬 합\n",
        "\n",
        "result = [\n",
        "    [sum(row) \n",
        "    for row in zip( *t )]\n",
        "      # [원소 t를 에스터리스크(*)를 이용하여 unpack한 같은 index(row)의 합에 대한 함수 리스트 컴프리핸션]\n",
        "    for t in zip( matrix_A, matrix_B )\n",
        "      # [2차원 배열 A, B를 압축한 리스트 내 원소 t\n",
        "]\n",
        "print(result)"
      ],
      "metadata": {
        "colab": {
          "base_uri": "https://localhost:8080/"
        },
        "id": "7ZHeeTtJwDAg",
        "outputId": "08cee875-700f-438a-ca1e-b34eb3f2b7fb"
      },
      "execution_count": 272,
      "outputs": [
        {
          "output_type": "stream",
          "name": "stdout",
          "text": [
            "[[8, 14], [7, 12]]\n"
          ]
        }
      ]
    },
    {
      "cell_type": "markdown",
      "source": [
        "![image.png](data:image/png;base64,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)"
      ],
      "metadata": {
        "id": "FlONDdljzVMs"
      }
    },
    {
      "cell_type": "code",
      "source": [
        "# 스칼라 = Matrix Product\n",
        "\n",
        "alpha: int = 4\n",
        "\n",
        "result = [\n",
        "    [alpha * element\n",
        "     for element in t]\n",
        "     for t in matrix_A\n",
        "      # [2차원 배열 A의 원소 t(열벡터)에 대하여 4(행)를 곱하여(scaler) 스칼라인 result 반환]\n",
        "]\n",
        "print(result)"
      ],
      "metadata": {
        "colab": {
          "base_uri": "https://localhost:8080/"
        },
        "id": "g4tb1pjuwRZp",
        "outputId": "6831cd74-c134-40ea-e1bd-c7d2ed0cf54e"
      },
      "execution_count": 273,
      "outputs": [
        {
          "output_type": "stream",
          "name": "stdout",
          "text": [
            "[[12, 24], [16, 20]]\n"
          ]
        }
      ]
    },
    {
      "cell_type": "code",
      "source": [
        "# 전치행렬 = Matrix Transpose\n",
        "\n",
        "print(matrix_A, type(matrix_A))\n",
        "\n",
        "result = [\n",
        "    [element for element in t]\n",
        "      # [Q&A] 2차원 배열을 압축하여 index로 묶으면 행렬 변환됨\n",
        "    for t in zip(*matrix_A)\n",
        "]\n",
        "print(result, type(result))"
      ],
      "metadata": {
        "colab": {
          "base_uri": "https://localhost:8080/"
        },
        "id": "_-MCwQalw6B8",
        "outputId": "005c69e1-080b-400f-bd3d-4a9af48481da"
      },
      "execution_count": 274,
      "outputs": [
        {
          "output_type": "stream",
          "name": "stdout",
          "text": [
            "[[3 6]\n",
            " [4 5]] <class 'numpy.ndarray'>\n",
            "[[3, 4], [6, 5]] <class 'list'>\n"
          ]
        }
      ]
    },
    {
      "cell_type": "code",
      "source": [
        "# 행렬 곱\n",
        "\n",
        "matrix_Y = np.array([[1, 1, 2], [2, 1, 1]]).reshape(2, 3)\n",
        "matrix_X = np.array([[1, 1], [2, 1], [1, 3]]).reshape(3, 2)"
      ],
      "metadata": {
        "id": "n_EIaX4-yYYx"
      },
      "execution_count": 275,
      "outputs": []
    },
    {
      "cell_type": "code",
      "source": [
        "print(matrix_Y)\n",
        "  # 행(함수)\n",
        "print(matrix_X)\n",
        "  # 열(벡터)\n",
        "  # [행렬 곱은 1번째 행과 1번쩨 열을 각각 곱하여 총합 [1, 1]]\n",
        "  # [1*1 + 1*2 + 2*1 = 5]"
      ],
      "metadata": {
        "colab": {
          "base_uri": "https://localhost:8080/"
        },
        "id": "ad_zN0Ra2Vpp",
        "outputId": "55bf9c1a-cc85-4137-ed91-1dc1d9251951"
      },
      "execution_count": 276,
      "outputs": [
        {
          "output_type": "stream",
          "name": "stdout",
          "text": [
            "[[1 1 2]\n",
            " [2 1 1]]\n",
            "[[1 1]\n",
            " [2 1]\n",
            " [1 3]]\n"
          ]
        }
      ]
    },
    {
      "cell_type": "code",
      "source": [
        "np.dot(matrix_Y, matrix_X)"
      ],
      "metadata": {
        "colab": {
          "base_uri": "https://localhost:8080/"
        },
        "id": "mYSCLuEt2i7w",
        "outputId": "e6c307dc-cc52-4094-fda9-763715e015e7"
      },
      "execution_count": 277,
      "outputs": [
        {
          "output_type": "execute_result",
          "data": {
            "text/plain": [
              "array([[5, 8],\n",
              "       [5, 6]])"
            ]
          },
          "metadata": {},
          "execution_count": 277
        }
      ]
    },
    {
      "cell_type": "code",
      "source": [
        "list_dot = [\n",
        "    [sum (x * y for x,y in zip(col_X, row_Y))\n",
        "     for col_X in zip( *matrix_X )]\n",
        "      # [열벡터를 행별로 묶어 col_X 생성]\n",
        "     for row_Y in matrix_Y\n",
        "]\n",
        "print(list_dot)"
      ],
      "metadata": {
        "colab": {
          "base_uri": "https://localhost:8080/"
        },
        "id": "8mgJJZ8K3Bwx",
        "outputId": "dcf22bf8-08f3-4413-d140-f21b64395e80"
      },
      "execution_count": 278,
      "outputs": [
        {
          "output_type": "stream",
          "name": "stdout",
          "text": [
            "[[5, 8], [5, 6]]\n"
          ]
        }
      ]
    },
    {
      "cell_type": "markdown",
      "source": [
        "$ cos(\\theta) = \\frac{A⋅B}{||A||⋅||B||} = \\frac{\\Sigma^n_{i=0}A_i⋅B_i}{\\surd{\\Sigma^n_{i=0}{A_i^2}}⋅\\surd{\\Sigma^n_{i=0}{B_i^2}}  } $\n",
        "\n",
        "\"compute cosine similarity of v1 to v2: (v1 dot\n",
        "v2)/{||v1||*||v2||)\"\n",
        "\n",
        "```\n",
        "import math\n",
        "\n",
        "def get_cosine_similarity(v1,v2):\n",
        "  sumxx, sumxy, sumyy = 0, 0, 0\n",
        "  \n",
        "  for i in range(len(v1)):\n",
        "    x = v1[i]; y = v2[i]\n",
        "    sumxx += x*x\n",
        "    sumyy += y*y\n",
        "    sumxy += x*y\n",
        "  return sumxy/math.sqrt(sumxx*sumyy)\n",
        "```"
      ],
      "metadata": {
        "id": "Tg5pq6DMddn-"
      }
    },
    {
      "cell_type": "code",
      "source": [
        "# 깃허브 다운로드\n",
        "'''\n",
        "!pwd\n",
        "!git clone https://github.com/JeongJaeyoung0/function.git  \n",
        "  # [다운 받을 깃허브 clone 링크]\n",
        "!git pull  \n",
        "  # [저장소에서 변경 사항을 가져오기 위한]\n",
        "%cd ./function\t\n",
        "  # [폴더로 진입]\n",
        "!ls\n",
        "'''"
      ],
      "metadata": {
        "colab": {
          "base_uri": "https://localhost:8080/",
          "height": 72
        },
        "id": "6OOwL_3vmIRb",
        "outputId": "751eb47a-dd7a-4fa5-d01c-26db7e26d4f3"
      },
      "execution_count": 279,
      "outputs": [
        {
          "output_type": "execute_result",
          "data": {
            "text/plain": [
              "'\\n!pwd\\n!git clone https://github.com/JeongJaeyoung0/function.git  \\n  # [다운 받을 깃허브 clone 링크]\\n!git pull  \\n  # [저장소에서 변경 사항을 가져오기 위한]\\n%cd ./function\\t\\n  # [폴더로 진입]\\n!ls\\n'"
            ],
            "application/vnd.google.colaboratory.intrinsic+json": {
              "type": "string"
            }
          },
          "metadata": {},
          "execution_count": 279
        }
      ]
    },
    {
      "cell_type": "code",
      "source": [
        "# Similarity (Cosine Distance)\n",
        "\n",
        "import os\n",
        "from typing import *\n",
        "\n",
        "def get_file_list(dir_name):\n",
        "  return os.listdir(dir_name)\n",
        "  # [운영체제 파일 경로(os. list directory) 지정]\n",
        "\n",
        "'''\n",
        "if __name__ == \"__main__\":\n",
        "  # [__name__ 변수에는 __main__ 값이 저장]\n",
        "\n",
        "  dir_name == \"newsdata\"\n",
        "  file_list = get_file_list(dir_name)\n",
        "  file_list = [\n",
        "      os.path.join(dir_name, file_name) \n",
        "      for file_name in file_list\n",
        "  ]\n",
        "  # [__name__ : Create a new string object from the given object.]\n",
        "  # [파일 불러오기] https://github.com/TEAMLAB-Lecture/AI-python-connect/tree/master/codes/ch_1/news/news_data\n",
        "'''\n",
        "\n",
        "def get_contents(file_list, y_class: List, x_text: List) ->  List:\n",
        "  class_dict = {\n",
        "      1 : \"0\",\n",
        "      2 : \"0\",\n",
        "      3 : \"0\",\n",
        "      4 : \"0\",\n",
        "\n",
        "      5 : \"1\",\n",
        "      6 : \"1\",\n",
        "      7 : \"1\",\n",
        "      8 : \"1\"\n",
        "  }\n",
        "    # [파일별로 내용읽기]\n",
        "\n",
        "  for file_name in file_list:\n",
        "    try:\n",
        "      f = open(file_name, \n",
        "               \"r\",\n",
        "                # [read mode]\n",
        "               encoding = \"cp949\")\n",
        "      category = int(file_name.split(os.sep)[1].split(\"-\")[0]\n",
        "      )\n",
        "        # [Q&A] 범주 구분\n",
        "      y_class.append(class_dict[category])\n",
        "      x_text.append(f.read())\n",
        "        # [읽은 파일의 문자열 원소를 x_text 리스트에 저장]\n",
        "      f.close()\n",
        "        # [문서 닫기]\n",
        "\n",
        "    except UnicodeDecodeError as e:\n",
        "      print(e)\n",
        "      print(file_name)\n",
        "    # [예외 처리]\n",
        "\n",
        "  return x_text, y_class"
      ],
      "metadata": {
        "id": "3IIftxFvYZ9r"
      },
      "execution_count": 280,
      "outputs": []
    },
    {
      "cell_type": "markdown",
      "source": [
        "선형대수의 수식들을 python code로 작성\n",
        "\n",
        "one line code available이라고 작성한 코드의 경우 list comprehenstion으로 표현이 가능하니 for loop이 아닌 pythonic code로 도전\n",
        "\n",
        "데이터를 표현하는 언어"
      ],
      "metadata": {
        "id": "cWqLBOxmrjIB"
      }
    },
    {
      "cell_type": "code",
      "source": [
        "def vector_size_check(*vector_variables):\n",
        "    return None\n",
        "\n",
        "def vector_addition(*vector_variables):\n",
        "    return None\n",
        "\n",
        "def vector_subtraction(*vector_variables):\n",
        "    if vector_size_check(*vector_variables) == False:\n",
        "        raise ArithmeticError\n",
        "    return None\n",
        "\n",
        "def scalar_vector_product(alpha, vector_variable):\n",
        "    return None\n",
        "\n",
        "def matrix_size_check(*matrix_variables):\n",
        "    return None\n",
        "\n",
        "def is_matrix_equal(*matrix_variables):\n",
        "    return None\n",
        "\n",
        "def matrix_addition(*matrix_variables):\n",
        "    if matrix_size_check(*matrix_variables) == False:\n",
        "        raise ArithmeticError\n",
        "    return None\n",
        "\n",
        "def matrix_subtraction(*matrix_variables):\n",
        "    if matrix_size_check(*matrix_variables) == False:\n",
        "        raise ArithmeticError\n",
        "    return None\n",
        "\n",
        "def matrix_transpose(matrix_variable):\n",
        "    return None\n",
        "\n",
        "def scalar_matrix_product(alpha, matrix_variable):\n",
        "    return None\n",
        "\n",
        "def is_product_availability_matrix(matrix_a, matrix_b):\n",
        "    return None\n",
        "\n",
        "def matrix_product(matrix_a, matrix_b):\n",
        "    if is_product_availability_matrix(matrix_a, matrix_b) == False:\n",
        "        raise ArithmeticError\n",
        "    return None"
      ],
      "metadata": {
        "id": "WEkZ2STLh5cj"
      },
      "execution_count": 281,
      "outputs": []
    },
    {
      "cell_type": "code",
      "source": [
        "print(vector_size_check([1,2,3], [2,3,4], [5,6,7]))"
      ],
      "metadata": {
        "colab": {
          "base_uri": "https://localhost:8080/"
        },
        "id": "2b2qe1UgYZ7H",
        "outputId": "bf9a8c1a-2812-465f-c76b-5979582e545b"
      },
      "execution_count": 282,
      "outputs": [
        {
          "output_type": "stream",
          "name": "stdout",
          "text": [
            "None\n"
          ]
        }
      ]
    },
    {
      "cell_type": "code",
      "source": [
        "'''\n",
        "# 벡터의 길이\n",
        "# is_matrix_equal\t\n",
        "# matrix_size_check\n",
        "\n",
        "# Trial & Error 1\n",
        "\n",
        "def vector_size_check(*vector_variables):\n",
        "    result = [\n",
        "        [len(element) for element in vector_variables] \n",
        "        if type(result) == \"int\": print(True)\n",
        "        else: print(False)]\n",
        "'''\n",
        "\n",
        "'''\n",
        "# Trial & Error 2\n",
        "\n",
        "def vector_size_check(*vector_variables):\n",
        "  result = [[len(x) == len(y) for x, y in zip( *vector_variables )]]\n",
        "  if result == True: return True\n",
        "  else: return False\n",
        "    # [ValueError: not enough values to unpack (expected 2, got 1)]\n",
        "'''\n",
        "\n",
        "# Solution\n",
        "\n",
        "def vector_size_check(*vector_variables):\n",
        "    # [입력값인 배열을 튜플로 가져옴]\n",
        "  return all(len(vector_variables[0]) == x\n",
        "             for x in [len(vector) for vector in vector_variables[1:]])\n",
        "    # [맨처음 벡터의 길이 계산]\n",
        "    # [나머지 벡터의 길이를 구해주는 리스트 컴프리핸션을 x로 치환]\n",
        "    # [첫번째 인덱스의 벡터길이 == 나머지 인덱스의 벡터길이인지 확인]\n",
        "    # [all] and 조건 / [any] or 조건\n",
        "\n",
        "    # [vector간 덧셈 혹은 뺄셈 연산을 할 때 연산이 가능한 사이즈를 확인하여]\n",
        "    # [가능여부를 True 혹은 False로 반환하는 함수]"
      ],
      "metadata": {
        "id": "qeRXi_I4wrNK"
      },
      "execution_count": 283,
      "outputs": []
    },
    {
      "cell_type": "code",
      "source": [
        "print(vector_size_check([1,2,3], [2,3,4], [5,6,7]))"
      ],
      "metadata": {
        "colab": {
          "base_uri": "https://localhost:8080/"
        },
        "id": "gIgH3Is1wruY",
        "outputId": "ca22431f-06d5-4ae8-fe8a-bde4db4a9e31"
      },
      "execution_count": 284,
      "outputs": [
        {
          "output_type": "stream",
          "name": "stdout",
          "text": [
            "True\n"
          ]
        }
      ]
    },
    {
      "cell_type": "code",
      "source": [
        "'''\n",
        "# 행렬 합\n",
        "# Trial & Error\n",
        "# matrix_addition\t\n",
        "\n",
        "def vector_addition(*vector_variables):\n",
        "  if [len(vector_variables[0]) == size_x_i \n",
        "      for size_x_i in [len(vector) for vector in vector_variables[1:]]] == True:\n",
        "        [sum(x) for x in zip(vector_variables[i])]\n",
        "         lambda i: i in range(len(vector_variables) - 1)]\n",
        "  else: \n",
        "    print(\"Error\")\n",
        "'''\n",
        "  # [각 열벡터의 행별로 합산]\n",
        "\n",
        "# Solution\n",
        "\n",
        "def vector_addition(*vector_variables):\n",
        "  if vector_size_check(*vector_variables) == False:\n",
        "    raise ArithmeticError\n",
        "  return [sum(elements) for elements in zip(*vector_variables)]\n",
        "  # [TypeError: unsupported operand type(s) for +: 'int' and 'list']\n",
        "\n",
        "  # [vector간 덧셈을 실행하여 결과를 반환함]\n",
        "  # [단, 입력되는 vector의 갯수와 크기는 일정하지 않다는 제약조건]"
      ],
      "metadata": {
        "id": "D8nmAtHm1tML"
      },
      "execution_count": 285,
      "outputs": []
    },
    {
      "cell_type": "code",
      "source": [
        "print(vector_addition([1,2,3], [2,3,4], [5,6,7]))"
      ],
      "metadata": {
        "colab": {
          "base_uri": "https://localhost:8080/"
        },
        "id": "NTuCTsVX3Inu",
        "outputId": "c925b699-b95d-4af1-97dd-48747b31eae4"
      },
      "execution_count": 286,
      "outputs": [
        {
          "output_type": "stream",
          "name": "stdout",
          "text": [
            "[8, 11, 14]\n"
          ]
        }
      ]
    },
    {
      "cell_type": "code",
      "source": [
        "# 행렬 차\n",
        "# Trial & Error\n",
        "# matrix_subtraction\t\n",
        "\n",
        "def vector_subtraction(*vector_variables):\n",
        "  if all(len(vector_variables[0]) == size_x_i \n",
        "      for size_x_i in [len(vector_x) for vector_x in vector_variables[1:]]) == False:\n",
        "      raise ArithmeticError\n",
        "  return [np.extract(elements) for elements in zip(*vector_variables)]\n",
        "    # [NameError: name 'sub' is not defined]\n",
        "    # [TypeError: subtract() takes from 2 to 3 positional arguments but 1 were given]\n",
        "\n",
        "def vector_subtraction(*vector_variables):\n",
        "  if vector_size_check(*vector_variables) == False:\n",
        "    raise ArithmeticError\n",
        "  return [2 * elements[0] - sum(elements) for elements in zip(*vector_variables)]\n",
        "    # [vector간 뺄셈을 실행하여 결과를 반환함]\n",
        "    # [단, 입력되는 vector의 갯수와 크기는 일정하지 않다는 제약조건]"
      ],
      "metadata": {
        "id": "pHTEQo0c5_OY"
      },
      "execution_count": 287,
      "outputs": []
    },
    {
      "cell_type": "code",
      "source": [
        "print(vector_subtraction([1,2,3], [2,3,4], [5,6,7]))"
      ],
      "metadata": {
        "colab": {
          "base_uri": "https://localhost:8080/"
        },
        "id": "uCQQxP7F607D",
        "outputId": "8de6e0cb-bdaa-4bb8-8152-153ddbb79809"
      },
      "execution_count": 288,
      "outputs": [
        {
          "output_type": "stream",
          "name": "stdout",
          "text": [
            "[-6, -7, -8]\n"
          ]
        }
      ]
    },
    {
      "cell_type": "markdown",
      "source": [
        "$$ \\begin{bmatrix} 2 \\ 2 \\\\ 2 \\ 2 \\\\ 2 \\ 2 \\end{bmatrix} ⋅ \\begin{bmatrix} 2 \\ 5 \\\\ 2 \\ 1 \\end{bmatrix} ⋅ \\begin{bmatrix} 2 \\ 4 \\\\ 5 \\ 3 \\end{bmatrix} ⋅ \\begin{bmatrix} 2 \\ 5 \\\\ 1 \\ 1 \\\\ 2 \\ 2 \\end{bmatrix} $$"
      ],
      "metadata": {
        "id": "2KZ3SagcGnqs"
      }
    },
    {
      "cell_type": "code",
      "source": [
        "matrix_x = np.array([[2, 2], [2, 2], [2, 2]]).reshape(3, 2)\n",
        "matrix_y = np.array([[2, 5], [2, 1]]).reshape(2, 2)\n",
        "matrix_z = np.array([[2, 4], [5, 3]]).reshape(2, 2)\n",
        "matrix_w = np.array([[2, 5], [1, 1], [2, 2]]).reshape(3, 2)"
      ],
      "metadata": {
        "id": "H7b7xtOBGFz9"
      },
      "execution_count": 289,
      "outputs": []
    },
    {
      "cell_type": "code",
      "source": [
        "matrix_x "
      ],
      "metadata": {
        "colab": {
          "base_uri": "https://localhost:8080/"
        },
        "id": "RT67DfchLIRF",
        "outputId": "02477103-5c34-4e74-ecad-6091f11cdd3c"
      },
      "execution_count": 290,
      "outputs": [
        {
          "output_type": "execute_result",
          "data": {
            "text/plain": [
              "array([[2, 2],\n",
              "       [2, 2],\n",
              "       [2, 2]])"
            ]
          },
          "metadata": {},
          "execution_count": 290
        }
      ]
    },
    {
      "cell_type": "code",
      "source": [
        "# 행렬 길이 반환\n",
        "\n",
        "def matrix_size_check(*matrix_variables):\n",
        "    return all(\n",
        "        [len( set(len(matrix[0]) for matrix in matrix_variables) )  == 1]\n",
        "        ) and all(\n",
        "        [len(matrix_variables[0] == len(matrix) for matrix in matrix_variables)])\n",
        "          # [행끼리 비교] \n",
        "          # [0번째 행렬 x와의 길이와 1~3번째 행렬의 열 길이 비교]"
      ],
      "metadata": {
        "id": "n2wDW2sN7XuF"
      },
      "execution_count": 291,
      "outputs": []
    },
    {
      "cell_type": "code",
      "source": [
        "# print(matrix_size_check(matrix_x, matrix_y, matrix_z))\n",
        "  # [TypeError: object of type 'generator' has no len()]"
      ],
      "metadata": {
        "id": "Lb53WkMDGDq2"
      },
      "execution_count": 292,
      "outputs": []
    },
    {
      "cell_type": "code",
      "source": [
        "# 행렬이 동질적인지 확인\n",
        "\n",
        "# Trial & Error\n",
        "def is_matrix_equal(*matrix_variables):\n",
        "    return all([\n",
        "        [index[0] == index[1]\n",
        "         for index in zip(*row)] for row in zip(*matrix_variables)])\n",
        "      # [all] and 조건 충족 시 True / [any] or 조건"
      ],
      "metadata": {
        "id": "jr_jbLGfEeDy"
      },
      "execution_count": 293,
      "outputs": []
    },
    {
      "cell_type": "code",
      "source": [
        "print(is_matrix_equal(matrix_x, matrix_w))\n",
        "  # [False가 아닌 True로 출력되는 오류]"
      ],
      "metadata": {
        "colab": {
          "base_uri": "https://localhost:8080/"
        },
        "id": "zYI71s9PL2fl",
        "outputId": "f61f73cf-82cf-4266-e24f-eb3be1480f1c"
      },
      "execution_count": 294,
      "outputs": [
        {
          "output_type": "stream",
          "name": "stdout",
          "text": [
            "True\n"
          ]
        }
      ]
    },
    {
      "cell_type": "code",
      "source": [
        "# Solution\n",
        "\n",
        "def is_matrix_row(*matrix_variables):\n",
        "  print( [row for row in zip(*matrix_variables)] )\n",
        "    # [행별로 zip으로 압축하여 튜플화]\n",
        "    # [같은 열 위치의 행을 묶어서 저장]\n",
        "\n",
        "def is_matrix_equal(*matrix_variables):\n",
        "  return all(\n",
        "      [all(\n",
        "          [len(set(row)) == 1 for row in zip(*matrix)]\n",
        "           ) for matrix in zip(*matrix_variables)])\n",
        "  # [값이 모두 같다면 집합 set의 길이는 1이 된다]\n",
        "  # [먼저 배열에서 행 리스트 뽑고, 행 리스트에서 원소를 뽑는 for문]"
      ],
      "metadata": {
        "id": "ggsr1Bg1PXl5"
      },
      "execution_count": 295,
      "outputs": []
    },
    {
      "cell_type": "code",
      "source": [
        "print(is_matrix_row(matrix_x, matrix_w))\n",
        "print(is_matrix_equal(matrix_x, matrix_w))"
      ],
      "metadata": {
        "colab": {
          "base_uri": "https://localhost:8080/"
        },
        "id": "WTrLpIVWSFe0",
        "outputId": "0fed7eb5-e2ac-4d1b-809a-965da789561a"
      },
      "execution_count": 296,
      "outputs": [
        {
          "output_type": "stream",
          "name": "stdout",
          "text": [
            "[(array([2, 2]), array([2, 5])), (array([2, 2]), array([1, 1])), (array([2, 2]), array([2, 2]))]\n",
            "None\n",
            "False\n"
          ]
        }
      ]
    },
    {
      "cell_type": "code",
      "source": [
        "def matrix_transpose(matrix_variable):\n",
        "    return np.array([element for element in zip(*matrix_variable)])"
      ],
      "metadata": {
        "id": "jexxR2nhLxcY"
      },
      "execution_count": 297,
      "outputs": []
    },
    {
      "cell_type": "code",
      "source": [
        "matrix_w"
      ],
      "metadata": {
        "colab": {
          "base_uri": "https://localhost:8080/"
        },
        "id": "KDMnxoMUSrZL",
        "outputId": "9bb0f4a3-7cbf-467f-d70c-d1cff223dfc8"
      },
      "execution_count": 298,
      "outputs": [
        {
          "output_type": "execute_result",
          "data": {
            "text/plain": [
              "array([[2, 5],\n",
              "       [1, 1],\n",
              "       [2, 2]])"
            ]
          },
          "metadata": {},
          "execution_count": 298
        }
      ]
    },
    {
      "cell_type": "code",
      "source": [
        "matrix_transpose(matrix_w)"
      ],
      "metadata": {
        "colab": {
          "base_uri": "https://localhost:8080/"
        },
        "id": "1dtpRAyKSkzY",
        "outputId": "1fa6e0a6-3578-42f9-93e4-9200d7f0c433"
      },
      "execution_count": 299,
      "outputs": [
        {
          "output_type": "execute_result",
          "data": {
            "text/plain": [
              "array([[2, 1, 2],\n",
              "       [5, 1, 2]])"
            ]
          },
          "metadata": {},
          "execution_count": 299
        }
      ]
    },
    {
      "cell_type": "markdown",
      "source": [
        "```\n",
        "def matrix_addition(*matrix_variables):\n",
        "    if matrix_size_check(*matrix_variables) == False:\n",
        "        raise ArithmeticError\n",
        "    return None\n",
        "\n",
        "def matrix_subtraction(*matrix_variables):\n",
        "    if matrix_size_check(*matrix_variables) == False:\n",
        "        raise ArithmeticError\n",
        "    return None\n",
        "\n",
        "def matrix_product(matrix_a, matrix_b):\n",
        "    if is_product_availability_matrix(matrix_a, matrix_b) == False:\n",
        "        raise ArithmeticError\n",
        "    return None\n",
        "```"
      ],
      "metadata": {
        "id": "ADd48hGxMAhN"
      }
    },
    {
      "cell_type": "code",
      "source": [
        "# map & replace, apply & applymap\n",
        "\n",
        "ex = [1,2,3,4,5]\n",
        "f = lambda x: x ** 2\n",
        "list(map(f, ex))"
      ],
      "metadata": {
        "colab": {
          "base_uri": "https://localhost:8080/"
        },
        "id": "Ru8ls-BfVAm1",
        "outputId": "4ad1adbc-ba10-4422-f22c-bb6b2fce9244"
      },
      "execution_count": 300,
      "outputs": [
        {
          "output_type": "execute_result",
          "data": {
            "text/plain": [
              "[1, 4, 9, 16, 25]"
            ]
          },
          "metadata": {},
          "execution_count": 300
        }
      ]
    },
    {
      "cell_type": "code",
      "source": [
        "minMaxScaler = lambda x : (x - x.min()) / (x.max() - x.min())\n",
        "  # [최소최대 정규화]\n",
        "# score = lambda x: (x - x.mean()) / x.std()\n",
        "# df.transform(score)\n",
        "  # [z-점수 표준화]\n",
        "\n",
        "from sklearn.datasets import load_iris\n",
        "iris = load_iris()"
      ],
      "metadata": {
        "id": "PF6s_PCRWvB8"
      },
      "execution_count": 301,
      "outputs": []
    },
    {
      "cell_type": "code",
      "source": [
        "type(iris)\n",
        "  # [Bunch 클래스는 key-value 형식으로 구성]"
      ],
      "metadata": {
        "colab": {
          "base_uri": "https://localhost:8080/"
        },
        "id": "GXFswRNuXvMZ",
        "outputId": "e955e864-76a3-47fb-a413-7461f85422ea"
      },
      "execution_count": 302,
      "outputs": [
        {
          "output_type": "execute_result",
          "data": {
            "text/plain": [
              "sklearn.utils.Bunch"
            ]
          },
          "metadata": {},
          "execution_count": 302
        }
      ]
    },
    {
      "cell_type": "code",
      "source": [
        "iris = pd.DataFrame(data = iris[\"data\"], columns = iris[\"feature_names\"])\n",
        "iris.info()"
      ],
      "metadata": {
        "colab": {
          "base_uri": "https://localhost:8080/"
        },
        "id": "5bndRD_MYadG",
        "outputId": "44e3be26-8fa1-4024-e451-983a028aa101"
      },
      "execution_count": 303,
      "outputs": [
        {
          "output_type": "stream",
          "name": "stdout",
          "text": [
            "<class 'pandas.core.frame.DataFrame'>\n",
            "RangeIndex: 150 entries, 0 to 149\n",
            "Data columns (total 4 columns):\n",
            " #   Column             Non-Null Count  Dtype  \n",
            "---  ------             --------------  -----  \n",
            " 0   sepal length (cm)  150 non-null    float64\n",
            " 1   sepal width (cm)   150 non-null    float64\n",
            " 2   petal length (cm)  150 non-null    float64\n",
            " 3   petal width (cm)   150 non-null    float64\n",
            "dtypes: float64(4)\n",
            "memory usage: 4.8 KB\n"
          ]
        }
      ]
    },
    {
      "cell_type": "code",
      "source": [
        "sns.boxplot(data = iris)"
      ],
      "metadata": {
        "colab": {
          "base_uri": "https://localhost:8080/",
          "height": 283
        },
        "id": "EZEIxsefZBLA",
        "outputId": "7680c809-d270-4fe2-acc7-ad5d01b16085"
      },
      "execution_count": 304,
      "outputs": [
        {
          "output_type": "execute_result",
          "data": {
            "text/plain": [
              "<matplotlib.axes._subplots.AxesSubplot at 0x7faeb9f76550>"
            ]
          },
          "metadata": {},
          "execution_count": 304
        },
        {
          "output_type": "display_data",
          "data": {
            "text/plain": [
              "<Figure size 432x288 with 1 Axes>"
            ],
            "image/png": "[encoded data removed]"
          },
          "metadata": {
            "needs_background": "light"
          }
        }
      ]
    },
    {
      "cell_type": "code",
      "source": [
        "iris = iris.apply(minMaxScaler)\n",
        "  # [apply는 전체 column에 해당 함수를 적용하는 기능]\n",
        "  # [applymap은 Series가 아닌 element 단위로 함수를 적용]"
      ],
      "metadata": {
        "id": "pGMaOgkdXf-k"
      },
      "execution_count": 305,
      "outputs": []
    },
    {
      "cell_type": "code",
      "source": [
        "sns.boxplot(data = iris)"
      ],
      "metadata": {
        "colab": {
          "base_uri": "https://localhost:8080/",
          "height": 283
        },
        "id": "_VgbKczbZDGJ",
        "outputId": "800b6122-3888-4ef6-ed8c-99270ccd07fb"
      },
      "execution_count": 306,
      "outputs": [
        {
          "output_type": "execute_result",
          "data": {
            "text/plain": [
              "<matplotlib.axes._subplots.AxesSubplot at 0x7faeb9f63dc0>"
            ]
          },
          "metadata": {},
          "execution_count": 306
        },
        {
          "output_type": "display_data",
          "data": {
            "text/plain": [
              "<Figure size 432x288 with 1 Axes>"
            ],
            "image/png": "[encoded data removed]"
          },
          "metadata": {
            "needs_background": "light"
          }
        }
      ]
    },
    {
      "cell_type": "markdown",
      "source": [
        "pandas 에서 db 내의 데이터를 사용하는 방법\n",
        "\n",
        "https://github.com/TEAMLAB-Lecture/AI-python-connect/blob/master/codes/ch_3/part-2/4_db_persistence.ipynb"
      ],
      "metadata": {
        "id": "v32--ZXqcByx"
      }
    },
    {
      "cell_type": "markdown",
      "source": [
        "회귀 알고리즘 밑바닥부터 이해하기\n",
        "\n",
        "* Gradient descent based learning\n",
        "\n",
        "  실제값과 예측함수의 오차를 최소화하는 최적해(weight $θ$), 최소 또는 최대의 문제를 미분으로 해결\n",
        "\n",
        "  $ J(ω_0, ω_1) = \\frac{1}{2m} \\Sigma^m_{i=1}(h_θ(x^{(i)}) - y^{(i)})^2 $\n",
        "\n",
        "  $ arg \\ min_θ \\ \\frac{1}{2m} \\Sigma^m_{i=1}(h_θ(x^{(i)}) - y^{(i)})^2 $\n",
        "\n",
        "  $ \\frac{∂J}{∂w_0} = \\frac{1}{m} \\Sigma^m_{i=1}(w_1(x^{(i)}) + w_0 - y^{(i)}) $ \n",
        "\n",
        "  cost function, loss function(미분하거나 m으로 나눌 때), hypotheis function, chain rule\n",
        "\n",
        "  연립방정식(normal equation), 경사적 하강 문제로 weights의 최적값을 찾는 것\n",
        "\n",
        "* Probability theory based learning\n",
        "* Information theory based learning\n",
        "* Distance based learning"
      ],
      "metadata": {
        "id": "2sX4noiKYQXY"
      }
    },
    {
      "cell_type": "markdown",
      "source": [
        "$ \\Sigma(y^{(i)}) = \\hat\\omega_0⋅m + \\hat\\omega_1⋅\\Sigma(x^{(i)}) $\n",
        "\n",
        "$ \\Sigma(y^{(i)}⋅x^{(i)}) = \\hat\\omega_0⋅\\Sigma(x^{(i)}) + \\hat\\omega_1⋅\\Sigma(x^{(i)})^2 $\n",
        "\n",
        "$ 𝐗ᵀ𝐗 = \\begin{bmatrix} m \\ \\Sigma x^{(i)} \\\\ \\Sigma x^{(i)} \\ \\Sigma(x^{(i)})^2 \\end{bmatrix} = \\begin{bmatrix} m \\ m⋅\\bar{x} \\\\ m⋅bar{x} \\ \\Sigma(x^{(i)})^2 \\end{bmatrix} $\n",
        "\n",
        "$m$ = 전체 데이터의 수\n",
        "\n",
        "$ |𝐗ᵀ𝐗| = m\\Sigma(x^{(i)})^2 - (m\\bar{x})^2 = m⋅(\\Sigma(x^{(i)})^2 - m\\bar{x}^2) =  m⋅(x^{(i)} - m\\bar{x})^2 $ \n",
        "\n",
        "$ \\hatω = \\begin{bmatrix} \\omega_0 \\\\ \\omega_1 \\end{bmatrix} $\n",
        "\n",
        "$ \\hatω(𝐗ᵀ𝐗) = 𝐗ᵀ𝐲 $\n",
        "\n",
        "$ \\hatω = (𝐗ᵀ𝐗)^{-1}𝐗ᵀ𝐲 $\n",
        "\n",
        "역행렬\n",
        "\n",
        "$ (𝐗ᵀ𝐗)^{-1} = \\frac{1}{m⋅(x^{(i)} - m\\bar{x})^2} = \\begin{bmatrix}  \\Sigma(x^{(i)})^2 \\ -m⋅\\bar{x} \\\\ -m⋅\\bar{x} \\ m \\end{bmatrix} $\n",
        "\n",
        "$ \\hatω = (𝐗ᵀ𝐗)^{-1}𝐗ᵀ𝐲 = \\frac{1}{m⋅(x^{(i)} - m\\bar{x})^2} ⋅ \\begin{bmatrix}  \\Sigma(x^{(i)})^2 \\ -m⋅\\bar{x} \\\\ -m⋅\\bar{x} \\ m \\end{bmatrix} ⋅ \\begin{bmatrix} \\Sigma(y^{(i)})  \\\\ \\Sigma(y^{(i)}⋅x^{(i)}) \\end{bmatrix} $\n",
        "\n",
        "$ \\frac{1}{x^{(i)} - \\bar{x}^2} ⋅ \\begin{bmatrix}  \\Sigma(x^{(i)})^2/m \\ -\\bar{x} \\\\ -\\bar{x} \\ m \\end{bmatrix} ⋅ \\begin{bmatrix} \\Sigma(y^{(i)})  \\\\ \\Sigma(y^{(i)}⋅x^{(i)}) \\end{bmatrix} $\n",
        "\n",
        "$ \\hat\\omega_1 = \\frac{\\Sigma x^{(i)}y^{(i)} - m⋅\\bar{x}⋅\\bar{y}}{x^{(i)} - \\bar{x}^2} $\n",
        "$ \\hat\\omega_0 = \\bar{y} - \\hatω_1⋅\\bar{x} $"
      ],
      "metadata": {
        "id": "og4zyvU35XmW"
      }
    },
    {
      "cell_type": "markdown",
      "source": [
        "https://raw.githubusercontent.com/TEAMLAB-Lecture/AI-python-connect/master/lab_assignments/normal_equation_lr/train.csv\n",
        "\n",
        "https://raw.githubusercontent.com/TEAMLAB-Lecture/AI-python-connect/master/lab_assignments/normal_equation_lr/test.csv"
      ],
      "metadata": {
        "id": "Z_UYsbddP8-d"
      }
    },
    {
      "cell_type": "code",
      "source": [
        "# Scikit-Learn의 Linear Regression module 없이 Numpy module과 Class 구조체로 Normal Equation 구현\n",
        "\n",
        "class LinearRegression(object):\n",
        "  def __init__(self, fit_intercept = True, copy_X = True):\n",
        "    self.fit_intercept = fit_intercept\n",
        "    self.copy_X = copy_X\n",
        "\n",
        "    self._coef = None\n",
        "      # [계수 / 가중치]\n",
        "    self._intercept = None\n",
        "      # [절편]\n",
        "    self._new_X = None\n",
        "      # [적합할 때 입력되는 feature]\n",
        "\n",
        "  def fit(self, X, y):\n",
        "    '''\n",
        "    선형회귀분석 모형식을 적합한다.\n",
        "    Matrix X와 vector y가 입력값으로 들어오면 Normal equation(연립방정식)을 이용하여 weight값을 찾는다. \n",
        "    이때 instance가 생성되면 fit_intercept 설정에 따라 fit실행이 달라진다.\n",
        "    fit할 때는 입력되는 X의 값은 반드시 새로운 변수인 self._new_X에 저장된 후 실행되어야 한다. \n",
        "\n",
        "    fit_intercept가 True일 경우:\n",
        "      - Matrix X의 0번째 Column에 값이 1인 column vector를 추가한다. \n",
        "    \n",
        "    적합이 종료된 후 각 변수의 계수(coefficient 또는 weight값을 의미)는 self._coef와 self._intercept_coef에 저장된다.\n",
        "    이때 self._coef는 numpy array를 각 변수항의 weight값을 저장한 1차원 vector이며,\n",
        "    self._intercept_coef는 상수항의 weight를 저장한 scalar(float)이다.\n",
        "\n",
        "    Parameters\n",
        "    ----------\n",
        "    X: numpy.array, 2차원 matrix 형태로 [n_samples, n_features] 구조를 가진다.\n",
        "    y: numpy.array, 1차원 matrix 형태로 [n_targets] 구조를 가진다.\n",
        "\n",
        "    Returns\n",
        "    -------\n",
        "    self: 현재의 인스턴스가 리턴된다.\n",
        "    '''\n",
        "    pass\n",
        "\n",
        "  def predict(self, X):\n",
        "    '''\n",
        "    적합된 선형회귀분석 모형식을 사용하여 입력된 Matrix X의 예측값을 반환한다.\n",
        "    이때 입력된 Matrix X는 별도의 전처리가 없는 상태로 입력되는 것으로 가정한다.\n",
        "\n",
        "    fit_intercept가 True일 경우:\n",
        "      - Matrix X의 0번째 Column에 값이 1인 column 0(상수)를 제외한 모든 값을 정규화시킨다.\n",
        "      - 정규화할 때는 self._mu_X와 self._std_X에 있는 값을 사용한다.\n",
        "\n",
        "    Parameters\n",
        "    ----------\n",
        "    X: numpy.array, 2차원 matrix 형태로 [n_samples, n_features] 구조를 가진다.\n",
        "\n",
        "    Returns\n",
        "    -------\n",
        "    y: numpy.array, 예측값을 1차원 vector 형태로 [n_predicted_targets] 구조를 가진다.\n",
        "    '''\n",
        "    return None\n",
        "\n",
        "  @property\n",
        "  def coef(self):\n",
        "    return self._coef\n",
        "  \n",
        "  @property\n",
        "  def intercept(self):\n",
        "    return self._intercept"
      ],
      "metadata": {
        "id": "EAfyuZA4XwFS"
      },
      "execution_count": 306,
      "outputs": []
    },
    {
      "cell_type": "markdown",
      "source": [
        "  $ \\frac{∂J}{∂w_n} = \\frac{1}{m} \\Sigma^m_{i=1}(wᵀ(x^{(i)}) - y^{(i)})x_n $ Error"
      ],
      "metadata": {
        "id": "OiVw-jjsTEMY"
      }
    },
    {
      "cell_type": "code",
      "source": [
        "# 1개 이상의 feature vector로 구성된 Multivariate Linear Regression\n",
        "\n",
        "'''\n",
        "for _ in range(iterations):\n",
        "    # [_은 변수를 사용하지 않는다는 의미]\n",
        "    predictions = x.dot(theta)\n",
        "      # [dot은 행렬곱 연산자]\n",
        "\n",
        "    for n in range(theta.size):\n",
        "      partial_marginal = x[:, n]\n",
        "        # [편미분]\n",
        "      errors_x_n = (predictions - y) * partial_marginal\n",
        "      theta[n] = theta[n] - alpha * (1.0 / m) * errors_xi.sum()\n",
        "\n",
        "    theta_history.append(theta)\n",
        "    cost_history.append(compute_cost(x, y, theta))\n",
        "'''"
      ],
      "metadata": {
        "id": "cvoTTl1cRZLu"
      },
      "execution_count": null,
      "outputs": []
    },
    {
      "cell_type": "code",
      "source": [],
      "metadata": {
        "id": "Uamrsv9lT0UQ"
      },
      "execution_count": null,
      "outputs": []
    }
  ]
}